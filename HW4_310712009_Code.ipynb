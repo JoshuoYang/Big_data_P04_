{
  "cells": [
    {
      "cell_type": "markdown",
      "metadata": {
        "id": "_FivElJpUqf9"
      },
      "source": [
        "# ● Questions: \n",
        "\n",
        "○ Q1: Show the predictive framework you designed. \n",
        "\n",
        "    Hint: What features do you extract? What algorithms do you use in the framework? \n",
        "\n",
        "○ Q2: Explain the validation method you use. \n",
        "\n",
        "    Hint: Leave-one-out, Holdout, k-fold, or other methods? \n",
        "\n",
        "○ Q3: Explain the evaluation metric you use. \n",
        "\n",
        "    Hint: Don't just show the prediction results, you should show the effectiveness of your framework (e.g., using a confusion matrix). \n",
        "\n",
        "○ Q4: Show the validation results and give a summary of results. \n"
      ]
    },
    {
      "cell_type": "markdown",
      "metadata": {
        "id": "AZsu3rryp3ZQ"
      },
      "source": [
        "# Import"
      ]
    },
    {
      "cell_type": "code",
      "execution_count": null,
      "metadata": {
        "colab": {
          "base_uri": "https://localhost:8080/"
        },
        "id": "FZjQ7euxVFeH",
        "outputId": "432d8490-27b0-42b8-fcc6-6a4dcf1581bd"
      },
      "outputs": [
        {
          "output_type": "stream",
          "name": "stdout",
          "text": [
            "Drive already mounted at /content/drive; to attempt to forcibly remount, call drive.mount(\"/content/drive\", force_remount=True).\n"
          ]
        }
      ],
      "source": [
        "from google.colab import drive\n",
        "drive.mount('/content/drive')"
      ]
    },
    {
      "cell_type": "code",
      "execution_count": null,
      "metadata": {
        "colab": {
          "base_uri": "https://localhost:8080/"
        },
        "id": "UAqTajsBf0aD",
        "outputId": "7f316c4c-3d46-4db0-eb15-369ae4751707"
      },
      "outputs": [
        {
          "output_type": "stream",
          "name": "stdout",
          "text": [
            "Reading package lists... Done\n",
            "Building dependency tree       \n",
            "Reading state information... Done\n",
            "openjdk-8-jre-headless is already the newest version (8u312-b07-0ubuntu1~18.04).\n",
            "The following package was automatically installed and is no longer required:\n",
            "  libnvidia-common-460\n",
            "Use 'apt autoremove' to remove it.\n",
            "0 upgraded, 0 newly installed, 0 to remove and 42 not upgraded.\n",
            "Looking in indexes: https://pypi.org/simple, https://us-python.pkg.dev/colab-wheels/public/simple/\n",
            "Requirement already satisfied: pyspark in /usr/local/lib/python3.7/dist-packages (3.2.1)\n",
            "Requirement already satisfied: py4j==0.10.9.3 in /usr/local/lib/python3.7/dist-packages (from pyspark) (0.10.9.3)\n"
          ]
        }
      ],
      "source": [
        "!apt-get -y install openjdk-8-jre-headless\n",
        "!pip install pyspark"
      ]
    },
    {
      "cell_type": "code",
      "execution_count": null,
      "metadata": {
        "colab": {
          "base_uri": "https://localhost:8080/"
        },
        "id": "RrfT5AYuWFd4",
        "outputId": "986b5e33-7f75-4745-c24a-29eb6af123f2"
      },
      "outputs": [
        {
          "output_type": "stream",
          "name": "stdout",
          "text": [
            "Looking in indexes: https://pypi.org/simple, https://us-python.pkg.dev/colab-wheels/public/simple/\n",
            "Requirement already satisfied: xgboost in /usr/local/lib/python3.7/dist-packages (0.90)\n",
            "Requirement already satisfied: numpy in /usr/local/lib/python3.7/dist-packages (from xgboost) (1.21.6)\n",
            "Requirement already satisfied: scipy in /usr/local/lib/python3.7/dist-packages (from xgboost) (1.4.1)\n"
          ]
        }
      ],
      "source": [
        "import os\n",
        "import numpy as np\n",
        "import pandas as pd\n",
        "!pip install xgboost\n",
        "import xgboost as xgb\n",
        "import matplotlib.pyplot as plt\n",
        "from xgboost import plot_importance, plot_tree\n",
        "from sklearn.metrics import mean_squared_error\n",
        "from sklearn.preprocessing import MinMaxScaler\n",
        "from sklearn.model_selection import train_test_split, GridSearchCV"
      ]
    },
    {
      "cell_type": "code",
      "execution_count": null,
      "metadata": {
        "colab": {
          "base_uri": "https://localhost:8080/"
        },
        "id": "qSaOR8HAWWxb",
        "outputId": "d361e81e-e27e-4398-8d2a-dd3378cad2ba"
      },
      "outputs": [
        {
          "output_type": "display_data",
          "data": {
            "text/html": [
              "        <script type=\"text/javascript\">\n",
              "        window.PlotlyConfig = {MathJaxConfig: 'local'};\n",
              "        if (window.MathJax) {MathJax.Hub.Config({SVG: {font: \"STIX-Web\"}});}\n",
              "        if (typeof require !== 'undefined') {\n",
              "        require.undef(\"plotly\");\n",
              "        requirejs.config({\n",
              "            paths: {\n",
              "                'plotly': ['https://cdn.plot.ly/plotly-2.8.3.min']\n",
              "            }\n",
              "        });\n",
              "        require(['plotly'], function(Plotly) {\n",
              "            window._Plotly = Plotly;\n",
              "        });\n",
              "        }\n",
              "        </script>\n",
              "        "
            ]
          },
          "metadata": {}
        }
      ],
      "source": [
        "# Time series decomposition\n",
        "# pip install statsmodels==0.10.2 #!pip install stldecompose\n",
        "# from stldecompose import decompose\n",
        "# from .stl import decompose, forecast\n",
        "\n",
        "# Chart drawing\n",
        "# pip install plotly\n",
        "import plotly as py\n",
        "import plotly.io as pio\n",
        "import plotly.graph_objects as go\n",
        "from plotly.subplots import make_subplots\n",
        "from plotly.offline import download_plotlyjs, init_notebook_mode, plot, iplot\n",
        "\n",
        "# Mute sklearn warnings\n",
        "from warnings import simplefilter\n",
        "simplefilter(action='ignore', category=FutureWarning)\n",
        "simplefilter(action='ignore', category=DeprecationWarning)\n",
        "\n",
        "# Show charts when running kernel\n",
        "init_notebook_mode(connected=True)\n",
        "\n",
        "# Change default background color for all visualizations\n",
        "layout=go.Layout(paper_bgcolor='rgba(0,0,0,0)', plot_bgcolor='rgba(250,250,250,0.8)')\n",
        "fig = go.Figure(layout=layout)\n",
        "templated_fig = pio.to_templated(fig)\n",
        "pio.templates['my_template'] = templated_fig.layout.template\n",
        "pio.templates.default = 'my_template'"
      ]
    },
    {
      "cell_type": "code",
      "execution_count": null,
      "metadata": {
        "id": "0bXLOKjBEHSq"
      },
      "outputs": [],
      "source": [
        "import pandas as pd\n",
        "from pyspark.sql import SparkSession\n",
        "from pyspark import SparkConf, SparkContext\n",
        "from pyspark.sql.types import IntegerType, StringType\n",
        "from pyspark.sql.functions import countDistinct, when, udf\n",
        "import pyspark.sql.functions as F\n",
        "import pyspark\n",
        "from datetime import datetime\n",
        "from calendar import monthrange"
      ]
    },
    {
      "cell_type": "code",
      "execution_count": null,
      "metadata": {
        "id": "FBAvCgjyeb93"
      },
      "outputs": [],
      "source": [
        "spark = SparkSession.builder.master(\"local[*]\").appName(\"HW4\").getOrCreate()\n",
        "sparkcontext = spark.sparkContext"
      ]
    },
    {
      "cell_type": "markdown",
      "metadata": {
        "id": "0mbnmhhaWg-b"
      },
      "source": [
        "## Read data"
      ]
    },
    {
      "cell_type": "code",
      "execution_count": null,
      "metadata": {
        "colab": {
          "base_uri": "https://localhost:8080/"
        },
        "id": "gxWMfNw8Xjok",
        "outputId": "2a21946d-d566-4bca-a95c-d3ec9779b5a4"
      },
      "outputs": [
        {
          "output_type": "stream",
          "name": "stdout",
          "text": [
            "+----+-----+----------+---------+-------+----------+-------+----------+-------------+---------+-------+-----------------+--------------+-------+--------+--------+------+----+--------+------+-------+---------+----------------+--------+------------+------------+--------+-------------+-----------------+\n",
            "|Year|Month|DayofMonth|DayOfWeek|DepTime|CRSDepTime|ArrTime|CRSArrTime|UniqueCarrier|FlightNum|TailNum|ActualElapsedTime|CRSElapsedTime|AirTime|ArrDelay|DepDelay|Origin|Dest|Distance|TaxiIn|TaxiOut|Cancelled|CancellationCode|Diverted|CarrierDelay|WeatherDelay|NASDelay|SecurityDelay|LateAircraftDelay|\n",
            "+----+-----+----------+---------+-------+----------+-------+----------+-------------+---------+-------+-----------------+--------------+-------+--------+--------+------+----+--------+------+-------+---------+----------------+--------+------------+------------+--------+-------------+-----------------+\n",
            "|2003|    1|        29|        3|   1651|      1655|   1912|      1913|           UA|     1017| N202UA|              141|           138|    119|      -1|      -4|   ORD| MSY|     837|     5|     17|        0|              NA|       0|          NA|          NA|      NA|           NA|               NA|\n",
            "|2003|    1|        30|        4|   1654|      1655|   1910|      1913|           UA|     1017| N311UA|              136|           138|    108|      -3|      -1|   ORD| MSY|     837|     2|     26|        0|              NA|       0|          NA|          NA|      NA|           NA|               NA|\n",
            "|2003|    1|        31|        5|   1724|      1655|   1936|      1913|           UA|     1017| N317UA|              132|           138|    110|      23|      29|   ORD| MSY|     837|     5|     17|        0|              NA|       0|          NA|          NA|      NA|           NA|               NA|\n",
            "|2003|    1|         1|        3|   1033|      1035|   1625|      1634|           UA|     1018| N409UA|              232|           239|    215|      -9|      -2|   OAK| ORD|    1835|     6|     11|        0|              NA|       0|          NA|          NA|      NA|           NA|               NA|\n",
            "|2003|    1|         2|        4|   1053|      1035|   1726|      1634|           UA|     1018| N496UA|              273|           239|    214|      52|      18|   OAK| ORD|    1835|    13|     46|        0|              NA|       0|          NA|          NA|      NA|           NA|               NA|\n",
            "|2003|    1|         3|        5|   1031|      1035|   1640|      1634|           UA|     1018| N412UA|              249|           239|    223|       6|      -4|   OAK| ORD|    1835|    13|     13|        0|              NA|       0|          NA|          NA|      NA|           NA|               NA|\n",
            "|2003|    1|         4|        6|   1031|      1035|   1626|      1634|           UA|     1018| N455UA|              235|           239|    219|      -8|      -4|   OAK| ORD|    1835|     5|     11|        0|              NA|       0|          NA|          NA|      NA|           NA|               NA|\n",
            "|2003|    1|         5|        7|   1035|      1035|   1636|      1634|           UA|     1018| N828UA|              241|           239|    227|       2|       0|   OAK| ORD|    1835|     5|      9|        0|              NA|       0|          NA|          NA|      NA|           NA|               NA|\n",
            "|2003|    1|         6|        1|   1031|      1035|   1653|      1634|           UA|     1018| N453UA|              262|           239|    241|      19|      -4|   OAK| ORD|    1835|     7|     14|        0|              NA|       0|          NA|          NA|      NA|           NA|               NA|\n",
            "|2003|    1|         1|        3|   1713|      1710|   1851|      1847|           UA|     1020| N567UA|               98|            97|     62|       4|       3|   IAD| BOS|     413|     7|     29|        0|              NA|       0|          NA|          NA|      NA|           NA|               NA|\n",
            "|2003|    1|         2|        4|   1706|      1710|   1824|      1847|           UA|     1020| N561UA|               78|            97|     59|     -23|      -4|   IAD| BOS|     413|     7|     12|        0|              NA|       0|          NA|          NA|      NA|           NA|               NA|\n",
            "|2003|    1|         3|        5|   1707|      1710|   1828|      1847|           UA|     1020| N554UA|               81|            97|     58|     -19|      -3|   IAD| BOS|     413|     8|     15|        0|              NA|       0|          NA|          NA|      NA|           NA|               NA|\n",
            "|2003|    1|         4|        6|   1710|      1710|   1835|      1847|           UA|     1020| N535UA|               85|            97|     61|     -12|       0|   IAD| BOS|     413|     8|     16|        0|              NA|       0|          NA|          NA|      NA|           NA|               NA|\n",
            "|2003|    1|         5|        7|   1832|      1710|   1951|      1847|           UA|     1020| N571UA|               79|            97|     57|      64|      82|   IAD| BOS|     413|     7|     15|        0|              NA|       0|          NA|          NA|      NA|           NA|               NA|\n",
            "|2003|    1|         6|        1|   1710|      1710|   1843|      1847|           UA|     1020| N530UA|               93|            97|     58|      -4|       0|   IAD| BOS|     413|    13|     22|        0|              NA|       0|          NA|          NA|      NA|           NA|               NA|\n",
            "|2003|    1|         7|        2|   1712|      1710|   1839|      1847|           UA|     1020| N553UA|               87|            97|     71|      -8|       2|   IAD| BOS|     413|     4|     12|        0|              NA|       0|          NA|          NA|      NA|           NA|               NA|\n",
            "|2003|    1|         8|        3|   1706|      1710|   1826|      1847|           UA|     1020| N525UA|               80|            97|     65|     -21|      -4|   IAD| BOS|     413|     4|     11|        0|              NA|       0|          NA|          NA|      NA|           NA|               NA|\n",
            "|2003|    1|         9|        4|   1706|      1710|   1820|      1847|           UA|     1020| N585UA|               74|            97|     55|     -27|      -4|   IAD| BOS|     413|     6|     13|        0|              NA|       0|          NA|          NA|      NA|           NA|               NA|\n",
            "|2003|    1|        10|        5|   1707|      1710|   1831|      1847|           UA|     1020| N531UA|               84|            97|     56|     -16|      -3|   IAD| BOS|     413|     6|     22|        0|              NA|       0|          NA|          NA|      NA|           NA|               NA|\n",
            "|2003|    1|        11|        6|   1708|      1710|   1831|      1847|           UA|     1020| N481UA|               83|            97|     66|     -16|      -2|   IAD| BOS|     413|     5|     12|        0|              NA|       0|          NA|          NA|      NA|           NA|               NA|\n",
            "+----+-----+----------+---------+-------+----------+-------+----------+-------------+---------+-------+-----------------+--------------+-------+--------+--------+------+----+--------+------+-------+---------+----------------+--------+------------+------------+--------+-------------+-----------------+\n",
            "only showing top 20 rows\n",
            "\n"
          ]
        }
      ],
      "source": [
        "path1 = '/content/drive/MyDrive/01_GMBA/2nd_semester(2022)/03-1AM_Big Data Analytics Techniques and Applications/0427_0525HW4/HW4/datasets/2003.csv'\n",
        "path2 = '/content/drive/MyDrive/01_GMBA/2nd_semester(2022)/03-1AM_Big Data Analytics Techniques and Applications/0427_0525HW4/HW4/datasets/2004.csv'\n",
        "path3 = '/content/drive/MyDrive/01_GMBA/2nd_semester(2022)/03-1AM_Big Data Analytics Techniques and Applications/0427_0525HW4/HW4/datasets/2005.csv'\n",
        "\n",
        "\n",
        "# data\n",
        "data_1 = spark.read.csv(path1, header=True, inferSchema=True)\n",
        "data_2 = spark.read.csv(path2, header=True, inferSchema=True)\n",
        "data_3 = spark.read.csv(path3, header=True, inferSchema=True)\n",
        "data_1.show()"
      ]
    },
    {
      "cell_type": "code",
      "execution_count": null,
      "metadata": {
        "id": "ILtUzAsn8Le6"
      },
      "outputs": [],
      "source": [
        "from functools import reduce\n",
        "from pyspark.sql import DataFrame\n",
        "\n",
        "dfs = [data_1,data_2,data_3]\n",
        "data_all = reduce(DataFrame.unionAll, dfs)\n",
        "# data_Year = data_all.select('Year').distinct().collect()\n",
        "# data_Year"
      ]
    },
    {
      "cell_type": "markdown",
      "metadata": {
        "id": "hlWyw_ufJgHB"
      },
      "source": [
        ""
      ]
    },
    {
      "cell_type": "code",
      "execution_count": null,
      "metadata": {
        "id": "UNR_VnoG4x9e"
      },
      "outputs": [],
      "source": [
        "# %pyspark\n",
        "\n",
        "from pyspark import SparkContext \n",
        "from pyspark.sql import SQLContext\n",
        "import pyspark.sql.functions as F\n",
        "from pyspark.sql.types import *\n",
        "from pyspark.ml.classification import LogisticRegression\n",
        "from pyspark.mllib.util import MLUtils\n",
        "from pyspark.ml.feature import OneHotEncoder, StringIndexer, StandardScaler, Imputer, VectorAssembler, SQLTransformer\n",
        "from pyspark.mllib.evaluation import BinaryClassificationMetrics, MulticlassMetrics\n",
        "from pyspark.ml.tuning import CrossValidator, ParamGridBuilder, CrossValidatorModel\n",
        "from pyspark.ml.evaluation import BinaryClassificationEvaluator\n",
        "from pyspark.ml import Pipeline, PipelineModel\n",
        "from pyspark.ml.linalg import Vectors"
      ]
    },
    {
      "cell_type": "code",
      "execution_count": null,
      "metadata": {
        "id": "LsUDlX2WjENS"
      },
      "outputs": [],
      "source": [
        "# import pyspark.sql.functions as f\n",
        "# # \"Plate\", \"License Type\", \"State\", \"County\", \"Issue Date\", \"Violation Time\", \"Fine Amount\", \"Precinct\", \"Violation\"\n",
        "# data_1_1 = data_0.select(\"County\", \"Issue Date\", \"Violation Time\", \"Fine Amount\", \"Violation\")\n",
        "# data_1_1.show()"
      ]
    },
    {
      "cell_type": "markdown",
      "metadata": {
        "id": "Je91MRqD0fty"
      },
      "source": [
        "# Data processing"
      ]
    },
    {
      "cell_type": "code",
      "execution_count": null,
      "metadata": {
        "id": "tPxm8dV24Cij"
      },
      "outputs": [],
      "source": [
        "import pandas as pd\n",
        "from pyspark.sql import SparkSession\n",
        "from pyspark import SparkConf, SparkContext\n",
        "from pyspark.sql.types import IntegerType, StringType\n",
        "import pyspark.sql.functions as F\n",
        "import pyspark"
      ]
    },
    {
      "cell_type": "code",
      "execution_count": null,
      "metadata": {
        "id": "qMof643_-wAN"
      },
      "outputs": [],
      "source": [
        "data_0 = data_all\n",
        "# distinct_UniqueCarrier = data_0.select(\"UniqueCarrier\").distinct().rdd.flatMap(lambda x: x).collect()\n",
        "# distinct_TailNum = data_0.select(\"TailNum\").distinct().rdd.flatMap(lambda x: x).collect()\n",
        "# distinct_Origin = data_0.select(\"Origin\").distinct().rdd.flatMap(lambda x: x).collect()\n",
        "# distinct_Dest = data_0.select(\"Dest\").distinct().rdd.flatMap(lambda x: x).collect()\n",
        "# distinct_UniqueCarrier"
      ]
    },
    {
      "cell_type": "code",
      "execution_count": null,
      "metadata": {
        "colab": {
          "base_uri": "https://localhost:8080/"
        },
        "id": "OTpqXiLXEHHI",
        "outputId": "f93ebd3d-9a6d-4ba7-d2f2-6820c90ffce8"
      },
      "outputs": [
        {
          "output_type": "stream",
          "name": "stdout",
          "text": [
            "+----+-----+----------+---------+-------+----------+-------+----------+-------------+---------+-------+-----------------+--------------+-------+--------+--------+------+----+--------+------+-------+---------+----------------+--------+------------+------------+--------+-------------+-----------------+\n",
            "|Year|Month|DayofMonth|DayOfWeek|DepTime|CRSDepTime|ArrTime|CRSArrTime|UniqueCarrier|FlightNum|TailNum|ActualElapsedTime|CRSElapsedTime|AirTime|ArrDelay|DepDelay|Origin|Dest|Distance|TaxiIn|TaxiOut|Cancelled|CancellationCode|Diverted|CarrierDelay|WeatherDelay|NASDelay|SecurityDelay|LateAircraftDelay|\n",
            "+----+-----+----------+---------+-------+----------+-------+----------+-------------+---------+-------+-----------------+--------------+-------+--------+--------+------+----+--------+------+-------+---------+----------------+--------+------------+------------+--------+-------------+-----------------+\n",
            "|2003|    1|        29|        3|   1651|      1655|   1912|      1913|           UA|     1017| N202UA|              141|           138|    119|      -1|      -4|   ORD| MSY|     837|     5|     17|        0|              NA|       0|          NA|          NA|      NA|           NA|               NA|\n",
            "|2003|    1|        30|        4|   1654|      1655|   1910|      1913|           UA|     1017| N311UA|              136|           138|    108|      -3|      -1|   ORD| MSY|     837|     2|     26|        0|              NA|       0|          NA|          NA|      NA|           NA|               NA|\n",
            "|2003|    1|        31|        5|   1724|      1655|   1936|      1913|           UA|     1017| N317UA|              132|           138|    110|      23|      29|   ORD| MSY|     837|     5|     17|        0|              NA|       0|          NA|          NA|      NA|           NA|               NA|\n",
            "|2003|    1|         1|        3|   1033|      1035|   1625|      1634|           UA|     1018| N409UA|              232|           239|    215|      -9|      -2|   OAK| ORD|    1835|     6|     11|        0|              NA|       0|          NA|          NA|      NA|           NA|               NA|\n",
            "|2003|    1|         2|        4|   1053|      1035|   1726|      1634|           UA|     1018| N496UA|              273|           239|    214|      52|      18|   OAK| ORD|    1835|    13|     46|        0|              NA|       0|          NA|          NA|      NA|           NA|               NA|\n",
            "|2003|    1|         3|        5|   1031|      1035|   1640|      1634|           UA|     1018| N412UA|              249|           239|    223|       6|      -4|   OAK| ORD|    1835|    13|     13|        0|              NA|       0|          NA|          NA|      NA|           NA|               NA|\n",
            "|2003|    1|         4|        6|   1031|      1035|   1626|      1634|           UA|     1018| N455UA|              235|           239|    219|      -8|      -4|   OAK| ORD|    1835|     5|     11|        0|              NA|       0|          NA|          NA|      NA|           NA|               NA|\n",
            "|2003|    1|         5|        7|   1035|      1035|   1636|      1634|           UA|     1018| N828UA|              241|           239|    227|       2|       0|   OAK| ORD|    1835|     5|      9|        0|              NA|       0|          NA|          NA|      NA|           NA|               NA|\n",
            "|2003|    1|         6|        1|   1031|      1035|   1653|      1634|           UA|     1018| N453UA|              262|           239|    241|      19|      -4|   OAK| ORD|    1835|     7|     14|        0|              NA|       0|          NA|          NA|      NA|           NA|               NA|\n",
            "|2003|    1|         1|        3|   1713|      1710|   1851|      1847|           UA|     1020| N567UA|               98|            97|     62|       4|       3|   IAD| BOS|     413|     7|     29|        0|              NA|       0|          NA|          NA|      NA|           NA|               NA|\n",
            "|2003|    1|         2|        4|   1706|      1710|   1824|      1847|           UA|     1020| N561UA|               78|            97|     59|     -23|      -4|   IAD| BOS|     413|     7|     12|        0|              NA|       0|          NA|          NA|      NA|           NA|               NA|\n",
            "|2003|    1|         3|        5|   1707|      1710|   1828|      1847|           UA|     1020| N554UA|               81|            97|     58|     -19|      -3|   IAD| BOS|     413|     8|     15|        0|              NA|       0|          NA|          NA|      NA|           NA|               NA|\n",
            "|2003|    1|         4|        6|   1710|      1710|   1835|      1847|           UA|     1020| N535UA|               85|            97|     61|     -12|       0|   IAD| BOS|     413|     8|     16|        0|              NA|       0|          NA|          NA|      NA|           NA|               NA|\n",
            "|2003|    1|         5|        7|   1832|      1710|   1951|      1847|           UA|     1020| N571UA|               79|            97|     57|      64|      82|   IAD| BOS|     413|     7|     15|        0|              NA|       0|          NA|          NA|      NA|           NA|               NA|\n",
            "|2003|    1|         6|        1|   1710|      1710|   1843|      1847|           UA|     1020| N530UA|               93|            97|     58|      -4|       0|   IAD| BOS|     413|    13|     22|        0|              NA|       0|          NA|          NA|      NA|           NA|               NA|\n",
            "|2003|    1|         7|        2|   1712|      1710|   1839|      1847|           UA|     1020| N553UA|               87|            97|     71|      -8|       2|   IAD| BOS|     413|     4|     12|        0|              NA|       0|          NA|          NA|      NA|           NA|               NA|\n",
            "|2003|    1|         8|        3|   1706|      1710|   1826|      1847|           UA|     1020| N525UA|               80|            97|     65|     -21|      -4|   IAD| BOS|     413|     4|     11|        0|              NA|       0|          NA|          NA|      NA|           NA|               NA|\n",
            "|2003|    1|         9|        4|   1706|      1710|   1820|      1847|           UA|     1020| N585UA|               74|            97|     55|     -27|      -4|   IAD| BOS|     413|     6|     13|        0|              NA|       0|          NA|          NA|      NA|           NA|               NA|\n",
            "|2003|    1|        10|        5|   1707|      1710|   1831|      1847|           UA|     1020| N531UA|               84|            97|     56|     -16|      -3|   IAD| BOS|     413|     6|     22|        0|              NA|       0|          NA|          NA|      NA|           NA|               NA|\n",
            "|2003|    1|        11|        6|   1708|      1710|   1831|      1847|           UA|     1020| N481UA|               83|            97|     66|     -16|      -2|   IAD| BOS|     413|     5|     12|        0|              NA|       0|          NA|          NA|      NA|           NA|               NA|\n",
            "+----+-----+----------+---------+-------+----------+-------+----------+-------------+---------+-------+-----------------+--------------+-------+--------+--------+------+----+--------+------+-------+---------+----------------+--------+------------+------------+--------+-------------+-----------------+\n",
            "only showing top 20 rows\n",
            "\n"
          ]
        }
      ],
      "source": [
        "# data_2 = data_1.select(\"County\",\"month\",\"day\",\"Violation_Hour\",\"Issue_Weekday\",\"avg(Fine Amount)\",\"count(Violation)\")\n",
        "# data_1 = data_0.select(data_0.columns[0:22])\n",
        "data_1 = data_0\n",
        "\n",
        "data_1.show()"
      ]
    },
    {
      "cell_type": "code",
      "execution_count": null,
      "metadata": {
        "id": "syWXjIAsqTve"
      },
      "outputs": [],
      "source": [
        "from pyspark.sql.types import DoubleType\n",
        "data_1 = data_1.withColumn(\"ArrDelay\", data_1[\"ArrDelay\"].cast(IntegerType()))\n",
        "data_1 = data_1.withColumn(\"DepDelay\", data_1[\"DepDelay\"].cast(IntegerType()))\n",
        "data_1 = data_1.withColumn(\"DepTime\", data_1[\"DepTime\"].cast(IntegerType())) #.cast(\"float\").alias('DepTime'))\n",
        "data_1 = data_1.withColumn(\"CRSDepTime\", data_1[\"CRSDepTime\"].cast(IntegerType()))#.cast(\"float\").alias('CRSDepTime'))\n",
        "data_1 = data_1.withColumn(\"ArrTime\", data_1[\"ArrTime\"].cast(IntegerType()))#.cast(\"float\").alias('ArrTime'))\n",
        "data_1 = data_1.withColumn(\"ActualElapsedTime\", data_1[\"ActualElapsedTime\"].cast(IntegerType()))#.cast(\"float\").alias('ActualElapsedTime'))\n",
        "data_1 = data_1.withColumn(\"CRSElapsedTime\", data_1[\"CRSElapsedTime\"].cast(IntegerType()))#.cast(\"float\").alias('CRSElapsedTime'))\n",
        "data_1 = data_1.withColumn(\"AirTime\", data_1[\"AirTime\"].cast(IntegerType()))#.cast(\"float\").alias('AirTime'))"
      ]
    },
    {
      "cell_type": "code",
      "execution_count": null,
      "metadata": {
        "colab": {
          "base_uri": "https://localhost:8080/"
        },
        "id": "4NFJAnugqar2",
        "outputId": "96f82574-b0d3-479b-a26d-7c8092368694"
      },
      "outputs": [
        {
          "output_type": "execute_result",
          "data": {
            "text/plain": [
              "[('Year', 'int'),\n",
              " ('Month', 'int'),\n",
              " ('DayofMonth', 'int'),\n",
              " ('DayOfWeek', 'int'),\n",
              " ('DepTime', 'int'),\n",
              " ('CRSDepTime', 'int'),\n",
              " ('ArrTime', 'int'),\n",
              " ('CRSArrTime', 'int'),\n",
              " ('UniqueCarrier', 'string'),\n",
              " ('FlightNum', 'int'),\n",
              " ('TailNum', 'string'),\n",
              " ('ActualElapsedTime', 'int'),\n",
              " ('CRSElapsedTime', 'int'),\n",
              " ('AirTime', 'int'),\n",
              " ('ArrDelay', 'int'),\n",
              " ('DepDelay', 'int'),\n",
              " ('Origin', 'string'),\n",
              " ('Dest', 'string'),\n",
              " ('Distance', 'int'),\n",
              " ('TaxiIn', 'int'),\n",
              " ('TaxiOut', 'int'),\n",
              " ('Cancelled', 'int'),\n",
              " ('CancellationCode', 'string'),\n",
              " ('Diverted', 'int'),\n",
              " ('CarrierDelay', 'string'),\n",
              " ('WeatherDelay', 'string'),\n",
              " ('NASDelay', 'string'),\n",
              " ('SecurityDelay', 'string'),\n",
              " ('LateAircraftDelay', 'string')]"
            ]
          },
          "metadata": {},
          "execution_count": 15
        }
      ],
      "source": [
        "data_1.dtypes"
      ]
    },
    {
      "cell_type": "code",
      "execution_count": null,
      "metadata": {
        "colab": {
          "base_uri": "https://localhost:8080/"
        },
        "id": "5M1MmPmErsp2",
        "outputId": "68b5d95d-7924-4d55-8f45-e2eff725f7a8"
      },
      "outputs": [
        {
          "output_type": "execute_result",
          "data": {
            "text/plain": [
              "DataFrame[Year: int, Month: int, DayofMonth: int, DayOfWeek: int, DepTime: int, CRSDepTime: int, ArrTime: int, CRSArrTime: int, UniqueCarrier: string, FlightNum: int, TailNum: string, ActualElapsedTime: int, CRSElapsedTime: int, AirTime: int, ArrDelay: int, DepDelay: int, Origin: string, Dest: string, Distance: int, TaxiIn: int, TaxiOut: int, Cancelled: int, CancellationCode: string, Diverted: int, CarrierDelay: string, WeatherDelay: string, NASDelay: string, SecurityDelay: string, LateAircraftDelay: string]"
            ]
          },
          "metadata": {},
          "execution_count": 16
        }
      ],
      "source": [
        "data_1.dropna()"
      ]
    },
    {
      "cell_type": "code",
      "execution_count": null,
      "metadata": {
        "colab": {
          "base_uri": "https://localhost:8080/"
        },
        "id": "gS6sdNln8UdR",
        "outputId": "b546ed87-2c12-4316-b33a-778eb84add5e"
      },
      "outputs": [
        {
          "output_type": "stream",
          "name": "stdout",
          "text": [
            "+----+-----+----------+---------+-------+----------+-------+----------+-------------+---------+-------+-----------------+--------------+-------+--------+--------+------+----+--------+------+-------+---------+----------------+--------+------------+------------+--------+-------------+-----------------+--------------+--------------+\n",
            "|Year|Month|DayofMonth|DayOfWeek|DepTime|CRSDepTime|ArrTime|CRSArrTime|UniqueCarrier|FlightNum|TailNum|ActualElapsedTime|CRSElapsedTime|AirTime|ArrDelay|DepDelay|Origin|Dest|Distance|TaxiIn|TaxiOut|Cancelled|CancellationCode|Diverted|CarrierDelay|WeatherDelay|NASDelay|SecurityDelay|LateAircraftDelay|delay_ArrDelay|delay_DepDelay|\n",
            "+----+-----+----------+---------+-------+----------+-------+----------+-------------+---------+-------+-----------------+--------------+-------+--------+--------+------+----+--------+------+-------+---------+----------------+--------+------------+------------+--------+-------------+-----------------+--------------+--------------+\n",
            "|2003|    1|        29|        3|   1651|      1655|   1912|      1913|           UA|     1017| N202UA|              141|           138|    119|      -1|      -4|   ORD| MSY|     837|     5|     17|        0|              NA|       0|          NA|          NA|      NA|           NA|               NA|             0|             0|\n",
            "|2003|    1|        30|        4|   1654|      1655|   1910|      1913|           UA|     1017| N311UA|              136|           138|    108|      -3|      -1|   ORD| MSY|     837|     2|     26|        0|              NA|       0|          NA|          NA|      NA|           NA|               NA|             0|             0|\n",
            "|2003|    1|        31|        5|   1724|      1655|   1936|      1913|           UA|     1017| N317UA|              132|           138|    110|      23|      29|   ORD| MSY|     837|     5|     17|        0|              NA|       0|          NA|          NA|      NA|           NA|               NA|             1|             1|\n",
            "|2003|    1|         1|        3|   1033|      1035|   1625|      1634|           UA|     1018| N409UA|              232|           239|    215|      -9|      -2|   OAK| ORD|    1835|     6|     11|        0|              NA|       0|          NA|          NA|      NA|           NA|               NA|             0|             0|\n",
            "|2003|    1|         2|        4|   1053|      1035|   1726|      1634|           UA|     1018| N496UA|              273|           239|    214|      52|      18|   OAK| ORD|    1835|    13|     46|        0|              NA|       0|          NA|          NA|      NA|           NA|               NA|             1|             1|\n",
            "|2003|    1|         3|        5|   1031|      1035|   1640|      1634|           UA|     1018| N412UA|              249|           239|    223|       6|      -4|   OAK| ORD|    1835|    13|     13|        0|              NA|       0|          NA|          NA|      NA|           NA|               NA|             1|             0|\n",
            "|2003|    1|         4|        6|   1031|      1035|   1626|      1634|           UA|     1018| N455UA|              235|           239|    219|      -8|      -4|   OAK| ORD|    1835|     5|     11|        0|              NA|       0|          NA|          NA|      NA|           NA|               NA|             0|             0|\n",
            "|2003|    1|         5|        7|   1035|      1035|   1636|      1634|           UA|     1018| N828UA|              241|           239|    227|       2|       0|   OAK| ORD|    1835|     5|      9|        0|              NA|       0|          NA|          NA|      NA|           NA|               NA|             1|             1|\n",
            "|2003|    1|         6|        1|   1031|      1035|   1653|      1634|           UA|     1018| N453UA|              262|           239|    241|      19|      -4|   OAK| ORD|    1835|     7|     14|        0|              NA|       0|          NA|          NA|      NA|           NA|               NA|             1|             0|\n",
            "|2003|    1|         1|        3|   1713|      1710|   1851|      1847|           UA|     1020| N567UA|               98|            97|     62|       4|       3|   IAD| BOS|     413|     7|     29|        0|              NA|       0|          NA|          NA|      NA|           NA|               NA|             1|             1|\n",
            "|2003|    1|         2|        4|   1706|      1710|   1824|      1847|           UA|     1020| N561UA|               78|            97|     59|     -23|      -4|   IAD| BOS|     413|     7|     12|        0|              NA|       0|          NA|          NA|      NA|           NA|               NA|             0|             0|\n",
            "|2003|    1|         3|        5|   1707|      1710|   1828|      1847|           UA|     1020| N554UA|               81|            97|     58|     -19|      -3|   IAD| BOS|     413|     8|     15|        0|              NA|       0|          NA|          NA|      NA|           NA|               NA|             0|             0|\n",
            "|2003|    1|         4|        6|   1710|      1710|   1835|      1847|           UA|     1020| N535UA|               85|            97|     61|     -12|       0|   IAD| BOS|     413|     8|     16|        0|              NA|       0|          NA|          NA|      NA|           NA|               NA|             0|             1|\n",
            "|2003|    1|         5|        7|   1832|      1710|   1951|      1847|           UA|     1020| N571UA|               79|            97|     57|      64|      82|   IAD| BOS|     413|     7|     15|        0|              NA|       0|          NA|          NA|      NA|           NA|               NA|             1|             1|\n",
            "|2003|    1|         6|        1|   1710|      1710|   1843|      1847|           UA|     1020| N530UA|               93|            97|     58|      -4|       0|   IAD| BOS|     413|    13|     22|        0|              NA|       0|          NA|          NA|      NA|           NA|               NA|             0|             1|\n",
            "|2003|    1|         7|        2|   1712|      1710|   1839|      1847|           UA|     1020| N553UA|               87|            97|     71|      -8|       2|   IAD| BOS|     413|     4|     12|        0|              NA|       0|          NA|          NA|      NA|           NA|               NA|             0|             1|\n",
            "|2003|    1|         8|        3|   1706|      1710|   1826|      1847|           UA|     1020| N525UA|               80|            97|     65|     -21|      -4|   IAD| BOS|     413|     4|     11|        0|              NA|       0|          NA|          NA|      NA|           NA|               NA|             0|             0|\n",
            "|2003|    1|         9|        4|   1706|      1710|   1820|      1847|           UA|     1020| N585UA|               74|            97|     55|     -27|      -4|   IAD| BOS|     413|     6|     13|        0|              NA|       0|          NA|          NA|      NA|           NA|               NA|             0|             0|\n",
            "|2003|    1|        10|        5|   1707|      1710|   1831|      1847|           UA|     1020| N531UA|               84|            97|     56|     -16|      -3|   IAD| BOS|     413|     6|     22|        0|              NA|       0|          NA|          NA|      NA|           NA|               NA|             0|             0|\n",
            "|2003|    1|        11|        6|   1708|      1710|   1831|      1847|           UA|     1020| N481UA|               83|            97|     66|     -16|      -2|   IAD| BOS|     413|     5|     12|        0|              NA|       0|          NA|          NA|      NA|           NA|               NA|             0|             0|\n",
            "+----+-----+----------+---------+-------+----------+-------+----------+-------------+---------+-------+-----------------+--------------+-------+--------+--------+------+----+--------+------+-------+---------+----------------+--------+------------+------------+--------+-------------+-----------------+--------------+--------------+\n",
            "only showing top 20 rows\n",
            "\n"
          ]
        }
      ],
      "source": [
        "from pyspark.sql.functions import when\n",
        "from pyspark.sql.functions import lit\n",
        "\n",
        "#delay_ArrDelay & delay_ArrDelay\n",
        "# -1 = no delay\n",
        "# +1 = delay\n",
        "\n",
        "data_1 = data_1.withColumn(\"delay_ArrDelay\", \\\n",
        "          when((data_1.ArrDelay < 0), lit(0)) \\\n",
        "            # .when((data_1.salary >= 4000) & (data_1.salary <= 5000), lit(\"B\")) \\\n",
        "            .otherwise(lit(1)))\n",
        "data_1 = data_1.withColumn(\"delay_DepDelay\", \\\n",
        "          when((data_1.DepDelay < 0), lit(0)) \\\n",
        "            .otherwise(lit(1)))\n",
        "data_1.show()"
      ]
    },
    {
      "cell_type": "markdown",
      "metadata": {
        "id": "rETHHQPRgTNB"
      },
      "source": [
        "# Approach 1_Data Pre-processing"
      ]
    },
    {
      "cell_type": "markdown",
      "source": [
        "## Step 1. Dropna & str to double"
      ],
      "metadata": {
        "id": "nApBv6On0Pkj"
      }
    },
    {
      "cell_type": "code",
      "execution_count": null,
      "metadata": {
        "id": "2PRqZYnsgfYh"
      },
      "outputs": [],
      "source": [
        "data2 = data_1.dropna()"
      ]
    },
    {
      "cell_type": "code",
      "execution_count": null,
      "metadata": {
        "id": "FNACjCBnk-xI"
      },
      "outputs": [],
      "source": [
        "# InputCols for Vectorization\n",
        "Cols = [\n",
        "        'Year',\n",
        "        'Month',\n",
        "        'DayofMonth',\n",
        "        'DayOfWeek',\n",
        "        'DepTime',\n",
        "        'CRSDepTime',\n",
        "        'ArrTime',\n",
        "        'CRSArrTime',\n",
        "        # 'UniqueCarrier',\n",
        "        'FlightNum',\n",
        "        # 'TailNum',\n",
        "        'ActualElapsedTime',\n",
        "        'CRSElapsedTime',\n",
        "        'AirTime',\n",
        "        'ArrDelay',\n",
        "        'DepDelay',\n",
        "        # 'Origin',\n",
        "        # 'Dest',\n",
        "        'Distance',\n",
        "        'TaxiIn',\n",
        "        'TaxiOut',\n",
        "        'Cancelled',\n",
        "        'delay_ArrDelay',\n",
        "        'delay_DepDelay'\n",
        "        ]"
      ]
    },
    {
      "cell_type": "code",
      "execution_count": null,
      "metadata": {
        "id": "DA8OKJ6WgSV6"
      },
      "outputs": [],
      "source": [
        "def numTOdouble(df, Cols):\n",
        "  for col in Cols:\n",
        "    df = df.withColumn(col, df[col].cast('double'))\n",
        "  df.show(10)\n",
        "  return df"
      ]
    },
    {
      "cell_type": "code",
      "execution_count": null,
      "metadata": {
        "id": "lBPgEBzdl9MA"
      },
      "outputs": [],
      "source": [
        "data2 = numTOdouble(data2,Cols)\n",
        "data2.dtypes"
      ]
    },
    {
      "cell_type": "code",
      "execution_count": null,
      "metadata": {
        "id": "1JoMzHRrmbMm"
      },
      "outputs": [],
      "source": [
        "data2 = data2.dropna()"
      ]
    },
    {
      "cell_type": "code",
      "execution_count": null,
      "metadata": {
        "id": "SnBWzmiek7vi"
      },
      "outputs": [],
      "source": [
        "# from pyspark.sql.types import DoubleType\n",
        "# # data_2 = data_1.withColumn(\"DepTime\", data_1[\"DepTime\"].cast(IntegerType()))\n",
        "# data_2 = data_1.withColumn(\"DepTime\", data_1[\"DepTime\"].cast(IntegerType())) #.cast(\"float\").alias('DepTime'))\n",
        "# data_2 = data_2.withColumn(\"CRSDepTime\", data_1[\"CRSDepTime\"].cast(IntegerType()))#.cast(\"float\").alias('CRSDepTime'))\n",
        "# data_2 = data_2.withColumn(\"ArrTime\", data_1[\"ArrTime\"].cast(IntegerType()))#.cast(\"float\").alias('ArrTime'))\n",
        "# data_2 = data_2.withColumn(\"ActualElapsedTime\", data_1[\"ActualElapsedTime\"].cast(IntegerType()))#.cast(\"float\").alias('ActualElapsedTime'))\n",
        "# data_2 = data_2.withColumn(\"CRSElapsedTime\", data_1[\"CRSElapsedTime\"].cast(IntegerType()))#.cast(\"float\").alias('CRSElapsedTime'))\n",
        "# data_2 = data_2.withColumn(\"AirTime\", data_1[\"AirTime\"].cast(IntegerType()))#.cast(\"float\").alias('AirTime'))\n",
        "# data_2 = data_2.withColumn(\"ArrDelay\", data_1[\"ArrDelay\"].cast(IntegerType()))#.cast(\"float\").alias('ArrDelay'))\n",
        "# data_2 = data_2.withColumn(\"DepDelay\", data_1[\"DepDelay\"].cast(IntegerType()))#.cast(\"float\").alias('DepDelay'))"
      ]
    },
    {
      "cell_type": "markdown",
      "metadata": {
        "id": "B02_Os-g0UOC"
      },
      "source": [
        "## Step 2. Create a Pre-Processor to Extract Features from Training Data\n",
        "\n",
        "To pre-process both numerical attributes and categorical attributes, the following feature extraction/transformation processes are used successively.\n",
        "\n",
        "1) StringIndexer: StringIndexer encodes a string column of labels\n",
        "to a column of label indices.\n",
        "\n",
        "2)OneHotEncoder: One-hot encoding maps a column of label indices to a column of binary vectors, with at most a single one-value. This encoding allows algorithms which expect continuous features, such as Logistic Regression, to use categorical features.\n",
        "\n",
        "3)VectorAssembler: VectorAssembler is a transformer that combines a given list of columns into a single vector column.\n",
        "\n",
        "4)StandardScaler: StandardScaler transforms a dataset of Vector rows, normalizing each feature to have unit standard deviation and/or zero mean. It takes parameters:\n",
        "*   withStd: True by default. Scales the data to unit standard deviation.\n",
        "*   withMean: False by default. Centers the data with mean before scaling. It will build a dense output, so this does not work on sparse input and will raise an exception.\n",
        "\n",
        "After defining these feature extractor/tranformer, we create a PipelineModel by concatenate them and apply it on the training data to extract features.\n",
        "\n"
      ]
    },
    {
      "cell_type": "code",
      "execution_count": null,
      "metadata": {
        "id": "t-ncctWF0UOC"
      },
      "outputs": [],
      "source": [
        "# List numerical features & categorical features\n",
        "\n",
        "# target_col = \"delay_ArrDelay\"\n",
        "target_col = \"delay_DepDelay\"\n",
        "\n",
        "use_cols = [\n",
        "            'Year',\n",
        "            'Month',\n",
        "            'DayofMonth',\n",
        "            'DayOfWeek',\n",
        "            # 'DepTime',\n",
        "            'CRSDepTime',\n",
        "            # 'ArrTime',\n",
        "            'CRSArrTime',\n",
        "            'UniqueCarrier',\n",
        "            'FlightNum',\n",
        "            'TailNum',\n",
        "            # 'ActualElapsedTime',\n",
        "            'CRSElapsedTime',\n",
        "            # 'AirTime',\n",
        "            # 'ArrDelay',\n",
        "            # 'DepDelay',\n",
        "            'Origin',\n",
        "            'Dest',\n",
        "            'Distance',\n",
        "            'TaxiIn',\n",
        "            'TaxiOut',\n",
        "            'Cancelled',\n",
        "            # 'delay_ArrDelay',\n",
        "            'delay_DepDelay'\n",
        "            ]\n",
        "\n",
        "cate_cols = [\"Month\", 'DayOfWeek', 'UniqueCarrier', 'FlightNum', \n",
        "            'TailNum', 'Origin', 'Dest']\n",
        "num_cols = list(set(use_cols) - set(cate_cols) - set([target_col]))"
      ]
    },
    {
      "cell_type": "code",
      "execution_count": null,
      "metadata": {
        "id": "vxuTFHsD0UOC"
      },
      "outputs": [],
      "source": [
        "def gen_preprocessor(df):\n",
        "    # String Indexing for categorical features\n",
        "    indexers = [StringIndexer(inputCol=col, \n",
        "                              outputCol=\"{}_idx\".format(col)) \\\n",
        "                              for col in cate_cols]\n",
        "    \n",
        "    # One-hot encoding for categorical features\n",
        "    encoders = [OneHotEncoder(inputCol=\"{}_idx\".format(col), \n",
        "                              outputCol=\"{}_oh\".format(col)) \\\n",
        "                              for col in cate_cols]\n",
        "\n",
        "    # Concat Feature Columns\n",
        "    assembler = VectorAssembler(inputCols = num_cols + \\\n",
        "                            [\"{}_oh\".format(col) for col in cate_cols], \n",
        "                            outputCol = \"_features\")\n",
        "    \n",
        "    # Standardize Features\n",
        "    scaler = StandardScaler(inputCol='_features', \n",
        "                            outputCol='features', \n",
        "                            withStd=True, withMean=False)\n",
        "\n",
        "    preprocessor = Pipeline(stages = indexers + encoders + \\\n",
        "                                     [assembler, scaler]).fit(df)\n",
        "\n",
        "    return preprocessor"
      ]
    },
    {
      "cell_type": "code",
      "execution_count": null,
      "metadata": {
        "id": "KFK8gIXI0UOD"
      },
      "outputs": [],
      "source": [
        "# Pre-Process\n",
        "df = data2\n",
        "preprocessor = gen_preprocessor(df)   \n",
        "df1 = preprocessor.transform(df) "
      ]
    },
    {
      "cell_type": "code",
      "execution_count": null,
      "metadata": {
        "id": "yRNX3TAy0UOD"
      },
      "outputs": [],
      "source": [
        "df1.show(10)"
      ]
    },
    {
      "cell_type": "code",
      "execution_count": null,
      "metadata": {
        "id": "zH7sFtFe0UOD"
      },
      "outputs": [],
      "source": [
        "# df1.dtypes()"
      ]
    },
    {
      "cell_type": "code",
      "execution_count": null,
      "metadata": {
        "id": "GxVbX7LW0UOD"
      },
      "outputs": [],
      "source": [
        "## Save Pre-Processor for later usage\n",
        "## preprocessor.save(\"{}/preprocessor\".format(opt.output))\n",
        "# preprocessor.format(\"parquet\").save(\"/content/drive/MyDrive/01_GMBA/2nd_semester(2022)/03-1AM_Big Data Analytics Techniques and Applications/0427_0525HW4/HW4/datasets/preprocessor.parquet\")"
      ]
    },
    {
      "cell_type": "code",
      "execution_count": null,
      "metadata": {
        "id": "PX9IS7Uv0UOD"
      },
      "outputs": [],
      "source": [
        "# path = '/content/drive/MyDrive/01_GMBA/2nd_semester(2022)/03-1AM_Big Data Analytics Techniques and Applications/0427_0525HW4/HW4/data_for_use/'\n",
        "# # shared\n",
        "# filename = 'df_preprocessor.csv'\n",
        "\n",
        "# df.toPandas().to_csv(path + filename)\n",
        "# # df.write.csv(path + filename)"
      ]
    },
    {
      "cell_type": "markdown",
      "metadata": {
        "id": "L3BL0_Hi5pH9"
      },
      "source": [
        "# Approach 2_Data Pre-processing\n"
      ]
    },
    {
      "cell_type": "markdown",
      "metadata": {
        "id": "mR8LB2nT5xlE"
      },
      "source": [
        "### Step 1. Load the Training Data"
      ]
    },
    {
      "cell_type": "code",
      "execution_count": null,
      "metadata": {
        "id": "z4dkTvde5El9"
      },
      "outputs": [],
      "source": [
        "def load(train_data):\n",
        "    # Load DataFrame    \n",
        "    df = train_data\n",
        "\n",
        "    # Select useful columns (drop columns that should not be known before the flight take place) \n",
        "    df = df.select(use_cols)\n",
        "\n",
        "    # Impute numerical features\n",
        "    for col in num_cols:\n",
        "        df = df.withColumn(col, df[col].cast('double'))\n",
        "        mu = df.select(col).agg({col:'mean'}).collect()[0][0]\n",
        "        df = df.withColumn(col, F.when(df[col].isNull(), mu)\\\n",
        "                           .otherwise(df[col]))\n",
        "    df = df.withColumn('label', df[target_col].cast('double'))\n",
        "    df = df.filter(df['label'].isNotNull())\n",
        "\n",
        "    # Impute categorical features\n",
        "    for col in cate_cols:\n",
        "        frq = df.select(col).groupby(col).count().orderBy('count', ascending=False).limit(1).collect()[0][0]\n",
        "        df = df.withColumn(col, F.when((df[col].isNull() | (df[col] == '')), frq).otherwise(df[col]))\n",
        "\n",
        "    # Assure there is no missing values\n",
        "    for col in num_cols + cate_cols + ['label']:\n",
        "        assert df.filter(df[col].isNull()).count() == 0, \"Column '{}' exists NULL value(s)\".format(col)\n",
        "        assert df.filter(df[col] == '').count() == 0, \"Column '{}' exists empty string(s)\".format(col)\n",
        "\n",
        "    return df"
      ]
    },
    {
      "cell_type": "code",
      "execution_count": null,
      "metadata": {
        "colab": {
          "base_uri": "https://localhost:8080/"
        },
        "id": "eYZTssGIRJ3-",
        "outputId": "a0e8f464-765e-45fb-c113-714fe5459e1f"
      },
      "outputs": [
        {
          "output_type": "execute_result",
          "data": {
            "text/plain": [
              "['Year',\n",
              " 'Month',\n",
              " 'DayofMonth',\n",
              " 'DayOfWeek',\n",
              " 'DepTime',\n",
              " 'CRSDepTime',\n",
              " 'ArrTime',\n",
              " 'CRSArrTime',\n",
              " 'UniqueCarrier',\n",
              " 'FlightNum',\n",
              " 'TailNum',\n",
              " 'ActualElapsedTime',\n",
              " 'CRSElapsedTime',\n",
              " 'AirTime',\n",
              " 'ArrDelay',\n",
              " 'DepDelay',\n",
              " 'Origin',\n",
              " 'Dest',\n",
              " 'Distance',\n",
              " 'TaxiIn',\n",
              " 'TaxiOut',\n",
              " 'Cancelled',\n",
              " 'CancellationCode',\n",
              " 'Diverted',\n",
              " 'CarrierDelay',\n",
              " 'WeatherDelay',\n",
              " 'NASDelay',\n",
              " 'SecurityDelay',\n",
              " 'LateAircraftDelay',\n",
              " 'delay_ArrDelay',\n",
              " 'delay_DepDelay']"
            ]
          },
          "metadata": {},
          "execution_count": 19
        }
      ],
      "source": [
        "data_1.columns"
      ]
    },
    {
      "cell_type": "code",
      "execution_count": null,
      "metadata": {
        "id": "EBjWf2m1-Wv9"
      },
      "outputs": [],
      "source": [
        "# use_cols = ['Year',\n",
        "#             'Month',\n",
        "#             'DayofMonth',\n",
        "#             'DayOfWeek',\n",
        "#             # 'DepTime',\n",
        "#             'CRSDepTime', # scheduled departure time (local, hhmm)\n",
        "#             # 'ArrTime',\n",
        "#             'CRSArrTime', # scheduled arrival time (local, hhmm)\n",
        "#             'UniqueCarrier',\n",
        "#             'FlightNum',\n",
        "#             'TailNum',\n",
        "#             # 'ActualElapsedTime',\n",
        "#             'CRSElapsedTime',\n",
        "#             # 'AirTime',\n",
        "#             # 'ArrDelay',\n",
        "#             # 'DepDelay',\n",
        "#             'Origin',\n",
        "#             'Dest',\n",
        "#             'Distance',\n",
        "#             # 'TaxiIn',\n",
        "#             'TaxiOut',\n",
        "#             'Cancelled',\n",
        "#             'delay_ArrDelay',\n",
        "#             # 'delay_DepDelay'\n",
        "#             ]"
      ]
    },
    {
      "cell_type": "code",
      "execution_count": null,
      "metadata": {
        "id": "tDIsJuoQF5KL"
      },
      "outputs": [],
      "source": [
        "# # List numerical features & categorical features\n",
        "\n",
        "# # target_col = \"delay_ArrDelay\"\n",
        "# target_col = \"delay_DepDelay\"\n",
        "\n",
        "# use_cols = [\n",
        "#             'Year',\n",
        "#             'Month',\n",
        "#             'DayofMonth',\n",
        "#             'DayOfWeek',\n",
        "#             'DepTime',#\n",
        "#             'CRSDepTime', # scheduled departure time (local, hhmm)\n",
        "#             'ArrTime', #\n",
        "#             'CRSArrTime', # scheduled arrival time (local, hhmm)\n",
        "#             'UniqueCarrier',\n",
        "#             'FlightNum',\n",
        "#             'TailNum',\n",
        "#             'ActualElapsedTime', #\n",
        "#             'CRSElapsedTime',\n",
        "#             'AirTime', #\n",
        "#             'ArrDelay', #\n",
        "#             'DepDelay', #\n",
        "#             'Origin',\n",
        "#             'Dest',\n",
        "#             'Distance',\n",
        "#             'TaxiIn', #\n",
        "#             'TaxiOut',\n",
        "#             'Cancelled',\n",
        "#             'delay_ArrDelay',\n",
        "#             'delay_DepDelay' #\n",
        "#             ]\n",
        "\n",
        "# cate_cols = [\"Month\", 'DayOfWeek', 'UniqueCarrier', 'FlightNum', \n",
        "#             'TailNum', 'Origin', 'Dest']\n",
        "# num_cols = list(set(use_cols) - set(cate_cols) - set([target_col]))"
      ]
    },
    {
      "cell_type": "code",
      "execution_count": null,
      "metadata": {
        "id": "OQ1BThDR52-o"
      },
      "outputs": [],
      "source": [
        "# List numerical features & categorical features\n",
        "\n",
        "# target_col = \"delay_ArrDelay\"\n",
        "target_col = \"delay_DepDelay\"\n",
        "\n",
        "use_cols = [\n",
        "            'Year',\n",
        "            'Month',\n",
        "            'DayofMonth',\n",
        "            'DayOfWeek',\n",
        "            # 'DepTime',\n",
        "            'CRSDepTime',\n",
        "            # 'ArrTime',\n",
        "            'CRSArrTime',\n",
        "            'UniqueCarrier',\n",
        "            'FlightNum',\n",
        "            'TailNum',\n",
        "            # 'ActualElapsedTime',\n",
        "            'CRSElapsedTime',\n",
        "            # 'AirTime',\n",
        "            # 'ArrDelay',\n",
        "            # 'DepDelay',\n",
        "            'Origin',\n",
        "            'Dest',\n",
        "            'Distance',\n",
        "            'TaxiIn',\n",
        "            'TaxiOut',\n",
        "            'Cancelled',\n",
        "            # 'delay_ArrDelay',\n",
        "            'delay_DepDelay'\n",
        "            ]\n",
        "\n",
        "cate_cols = [\"Month\", 'DayOfWeek', 'UniqueCarrier', 'FlightNum', \n",
        "            'TailNum', 'Origin', 'Dest']\n",
        "num_cols = list(set(use_cols) - set(cate_cols) - set([target_col]))"
      ]
    },
    {
      "cell_type": "code",
      "execution_count": null,
      "metadata": {
        "id": "1mKDDfqR8xj0"
      },
      "outputs": [],
      "source": [
        "# Load Training Data\n",
        "df = load(data_1)\n",
        "# df = data_all\n",
        "# df = df.select(use_cols)  "
      ]
    },
    {
      "cell_type": "code",
      "execution_count": null,
      "metadata": {
        "colab": {
          "base_uri": "https://localhost:8080/"
        },
        "id": "PbHssHvA-fB3",
        "outputId": "9ace7db7-a92d-488a-fab8-5f85806e110c"
      },
      "outputs": [
        {
          "output_type": "stream",
          "name": "stdout",
          "text": [
            "+------+-----+----------+---------+----------+----------+-------------+---------+-------+--------------+------+----+--------+------+-------+---------+--------------+-----+\n",
            "|  Year|Month|DayofMonth|DayOfWeek|CRSDepTime|CRSArrTime|UniqueCarrier|FlightNum|TailNum|CRSElapsedTime|Origin|Dest|Distance|TaxiIn|TaxiOut|Cancelled|delay_DepDelay|label|\n",
            "+------+-----+----------+---------+----------+----------+-------------+---------+-------+--------------+------+----+--------+------+-------+---------+--------------+-----+\n",
            "|2003.0|    1|      29.0|        3|    1655.0|    1913.0|           UA|     1017| N202UA|         138.0|   ORD| MSY|   837.0|   5.0|   17.0|      0.0|             0|  0.0|\n",
            "|2003.0|    1|      30.0|        4|    1655.0|    1913.0|           UA|     1017| N311UA|         138.0|   ORD| MSY|   837.0|   2.0|   26.0|      0.0|             0|  0.0|\n",
            "|2003.0|    1|      31.0|        5|    1655.0|    1913.0|           UA|     1017| N317UA|         138.0|   ORD| MSY|   837.0|   5.0|   17.0|      0.0|             1|  1.0|\n",
            "|2003.0|    1|       1.0|        3|    1035.0|    1634.0|           UA|     1018| N409UA|         239.0|   OAK| ORD|  1835.0|   6.0|   11.0|      0.0|             0|  0.0|\n",
            "|2003.0|    1|       2.0|        4|    1035.0|    1634.0|           UA|     1018| N496UA|         239.0|   OAK| ORD|  1835.0|  13.0|   46.0|      0.0|             1|  1.0|\n",
            "|2003.0|    1|       3.0|        5|    1035.0|    1634.0|           UA|     1018| N412UA|         239.0|   OAK| ORD|  1835.0|  13.0|   13.0|      0.0|             0|  0.0|\n",
            "|2003.0|    1|       4.0|        6|    1035.0|    1634.0|           UA|     1018| N455UA|         239.0|   OAK| ORD|  1835.0|   5.0|   11.0|      0.0|             0|  0.0|\n",
            "|2003.0|    1|       5.0|        7|    1035.0|    1634.0|           UA|     1018| N828UA|         239.0|   OAK| ORD|  1835.0|   5.0|    9.0|      0.0|             1|  1.0|\n",
            "|2003.0|    1|       6.0|        1|    1035.0|    1634.0|           UA|     1018| N453UA|         239.0|   OAK| ORD|  1835.0|   7.0|   14.0|      0.0|             0|  0.0|\n",
            "|2003.0|    1|       1.0|        3|    1710.0|    1847.0|           UA|     1020| N567UA|          97.0|   IAD| BOS|   413.0|   7.0|   29.0|      0.0|             1|  1.0|\n",
            "|2003.0|    1|       2.0|        4|    1710.0|    1847.0|           UA|     1020| N561UA|          97.0|   IAD| BOS|   413.0|   7.0|   12.0|      0.0|             0|  0.0|\n",
            "|2003.0|    1|       3.0|        5|    1710.0|    1847.0|           UA|     1020| N554UA|          97.0|   IAD| BOS|   413.0|   8.0|   15.0|      0.0|             0|  0.0|\n",
            "|2003.0|    1|       4.0|        6|    1710.0|    1847.0|           UA|     1020| N535UA|          97.0|   IAD| BOS|   413.0|   8.0|   16.0|      0.0|             1|  1.0|\n",
            "|2003.0|    1|       5.0|        7|    1710.0|    1847.0|           UA|     1020| N571UA|          97.0|   IAD| BOS|   413.0|   7.0|   15.0|      0.0|             1|  1.0|\n",
            "|2003.0|    1|       6.0|        1|    1710.0|    1847.0|           UA|     1020| N530UA|          97.0|   IAD| BOS|   413.0|  13.0|   22.0|      0.0|             1|  1.0|\n",
            "|2003.0|    1|       7.0|        2|    1710.0|    1847.0|           UA|     1020| N553UA|          97.0|   IAD| BOS|   413.0|   4.0|   12.0|      0.0|             1|  1.0|\n",
            "|2003.0|    1|       8.0|        3|    1710.0|    1847.0|           UA|     1020| N525UA|          97.0|   IAD| BOS|   413.0|   4.0|   11.0|      0.0|             0|  0.0|\n",
            "|2003.0|    1|       9.0|        4|    1710.0|    1847.0|           UA|     1020| N585UA|          97.0|   IAD| BOS|   413.0|   6.0|   13.0|      0.0|             0|  0.0|\n",
            "|2003.0|    1|      10.0|        5|    1710.0|    1847.0|           UA|     1020| N531UA|          97.0|   IAD| BOS|   413.0|   6.0|   22.0|      0.0|             0|  0.0|\n",
            "|2003.0|    1|      11.0|        6|    1710.0|    1847.0|           UA|     1020| N481UA|          97.0|   IAD| BOS|   413.0|   5.0|   12.0|      0.0|             0|  0.0|\n",
            "+------+-----+----------+---------+----------+----------+-------------+---------+-------+--------------+------+----+--------+------+-------+---------+--------------+-----+\n",
            "only showing top 20 rows\n",
            "\n"
          ]
        }
      ],
      "source": [
        "df.show()"
      ]
    },
    {
      "cell_type": "code",
      "execution_count": null,
      "metadata": {
        "colab": {
          "base_uri": "https://localhost:8080/"
        },
        "id": "K9kJIQMyjF9-",
        "outputId": "5458a31d-9441-4030-9725-ff09764f0b82"
      },
      "outputs": [
        {
          "output_type": "execute_result",
          "data": {
            "text/plain": [
              "[('Year', 'double'),\n",
              " ('Month', 'int'),\n",
              " ('DayofMonth', 'double'),\n",
              " ('DayOfWeek', 'int'),\n",
              " ('CRSDepTime', 'double'),\n",
              " ('CRSArrTime', 'double'),\n",
              " ('UniqueCarrier', 'string'),\n",
              " ('FlightNum', 'int'),\n",
              " ('TailNum', 'string'),\n",
              " ('CRSElapsedTime', 'double'),\n",
              " ('Origin', 'string'),\n",
              " ('Dest', 'string'),\n",
              " ('Distance', 'double'),\n",
              " ('TaxiIn', 'double'),\n",
              " ('TaxiOut', 'double'),\n",
              " ('Cancelled', 'double'),\n",
              " ('delay_DepDelay', 'int'),\n",
              " ('label', 'double')]"
            ]
          },
          "metadata": {},
          "execution_count": 25
        }
      ],
      "source": [
        "df.dtypes"
      ]
    },
    {
      "cell_type": "markdown",
      "metadata": {
        "id": "W0-IRmWh71gV"
      },
      "source": [
        "## Step 2. Create a Pre-Processor to Extract Features from Training Data\n",
        "\n",
        "To pre-process both numerical attributes and categorical attributes, the following feature extraction/transformation processes are used successively.\n",
        "\n",
        "1) StringIndexer: StringIndexer encodes a string column of labels\n",
        "to a column of label indices.\n",
        "\n",
        "2)OneHotEncoder: One-hot encoding maps a column of label indices to a column of binary vectors, with at most a single one-value. This encoding allows algorithms which expect continuous features, such as Logistic Regression, to use categorical features.\n",
        "\n",
        "3)VectorAssembler: VectorAssembler is a transformer that combines a given list of columns into a single vector column.\n",
        "\n",
        "4)StandardScaler: StandardScaler transforms a dataset of Vector rows, normalizing each feature to have unit standard deviation and/or zero mean. It takes parameters:\n",
        "*   withStd: True by default. Scales the data to unit standard deviation.\n",
        "*   withMean: False by default. Centers the data with mean before scaling. It will build a dense output, so this does not work on sparse input and will raise an exception.\n",
        "\n",
        "After defining these feature extractor/tranformer, we create a PipelineModel by concatenate them and apply it on the training data to extract features.\n",
        "\n"
      ]
    },
    {
      "cell_type": "code",
      "execution_count": null,
      "metadata": {
        "id": "cRzCYDaBG0EO"
      },
      "outputs": [],
      "source": [
        "# use_cols = [\n",
        "#             'Year',\n",
        "#             'Month',\n",
        "#             'DayofMonth',\n",
        "#             'DayOfWeek',\n",
        "#             # 'DepTime',\n",
        "#             'CRSDepTime',\n",
        "#             # 'ArrTime',\n",
        "#             'CRSArrTime',\n",
        "#             'UniqueCarrier',\n",
        "#             'FlightNum',\n",
        "#             'TailNum',\n",
        "#             # 'ActualElapsedTime',\n",
        "#             'CRSElapsedTime',\n",
        "#             # 'AirTime',\n",
        "#             # 'ArrDelay',\n",
        "#             # 'DepDelay',\n",
        "#             'Origin',\n",
        "#             'Dest',\n",
        "#             'Distance',\n",
        "#             'TaxiIn',\n",
        "#             'TaxiOut',\n",
        "#             'Cancelled',\n",
        "#             # 'delay_ArrDelay',\n",
        "#             # 'delay_DepDelay'\n",
        "#             ]"
      ]
    },
    {
      "cell_type": "code",
      "execution_count": null,
      "metadata": {
        "id": "W6pT3Usr65gQ"
      },
      "outputs": [],
      "source": [
        "def gen_preprocessor(df):\n",
        "    # String Indexing for categorical features\n",
        "    indexers = [StringIndexer(inputCol=col, \n",
        "                              outputCol=\"{}_idx\".format(col)) \\\n",
        "                              for col in cate_cols]\n",
        "    \n",
        "    # One-hot encoding for categorical features\n",
        "    encoders = [OneHotEncoder(inputCol=\"{}_idx\".format(col), \n",
        "                              outputCol=\"{}_oh\".format(col)) \\\n",
        "                              for col in cate_cols]\n",
        "\n",
        "    # Concat Feature Columns\n",
        "    assembler = VectorAssembler(inputCols = num_cols + \\\n",
        "                            [\"{}_oh\".format(col) for col in cate_cols], \n",
        "                            outputCol = \"_features\")\n",
        "    \n",
        "    # Standardize Features\n",
        "    scaler = StandardScaler(inputCol='_features', \n",
        "                            outputCol='features', \n",
        "                            withStd=True, withMean=False)\n",
        "\n",
        "    preprocessor = Pipeline(stages = indexers + encoders + \\\n",
        "                                     [assembler, scaler]).fit(df)\n",
        "\n",
        "    return preprocessor"
      ]
    },
    {
      "cell_type": "code",
      "execution_count": null,
      "metadata": {
        "id": "mhtX9c3i8q4i"
      },
      "outputs": [],
      "source": [
        "# Pre-Process\n",
        "preprocessor = gen_preprocessor(df)   \n",
        "df1 = preprocessor.transform(df) "
      ]
    },
    {
      "cell_type": "code",
      "execution_count": null,
      "metadata": {
        "colab": {
          "base_uri": "https://localhost:8080/"
        },
        "id": "NqhdcWS4l6BH",
        "outputId": "23aeaa70-e729-4bae-c0b2-5b1a33955773"
      },
      "outputs": [
        {
          "output_type": "stream",
          "name": "stdout",
          "text": [
            "+------+-----+----------+---------+----------+----------+-------------+---------+-------+--------------+------+----+--------+------+-------+---------+--------------+-----+---------+-------------+-----------------+-------------+-----------+----------+--------+--------------+-------------+----------------+-------------------+-------------------+----------------+----------------+--------------------+--------------------+\n",
            "|  Year|Month|DayofMonth|DayOfWeek|CRSDepTime|CRSArrTime|UniqueCarrier|FlightNum|TailNum|CRSElapsedTime|Origin|Dest|Distance|TaxiIn|TaxiOut|Cancelled|delay_DepDelay|label|Month_idx|DayOfWeek_idx|UniqueCarrier_idx|FlightNum_idx|TailNum_idx|Origin_idx|Dest_idx|      Month_oh| DayOfWeek_oh|UniqueCarrier_oh|       FlightNum_oh|         TailNum_oh|       Origin_oh|         Dest_oh|           _features|            features|\n",
            "+------+-----+----------+---------+----------+----------+-------------+---------+-------+--------------+------+----+--------+------+-------+---------+--------------+-----+---------+-------------+-----------------+-------------+-----------+----------+--------+--------------+-------------+----------------+-------------------+-------------------+----------------+----------------+--------------------+--------------------+\n",
            "|2003.0|    1|      29.0|        3|    1655.0|    1913.0|           UA|     1017| N202UA|         138.0|   ORD| MSY|   837.0|   5.0|   17.0|      0.0|             0|  0.0|      7.0|          3.0|              3.0|       1313.0|     1853.0|       1.0|    40.0|(11,[7],[1.0])|(6,[3],[1.0])|  (19,[3],[1.0])|(7960,[1313],[1.0])|(6163,[1853],[1.0])| (294,[1],[1.0])|(298,[40],[1.0])|(14760,[0,1,2,3,4...|(14760,[0,1,2,3,4...|\n",
            "|2003.0|    1|      30.0|        4|    1655.0|    1913.0|           UA|     1017| N311UA|         138.0|   ORD| MSY|   837.0|   2.0|   26.0|      0.0|             0|  0.0|      7.0|          1.0|              3.0|       1313.0|     1961.0|       1.0|    40.0|(11,[7],[1.0])|(6,[1],[1.0])|  (19,[3],[1.0])|(7960,[1313],[1.0])|(6163,[1961],[1.0])| (294,[1],[1.0])|(298,[40],[1.0])|(14760,[0,1,2,3,4...|(14760,[0,1,2,3,4...|\n",
            "|2003.0|    1|      31.0|        5|    1655.0|    1913.0|           UA|     1017| N317UA|         138.0|   ORD| MSY|   837.0|   5.0|   17.0|      0.0|             1|  1.0|      7.0|          0.0|              3.0|       1313.0|     4456.0|       1.0|    40.0|(11,[7],[1.0])|(6,[0],[1.0])|  (19,[3],[1.0])|(7960,[1313],[1.0])|(6163,[4456],[1.0])| (294,[1],[1.0])|(298,[40],[1.0])|(14760,[0,1,2,3,4...|(14760,[0,1,2,3,4...|\n",
            "|2003.0|    1|       1.0|        3|    1035.0|    1634.0|           UA|     1018| N409UA|         239.0|   OAK| ORD|  1835.0|   6.0|   11.0|      0.0|             0|  0.0|      7.0|          3.0|              3.0|       1351.0|     3748.0|      29.0|     1.0|(11,[7],[1.0])|(6,[3],[1.0])|  (19,[3],[1.0])|(7960,[1351],[1.0])|(6163,[3748],[1.0])|(294,[29],[1.0])| (298,[1],[1.0])|(14760,[0,1,2,3,4...|(14760,[0,1,2,3,4...|\n",
            "|2003.0|    1|       2.0|        4|    1035.0|    1634.0|           UA|     1018| N496UA|         239.0|   OAK| ORD|  1835.0|  13.0|   46.0|      0.0|             1|  1.0|      7.0|          1.0|              3.0|       1351.0|     1755.0|      29.0|     1.0|(11,[7],[1.0])|(6,[1],[1.0])|  (19,[3],[1.0])|(7960,[1351],[1.0])|(6163,[1755],[1.0])|(294,[29],[1.0])| (298,[1],[1.0])|(14760,[0,1,2,3,4...|(14760,[0,1,2,3,4...|\n",
            "|2003.0|    1|       3.0|        5|    1035.0|    1634.0|           UA|     1018| N412UA|         239.0|   OAK| ORD|  1835.0|  13.0|   13.0|      0.0|             0|  0.0|      7.0|          0.0|              3.0|       1351.0|     3970.0|      29.0|     1.0|(11,[7],[1.0])|(6,[0],[1.0])|  (19,[3],[1.0])|(7960,[1351],[1.0])|(6163,[3970],[1.0])|(294,[29],[1.0])| (298,[1],[1.0])|(14760,[0,1,2,3,4...|(14760,[0,1,2,3,4...|\n",
            "|2003.0|    1|       4.0|        6|    1035.0|    1634.0|           UA|     1018| N455UA|         239.0|   OAK| ORD|  1835.0|   5.0|   11.0|      0.0|             0|  0.0|      7.0|          6.0|              3.0|       1351.0|     2878.0|      29.0|     1.0|(11,[7],[1.0])|    (6,[],[])|  (19,[3],[1.0])|(7960,[1351],[1.0])|(6163,[2878],[1.0])|(294,[29],[1.0])| (298,[1],[1.0])|(14760,[0,1,2,3,4...|(14760,[0,1,2,3,4...|\n",
            "|2003.0|    1|       5.0|        7|    1035.0|    1634.0|           UA|     1018| N828UA|         239.0|   OAK| ORD|  1835.0|   5.0|    9.0|      0.0|             1|  1.0|      7.0|          5.0|              3.0|       1351.0|     2566.0|      29.0|     1.0|(11,[7],[1.0])|(6,[5],[1.0])|  (19,[3],[1.0])|(7960,[1351],[1.0])|(6163,[2566],[1.0])|(294,[29],[1.0])| (298,[1],[1.0])|(14760,[0,1,2,3,4...|(14760,[0,1,2,3,4...|\n",
            "|2003.0|    1|       6.0|        1|    1035.0|    1634.0|           UA|     1018| N453UA|         239.0|   OAK| ORD|  1835.0|   7.0|   14.0|      0.0|             0|  0.0|      7.0|          2.0|              3.0|       1351.0|     1933.0|      29.0|     1.0|(11,[7],[1.0])|(6,[2],[1.0])|  (19,[3],[1.0])|(7960,[1351],[1.0])|(6163,[1933],[1.0])|(294,[29],[1.0])| (298,[1],[1.0])|(14760,[0,1,2,3,4...|(14760,[0,1,2,3,4...|\n",
            "|2003.0|    1|       1.0|        3|    1710.0|    1847.0|           UA|     1020| N567UA|          97.0|   IAD| BOS|   413.0|   7.0|   29.0|      0.0|             1|  1.0|      7.0|          3.0|              3.0|        970.0|     3411.0|      16.0|    14.0|(11,[7],[1.0])|(6,[3],[1.0])|  (19,[3],[1.0])| (7960,[970],[1.0])|(6163,[3411],[1.0])|(294,[16],[1.0])|(298,[14],[1.0])|(14760,[0,1,2,3,4...|(14760,[0,1,2,3,4...|\n",
            "+------+-----+----------+---------+----------+----------+-------------+---------+-------+--------------+------+----+--------+------+-------+---------+--------------+-----+---------+-------------+-----------------+-------------+-----------+----------+--------+--------------+-------------+----------------+-------------------+-------------------+----------------+----------------+--------------------+--------------------+\n",
            "only showing top 10 rows\n",
            "\n"
          ]
        }
      ],
      "source": [
        "df1.show(10)"
      ]
    },
    {
      "cell_type": "code",
      "execution_count": null,
      "metadata": {
        "id": "ITg7N-kQpAse"
      },
      "outputs": [],
      "source": [
        "# df1.dtypes()"
      ]
    },
    {
      "cell_type": "code",
      "execution_count": null,
      "metadata": {
        "id": "wCsVr7C0jOje"
      },
      "outputs": [],
      "source": [
        "## Save Pre-Processor for later usage\n",
        "## preprocessor.save(\"{}/preprocessor\".format(opt.output))\n",
        "# preprocessor.format(\"parquet\").save(\"/content/drive/MyDrive/01_GMBA/2nd_semester(2022)/03-1AM_Big Data Analytics Techniques and Applications/0427_0525HW4/HW4/datasets/preprocessor.parquet\")"
      ]
    },
    {
      "cell_type": "code",
      "execution_count": null,
      "metadata": {
        "id": "AVfJUzUCoSDw"
      },
      "outputs": [],
      "source": [
        "# path = '/content/drive/MyDrive/01_GMBA/2nd_semester(2022)/03-1AM_Big Data Analytics Techniques and Applications/0427_0525HW4/HW4/data_for_use/'\n",
        "# # shared\n",
        "# filename = 'df_preprocessor.csv'\n",
        "\n",
        "# df.toPandas().to_csv(path + filename)\n",
        "# # df.write.csv(path + filename)"
      ]
    },
    {
      "cell_type": "markdown",
      "metadata": {
        "id": "LdU4zCcPr4ur"
      },
      "source": [
        "# Step3 Train test Split"
      ]
    },
    {
      "cell_type": "code",
      "execution_count": null,
      "metadata": {
        "id": "ZZug8e8SPIVp"
      },
      "outputs": [],
      "source": [
        "# train_df = data_3.filter(data_3.Year != 2005)\n",
        "# test_df = data_3.filter(data_3.Year == 2005)\n",
        "train_df = df1.filter(df1.Year != 2005)\n",
        "test_df = df1.filter(df1.Year == 2005)"
      ]
    },
    {
      "cell_type": "code",
      "execution_count": null,
      "metadata": {
        "colab": {
          "base_uri": "https://localhost:8080/"
        },
        "id": "EKghyYWyBkQg",
        "outputId": "3eaaedd5-188c-4dd4-ec00-716964a39a90"
      },
      "outputs": [
        {
          "output_type": "execute_result",
          "data": {
            "text/plain": [
              "[('Year', 'double'),\n",
              " ('Month', 'int'),\n",
              " ('DayofMonth', 'double'),\n",
              " ('DayOfWeek', 'int'),\n",
              " ('CRSDepTime', 'double'),\n",
              " ('CRSArrTime', 'double'),\n",
              " ('UniqueCarrier', 'string'),\n",
              " ('FlightNum', 'int'),\n",
              " ('TailNum', 'string'),\n",
              " ('CRSElapsedTime', 'double'),\n",
              " ('Origin', 'string'),\n",
              " ('Dest', 'string'),\n",
              " ('Distance', 'double'),\n",
              " ('TaxiIn', 'double'),\n",
              " ('TaxiOut', 'double'),\n",
              " ('Cancelled', 'double'),\n",
              " ('delay_DepDelay', 'int'),\n",
              " ('label', 'double'),\n",
              " ('Month_idx', 'double'),\n",
              " ('DayOfWeek_idx', 'double'),\n",
              " ('UniqueCarrier_idx', 'double'),\n",
              " ('FlightNum_idx', 'double'),\n",
              " ('TailNum_idx', 'double'),\n",
              " ('Origin_idx', 'double'),\n",
              " ('Dest_idx', 'double'),\n",
              " ('Month_oh', 'vector'),\n",
              " ('DayOfWeek_oh', 'vector'),\n",
              " ('UniqueCarrier_oh', 'vector'),\n",
              " ('FlightNum_oh', 'vector'),\n",
              " ('TailNum_oh', 'vector'),\n",
              " ('Origin_oh', 'vector'),\n",
              " ('Dest_oh', 'vector'),\n",
              " ('_features', 'vector'),\n",
              " ('features', 'vector')]"
            ]
          },
          "metadata": {},
          "execution_count": 39
        }
      ],
      "source": [
        "train_df.dtypes"
      ]
    },
    {
      "cell_type": "markdown",
      "source": [
        "# Step3 Train test Split_show"
      ],
      "metadata": {
        "id": "dN2k2ZutPQ-E"
      }
    },
    {
      "cell_type": "code",
      "execution_count": null,
      "metadata": {
        "colab": {
          "base_uri": "https://localhost:8080/"
        },
        "id": "FkRU2hZV7KR8",
        "outputId": "28cfd308-84b2-4dd0-a33e-2a6f99551682"
      },
      "outputs": [
        {
          "name": "stdout",
          "output_type": "stream",
          "text": [
            "+------+-----+----------+---------+-------+----------+-------+----------+-------------+---------+-------+-----------------+--------------+-------+--------+--------+------+----+--------+------+-------+---------+--------------+--------------+-----+---------+-------------+-----------------+-------------+-----------+----------+--------+--------------+-------------+----------------+-------------------+-------------------+----------------+----------------+--------------------+--------------------+\n",
            "|  Year|Month|DayofMonth|DayOfWeek|DepTime|CRSDepTime|ArrTime|CRSArrTime|UniqueCarrier|FlightNum|TailNum|ActualElapsedTime|CRSElapsedTime|AirTime|ArrDelay|DepDelay|Origin|Dest|Distance|TaxiIn|TaxiOut|Cancelled|delay_ArrDelay|delay_DepDelay|label|Month_idx|DayOfWeek_idx|UniqueCarrier_idx|FlightNum_idx|TailNum_idx|Origin_idx|Dest_idx|      Month_oh| DayOfWeek_oh|UniqueCarrier_oh|       FlightNum_oh|         TailNum_oh|       Origin_oh|         Dest_oh|           _features|            features|\n",
            "+------+-----+----------+---------+-------+----------+-------+----------+-------------+---------+-------+-----------------+--------------+-------+--------+--------+------+----+--------+------+-------+---------+--------------+--------------+-----+---------+-------------+-----------------+-------------+-----------+----------+--------+--------------+-------------+----------------+-------------------+-------------------+----------------+----------------+--------------------+--------------------+\n",
            "|2003.0|    1|      29.0|        3| 1651.0|    1655.0| 1912.0|    1913.0|           UA|     1017| N202UA|            141.0|         138.0|  119.0|    -1.0|    -4.0|   ORD| MSY|   837.0|   5.0|   17.0|      0.0|          -1.0|            -1| -1.0|      7.0|          3.0|              3.0|       1313.0|     1853.0|       1.0|    40.0|(11,[7],[1.0])|(6,[3],[1.0])|  (19,[3],[1.0])|(7960,[1313],[1.0])|(6163,[1853],[1.0])| (294,[1],[1.0])|(298,[40],[1.0])|(14767,[0,1,2,4,5...|(14767,[0,1,2,4,5...|\n",
            "|2003.0|    1|      30.0|        4| 1654.0|    1655.0| 1910.0|    1913.0|           UA|     1017| N311UA|            136.0|         138.0|  108.0|    -3.0|    -1.0|   ORD| MSY|   837.0|   2.0|   26.0|      0.0|          -1.0|            -1| -1.0|      7.0|          1.0|              3.0|       1313.0|     1961.0|       1.0|    40.0|(11,[7],[1.0])|(6,[1],[1.0])|  (19,[3],[1.0])|(7960,[1313],[1.0])|(6163,[1961],[1.0])| (294,[1],[1.0])|(298,[40],[1.0])|(14767,[0,1,2,4,5...|(14767,[0,1,2,4,5...|\n",
            "|2003.0|    1|      31.0|        5| 1724.0|    1655.0| 1936.0|    1913.0|           UA|     1017| N317UA|            132.0|         138.0|  110.0|    23.0|    29.0|   ORD| MSY|   837.0|   5.0|   17.0|      0.0|           1.0|             1|  1.0|      7.0|          0.0|              3.0|       1313.0|     4456.0|       1.0|    40.0|(11,[7],[1.0])|(6,[0],[1.0])|  (19,[3],[1.0])|(7960,[1313],[1.0])|(6163,[4456],[1.0])| (294,[1],[1.0])|(298,[40],[1.0])|(14767,[0,1,2,4,5...|(14767,[0,1,2,4,5...|\n",
            "|2003.0|    1|       1.0|        3| 1033.0|    1035.0| 1625.0|    1634.0|           UA|     1018| N409UA|            232.0|         239.0|  215.0|    -9.0|    -2.0|   OAK| ORD|  1835.0|   6.0|   11.0|      0.0|          -1.0|            -1| -1.0|      7.0|          3.0|              3.0|       1351.0|     3748.0|      29.0|     1.0|(11,[7],[1.0])|(6,[3],[1.0])|  (19,[3],[1.0])|(7960,[1351],[1.0])|(6163,[3748],[1.0])|(294,[29],[1.0])| (298,[1],[1.0])|(14767,[0,1,2,4,5...|(14767,[0,1,2,4,5...|\n",
            "|2003.0|    1|       2.0|        4| 1053.0|    1035.0| 1726.0|    1634.0|           UA|     1018| N496UA|            273.0|         239.0|  214.0|    52.0|    18.0|   OAK| ORD|  1835.0|  13.0|   46.0|      0.0|           1.0|             1|  1.0|      7.0|          1.0|              3.0|       1351.0|     1755.0|      29.0|     1.0|(11,[7],[1.0])|(6,[1],[1.0])|  (19,[3],[1.0])|(7960,[1351],[1.0])|(6163,[1755],[1.0])|(294,[29],[1.0])| (298,[1],[1.0])|(14767,[0,1,2,4,5...|(14767,[0,1,2,4,5...|\n",
            "|2003.0|    1|       3.0|        5| 1031.0|    1035.0| 1640.0|    1634.0|           UA|     1018| N412UA|            249.0|         239.0|  223.0|     6.0|    -4.0|   OAK| ORD|  1835.0|  13.0|   13.0|      0.0|           1.0|            -1| -1.0|      7.0|          0.0|              3.0|       1351.0|     3970.0|      29.0|     1.0|(11,[7],[1.0])|(6,[0],[1.0])|  (19,[3],[1.0])|(7960,[1351],[1.0])|(6163,[3970],[1.0])|(294,[29],[1.0])| (298,[1],[1.0])|(14767,[0,1,2,4,5...|(14767,[0,1,2,4,5...|\n",
            "|2003.0|    1|       4.0|        6| 1031.0|    1035.0| 1626.0|    1634.0|           UA|     1018| N455UA|            235.0|         239.0|  219.0|    -8.0|    -4.0|   OAK| ORD|  1835.0|   5.0|   11.0|      0.0|          -1.0|            -1| -1.0|      7.0|          6.0|              3.0|       1351.0|     2878.0|      29.0|     1.0|(11,[7],[1.0])|    (6,[],[])|  (19,[3],[1.0])|(7960,[1351],[1.0])|(6163,[2878],[1.0])|(294,[29],[1.0])| (298,[1],[1.0])|(14767,[0,1,2,4,5...|(14767,[0,1,2,4,5...|\n",
            "|2003.0|    1|       5.0|        7| 1035.0|    1035.0| 1636.0|    1634.0|           UA|     1018| N828UA|            241.0|         239.0|  227.0|     2.0|     0.0|   OAK| ORD|  1835.0|   5.0|    9.0|      0.0|           1.0|             1|  1.0|      7.0|          5.0|              3.0|       1351.0|     2566.0|      29.0|     1.0|(11,[7],[1.0])|(6,[5],[1.0])|  (19,[3],[1.0])|(7960,[1351],[1.0])|(6163,[2566],[1.0])|(294,[29],[1.0])| (298,[1],[1.0])|(14767,[0,1,2,4,5...|(14767,[0,1,2,4,5...|\n",
            "|2003.0|    1|       6.0|        1| 1031.0|    1035.0| 1653.0|    1634.0|           UA|     1018| N453UA|            262.0|         239.0|  241.0|    19.0|    -4.0|   OAK| ORD|  1835.0|   7.0|   14.0|      0.0|           1.0|            -1| -1.0|      7.0|          2.0|              3.0|       1351.0|     1933.0|      29.0|     1.0|(11,[7],[1.0])|(6,[2],[1.0])|  (19,[3],[1.0])|(7960,[1351],[1.0])|(6163,[1933],[1.0])|(294,[29],[1.0])| (298,[1],[1.0])|(14767,[0,1,2,4,5...|(14767,[0,1,2,4,5...|\n",
            "|2003.0|    1|       1.0|        3| 1713.0|    1710.0| 1851.0|    1847.0|           UA|     1020| N567UA|             98.0|          97.0|   62.0|     4.0|     3.0|   IAD| BOS|   413.0|   7.0|   29.0|      0.0|           1.0|             1|  1.0|      7.0|          3.0|              3.0|        970.0|     3411.0|      16.0|    14.0|(11,[7],[1.0])|(6,[3],[1.0])|  (19,[3],[1.0])| (7960,[970],[1.0])|(6163,[3411],[1.0])|(294,[16],[1.0])|(298,[14],[1.0])|(14767,[0,1,2,4,5...|(14767,[0,1,2,4,5...|\n",
            "+------+-----+----------+---------+-------+----------+-------+----------+-------------+---------+-------+-----------------+--------------+-------+--------+--------+------+----+--------+------+-------+---------+--------------+--------------+-----+---------+-------------+-----------------+-------------+-----------+----------+--------+--------------+-------------+----------------+-------------------+-------------------+----------------+----------------+--------------------+--------------------+\n",
            "only showing top 10 rows\n",
            "\n"
          ]
        }
      ],
      "source": [
        "train_df.show(10)"
      ]
    },
    {
      "cell_type": "code",
      "execution_count": null,
      "metadata": {
        "colab": {
          "base_uri": "https://localhost:8080/"
        },
        "id": "0yY-bVLTPPae",
        "outputId": "f71012d0-2e8d-45e2-e488-aaee47f2435f"
      },
      "outputs": [
        {
          "name": "stdout",
          "output_type": "stream",
          "text": [
            "+------+-----+----------+---------+------------------+----------+------------------+----------+-------------+---------+-------+------------------+--------------+------------------+-----------------+------------------+------+----+--------+------+-------+---------+--------------+--------------+-----+---------+-------------+-----------------+-------------+-----------+----------+--------+--------------+-------------+----------------+------------------+-------------------+----------------+----------------+--------------------+--------------------+\n",
            "|  Year|Month|DayofMonth|DayOfWeek|           DepTime|CRSDepTime|           ArrTime|CRSArrTime|UniqueCarrier|FlightNum|TailNum| ActualElapsedTime|CRSElapsedTime|           AirTime|         ArrDelay|          DepDelay|Origin|Dest|Distance|TaxiIn|TaxiOut|Cancelled|delay_ArrDelay|delay_DepDelay|label|Month_idx|DayOfWeek_idx|UniqueCarrier_idx|FlightNum_idx|TailNum_idx|Origin_idx|Dest_idx|      Month_oh| DayOfWeek_oh|UniqueCarrier_oh|      FlightNum_oh|         TailNum_oh|       Origin_oh|         Dest_oh|           _features|            features|\n",
            "+------+-----+----------+---------+------------------+----------+------------------+----------+-------------+---------+-------+------------------+--------------+------------------+-----------------+------------------+------+----+--------+------+-------+---------+--------------+--------------+-----+---------+-------------+-----------------+-------------+-----------+----------+--------+--------------+-------------+----------------+------------------+-------------------+----------------+----------------+--------------------+--------------------+\n",
            "|2005.0|    1|      28.0|        5|            1603.0|    1605.0|            1741.0|    1759.0|           UA|      541| N935UA|             158.0|         174.0|             131.0|            -18.0|              -2.0|   BOS| ORD|   867.0|   4.0|   23.0|      0.0|          -1.0|            -1| -1.0|      7.0|          0.0|              3.0|        373.0|     1829.0|      14.0|     1.0|(11,[7],[1.0])|(6,[0],[1.0])|  (19,[3],[1.0])|(7960,[373],[1.0])|(6163,[1829],[1.0])|(294,[14],[1.0])| (298,[1],[1.0])|(14767,[0,1,2,4,5...|(14767,[0,1,2,4,5...|\n",
            "|2005.0|    1|      29.0|        6|            1559.0|    1605.0|            1736.0|    1759.0|           UA|      541| N941UA|             157.0|         174.0|             136.0|            -23.0|              -6.0|   BOS| ORD|   867.0|   6.0|   15.0|      0.0|          -1.0|            -1| -1.0|      7.0|          6.0|              3.0|        373.0|     1541.0|      14.0|     1.0|(11,[7],[1.0])|    (6,[],[])|  (19,[3],[1.0])|(7960,[373],[1.0])|(6163,[1541],[1.0])|(294,[14],[1.0])| (298,[1],[1.0])|(14767,[0,1,2,4,5...|(14767,[0,1,2,4,5...|\n",
            "|2005.0|    1|      30.0|        7|            1603.0|    1610.0|            1741.0|    1805.0|           UA|      541| N342UA|             158.0|         175.0|             131.0|            -24.0|              -7.0|   BOS| ORD|   867.0|   9.0|   18.0|      0.0|          -1.0|            -1| -1.0|      7.0|          5.0|              3.0|        373.0|     1828.0|      14.0|     1.0|(11,[7],[1.0])|(6,[5],[1.0])|  (19,[3],[1.0])|(7960,[373],[1.0])|(6163,[1828],[1.0])|(294,[14],[1.0])| (298,[1],[1.0])|(14767,[0,1,2,4,5...|(14767,[0,1,2,4,5...|\n",
            "|2005.0|    1|      31.0|        1|            1556.0|    1605.0|            1726.0|    1759.0|           UA|      541| N326UA|             150.0|         174.0|             129.0|            -33.0|              -9.0|   BOS| ORD|   867.0|  11.0|   10.0|      0.0|          -1.0|            -1| -1.0|      7.0|          2.0|              3.0|        373.0|     1819.0|      14.0|     1.0|(11,[7],[1.0])|(6,[2],[1.0])|  (19,[3],[1.0])|(7960,[373],[1.0])|(6163,[1819],[1.0])|(294,[14],[1.0])| (298,[1],[1.0])|(14767,[0,1,2,4,5...|(14767,[0,1,2,4,5...|\n",
            "|2005.0|    1|       2.0|        7|            1934.0|    1900.0|            2235.0|    2232.0|           UA|      542| N902UA|             121.0|         152.0|             106.0|              3.0|              34.0|   ORD| BOS|   867.0|   5.0|   10.0|      0.0|           1.0|             1|  1.0|      7.0|          5.0|              3.0|        155.0|     1860.0|       1.0|    14.0|(11,[7],[1.0])|(6,[5],[1.0])|  (19,[3],[1.0])|(7960,[155],[1.0])|(6163,[1860],[1.0])| (294,[1],[1.0])|(298,[14],[1.0])|(14767,[0,1,2,4,5...|(14767,[0,1,2,4,5...|\n",
            "|2005.0|    1|       3.0|        1|            2042.0|    1900.0|               9.0|    2232.0|           UA|      542| N904UA|             147.0|         152.0|              97.0|             97.0|             102.0|   ORD| BOS|   867.0|   3.0|   47.0|      0.0|           1.0|             1|  1.0|      7.0|          2.0|              3.0|        155.0|     1840.0|       1.0|    14.0|(11,[7],[1.0])|(6,[2],[1.0])|  (19,[3],[1.0])|(7960,[155],[1.0])|(6163,[1840],[1.0])| (294,[1],[1.0])|(298,[14],[1.0])|(14767,[0,1,2,4,5...|(14767,[0,1,2,4,5...|\n",
            "|2005.0|    1|       4.0|        2|            2046.0|    1900.0|            2357.0|    2232.0|           UA|      542| N942UA|             131.0|         152.0|             100.0|             85.0|             106.0|   ORD| BOS|   867.0|   5.0|   26.0|      0.0|           1.0|             1|  1.0|      7.0|          4.0|              3.0|        155.0|     1611.0|       1.0|    14.0|(11,[7],[1.0])|(6,[4],[1.0])|  (19,[3],[1.0])|(7960,[155],[1.0])|(6163,[1611],[1.0])| (294,[1],[1.0])|(298,[14],[1.0])|(14767,[0,1,2,4,5...|(14767,[0,1,2,4,5...|\n",
            "|2005.0|    1|       5.0|        3|1345.2772458072757|    1900.0|1497.2636557398544|    2232.0|           UA|      542| 000000|123.53254812672822|         152.0|102.58211708567052|5.827494849740542|7.3329448479930575|   ORD| BOS|   867.0|   0.0|    0.0|      1.0|           1.0|             1|  1.0|      7.0|          3.0|              3.0|        155.0|        1.0|       1.0|    14.0|(11,[7],[1.0])|(6,[3],[1.0])|  (19,[3],[1.0])|(7960,[155],[1.0])|   (6163,[1],[1.0])| (294,[1],[1.0])|(298,[14],[1.0])|(14767,[0,1,3,4,5...|(14767,[0,1,3,4,5...|\n",
            "|2005.0|    1|       6.0|        4|            2110.0|    1900.0|               8.0|    2223.0|           UA|      542| N920UA|             118.0|         143.0|             101.0|            105.0|             130.0|   ORD| BOS|   867.0|   2.0|   15.0|      0.0|           1.0|             1|  1.0|      7.0|          1.0|              3.0|        155.0|     3082.0|       1.0|    14.0|(11,[7],[1.0])|(6,[1],[1.0])|  (19,[3],[1.0])|(7960,[155],[1.0])|(6163,[3082],[1.0])| (294,[1],[1.0])|(298,[14],[1.0])|(14767,[0,1,2,4,5...|(14767,[0,1,2,4,5...|\n",
            "|2005.0|    1|       7.0|        5|            1859.0|    1900.0|            2235.0|    2223.0|           UA|      542| N340UA|             156.0|         143.0|              96.0|             12.0|              -1.0|   ORD| BOS|   867.0|   4.0|   56.0|      0.0|           1.0|            -1| -1.0|      7.0|          0.0|              3.0|        155.0|     1704.0|       1.0|    14.0|(11,[7],[1.0])|(6,[0],[1.0])|  (19,[3],[1.0])|(7960,[155],[1.0])|(6163,[1704],[1.0])| (294,[1],[1.0])|(298,[14],[1.0])|(14767,[0,1,2,4,5...|(14767,[0,1,2,4,5...|\n",
            "+------+-----+----------+---------+------------------+----------+------------------+----------+-------------+---------+-------+------------------+--------------+------------------+-----------------+------------------+------+----+--------+------+-------+---------+--------------+--------------+-----+---------+-------------+-----------------+-------------+-----------+----------+--------+--------------+-------------+----------------+------------------+-------------------+----------------+----------------+--------------------+--------------------+\n",
            "only showing top 10 rows\n",
            "\n"
          ]
        }
      ],
      "source": [
        "test_df.show(10)"
      ]
    },
    {
      "cell_type": "markdown",
      "metadata": {
        "id": "0W0U0KLE2W8U"
      },
      "source": [
        "# Model Prediction"
      ]
    },
    {
      "cell_type": "markdown",
      "metadata": {
        "id": "otgH9a8ZWmcA"
      },
      "source": [
        "## Linear Regression_classification\n",
        "\n",
        "Train Logistic Regression Model\n",
        "\n",
        "\n",
        "In our predictive framework, the model we use is Logistic Regression Classifier, which is widely used to predict a binary response. In statistics, the logistic model is a statistical model with input (independent variable) a continuous variable and output (dependent variable) a binary variable, where a unit change in the input multiplies the odds of the two possible outputs by a constant factor. For binary classification problems, the algorithm outputs a binary logistic regression model.\n",
        "\n",
        "In spark.ml, two algorithms have been implemented to solve logistic regression: mini-batch gradient descent and L-BFGS. L-BFGS is used in our predictive framework for faster convergence.\n",
        "\n",
        "Besides the fact that we have decided the model to be used, we also need to find its best parameters for a given task.\n",
        "\n",
        "We tackle this tuning task using CrossValidator, which takes an Estimator (i.e., logistic regression in this case), a set of ParamMaps (i.e., regularization parameter (>= 0) of logistic regression model in this case), and an Evaluator (i.e. area under precision-recall curve in this case).\n",
        "\n",
        "CrossValidator begins by splitting the dataset into a set of folds which are used as separate training and test datasets. For example, with k=3 folds, CrossValidator will generate 3 (training, test) dataset pairs, each of which uses 2/3 of the data for training and 1/3 for testing. For each ParamMap, CrossValidator trains the given Estimator and evaluates it using the given Evaluator. Note that we use k=10 in our predictive framework (10-fold cross validation)."
      ]
    },
    {
      "cell_type": "code",
      "source": [
        "from pyspark.ml.classification import LogisticRegression\n",
        "from pyspark.ml.evaluation import BinaryClassificationEvaluator\n",
        "from pyspark.ml.tuning import CrossValidator, ParamGridBuilder\n",
        "import numpy as np\n",
        "lr = LogisticRegression(maxIter = 10)"
      ],
      "metadata": {
        "id": "uJsL4WcT96kO"
      },
      "execution_count": null,
      "outputs": []
    },
    {
      "cell_type": "code",
      "source": [
        "paramGrid_lr = ParamGridBuilder() \\\n",
        "    .addGrid(lr.regParam, np.linspace(0.3, 0.01, 10)) \\\n",
        "    .addGrid(lr.elasticNetParam, np.linspace(0.3, 0.8, 6)) \\\n",
        "    .build()"
      ],
      "metadata": {
        "id": "QQMdBxqp97a7"
      },
      "execution_count": null,
      "outputs": []
    },
    {
      "cell_type": "code",
      "source": [
        "crossval_lr = CrossValidator(estimator=lr,\n",
        "                          estimatorParamMaps=paramGrid_lr,\n",
        "                          evaluator=BinaryClassificationEvaluator(),\n",
        "                          numFolds= 3)  \n",
        "lr_model = crossval_lr.fit(train_df)"
      ],
      "metadata": {
        "id": "DqyAaQNB-AkN"
      },
      "execution_count": null,
      "outputs": []
    },
    {
      "cell_type": "code",
      "source": [
        "# https://stackoverflow.com/questions/45855366/how-to-save-load-pyspark-ml-model-to-hbase\n",
        "basePath = \"/content/drive/MyDrive/01_GMBA/2nd_semester(2022)/03-1AM_Big Data Analytics Techniques and Applications/0427_0525HW4/HW4/Model_save\"\n",
        "modelName = \"/lr_model_0530_V1\"\n",
        "lr_model.save(basePath + modelName)"
      ],
      "metadata": {
        "id": "OJmkgbe2W8q2"
      },
      "execution_count": null,
      "outputs": []
    },
    {
      "cell_type": "markdown",
      "source": [
        "### Training Plot"
      ],
      "metadata": {
        "id": "t-B2cO0O7aZI"
      }
    },
    {
      "cell_type": "code",
      "execution_count": null,
      "metadata": {
        "colab": {
          "base_uri": "https://localhost:8080/",
          "height": 265
        },
        "id": "FaXmdlXsKynM",
        "outputId": "c196f6b5-e3af-4e12-823d-3c41016a506a"
      },
      "outputs": [
        {
          "data": {
            "image/png": "[encoded data removed]",
            "text/plain": [
              "<Figure size 432x288 with 1 Axes>"
            ]
          },
          "metadata": {},
          "output_type": "display_data"
        }
      ],
      "source": [
        "import matplotlib.pyplot as plt\n",
        "import numpy as np\n",
        "beta = np.sort(lr_model.coefficients)\n",
        "plt.plot(beta)\n",
        "plt.ylabel('Beta Coefficients')\n",
        "plt.show()"
      ]
    },
    {
      "cell_type": "code",
      "execution_count": null,
      "metadata": {
        "colab": {
          "base_uri": "https://localhost:8080/",
          "height": 313
        },
        "id": "yA0LwrrVK5ez",
        "outputId": "cbf62c78-997b-4ef5-911f-34a6866ca2e8"
      },
      "outputs": [
        {
          "data": {
            "image/png": "[encoded data removed]",
            "text/plain": [
              "<Figure size 432x288 with 1 Axes>"
            ]
          },
          "metadata": {},
          "output_type": "display_data"
        },
        {
          "name": "stdout",
          "output_type": "stream",
          "text": [
            "Training set areaUnderROC: 0.8152082347167017\n"
          ]
        }
      ],
      "source": [
        "trainingSummary = lr_model.summary\n",
        "roc = trainingSummary.roc.toPandas()\n",
        "plt.plot(roc['FPR'],roc['TPR'])\n",
        "plt.ylabel('False Positive Rate')\n",
        "plt.xlabel('True Positive Rate')\n",
        "plt.title('ROC Curve')\n",
        "plt.show()\n",
        "print('Training set areaUnderROC: ' + str(trainingSummary.areaUnderROC))"
      ]
    },
    {
      "cell_type": "code",
      "execution_count": null,
      "metadata": {
        "colab": {
          "base_uri": "https://localhost:8080/",
          "height": 279
        },
        "id": "7S-2K5dcK_J6",
        "outputId": "156b7252-00fd-4f5b-c4fd-9fc10bd08ebf"
      },
      "outputs": [
        {
          "data": {
            "image/png": "[encoded data removed]",
            "text/plain": [
              "<Figure size 432x288 with 1 Axes>"
            ]
          },
          "metadata": {},
          "output_type": "display_data"
        }
      ],
      "source": [
        "pr = trainingSummary.pr.toPandas()\n",
        "plt.plot(pr['recall'],pr['precision'])\n",
        "plt.ylabel('Precision')\n",
        "plt.xlabel('Recall')\n",
        "plt.show()"
      ]
    },
    {
      "cell_type": "code",
      "execution_count": null,
      "metadata": {
        "id": "Dd2zR8RbBMRn"
      },
      "outputs": [],
      "source": [
        "trainingSummary = lr_model.summary\n",
        "print('Test Area Under ROC' % trainingSummary.areaUnderROC)\n",
        "# print(\"r2: %f\" % trainingSummary.r2)\n"
      ]
    },
    {
      "cell_type": "markdown",
      "source": [
        "### Test evaluation"
      ],
      "metadata": {
        "id": "9XqFzFaP7f-V"
      }
    },
    {
      "cell_type": "code",
      "execution_count": null,
      "metadata": {
        "id": "8kyIWPnOBMRo"
      },
      "outputs": [],
      "source": [
        "from pyspark.ml.classification import LogisticRegression\n",
        "from pyspark.ml.evaluation import BinaryClassificationEvaluator\n",
        "from pyspark.ml.tuning import CrossValidator, ParamGridBuilder\n",
        "import numpy as np\n",
        "from pyspark.ml.tuning import ParamGridBuilder, CrossValidator"
      ]
    },
    {
      "cell_type": "code",
      "source": [
        "# # https://stackoverflow.com/questions/45855366/how-to-save-load-pyspark-ml-model-to-hbase\n",
        "\n",
        "# # loading:\n",
        "# # from pyspark.ml.regression import LinearRegressionModel\n",
        "# # model = LinearRegressionModel.load(model_path)\n",
        "\n",
        "# basePath = \"/content/drive/MyDrive/01_GMBA/2nd_semester(2022)/03-1AM_Big Data Analytics Techniques and Applications/0427_0525HW4/HW4/Model_save\"\n",
        "# modelName = \"/lr_model_0530_V1\"\n",
        "\n",
        "# from pyspark.ml.classification import LogisticRegressionModel\n",
        "# lr_model = LogisticRegressionModel.load(basePath + modelName)"
      ],
      "metadata": {
        "id": "Y3NxLE7YW0Oh"
      },
      "execution_count": null,
      "outputs": []
    },
    {
      "cell_type": "code",
      "execution_count": null,
      "metadata": {
        "colab": {
          "base_uri": "https://localhost:8080/"
        },
        "id": "Y09iTFuIBMRo",
        "outputId": "4ae8f1c5-40dd-447c-db4c-77b9ce1f4f5c"
      },
      "outputs": [
        {
          "output_type": "stream",
          "name": "stdout",
          "text": [
            "+------+-----+----------+---------+----------+----------+-------------+---------+-------+--------------+------+----+--------+------+-------+---------+--------------+-----+---------+-------------+-----------------+-------------+-----------+----------+--------+--------------+-------------+----------------+------------------+-------------------+----------------+----------------+--------------------+--------------------+--------------------+--------------------+----------+\n",
            "|  Year|Month|DayofMonth|DayOfWeek|CRSDepTime|CRSArrTime|UniqueCarrier|FlightNum|TailNum|CRSElapsedTime|Origin|Dest|Distance|TaxiIn|TaxiOut|Cancelled|delay_DepDelay|label|Month_idx|DayOfWeek_idx|UniqueCarrier_idx|FlightNum_idx|TailNum_idx|Origin_idx|Dest_idx|      Month_oh| DayOfWeek_oh|UniqueCarrier_oh|      FlightNum_oh|         TailNum_oh|       Origin_oh|         Dest_oh|           _features|            features|       rawPrediction|         probability|prediction|\n",
            "+------+-----+----------+---------+----------+----------+-------------+---------+-------+--------------+------+----+--------+------+-------+---------+--------------+-----+---------+-------------+-----------------+-------------+-----------+----------+--------+--------------+-------------+----------------+------------------+-------------------+----------------+----------------+--------------------+--------------------+--------------------+--------------------+----------+\n",
            "|2005.0|    1|      28.0|        5|    1605.0|    1759.0|           UA|      541| N935UA|         174.0|   BOS| ORD|   867.0|   4.0|   23.0|      0.0|             0|  0.0|      7.0|          0.0|              3.0|        373.0|     1829.0|      14.0|     1.0|(11,[7],[1.0])|(6,[0],[1.0])|  (19,[3],[1.0])|(7960,[373],[1.0])|(6163,[1829],[1.0])|(294,[14],[1.0])| (298,[1],[1.0])|(14760,[0,1,2,3,4...|(14760,[0,1,2,3,4...|[-52.764378507821...|[1.21540655141557...|       1.0|\n",
            "|2005.0|    1|      29.0|        6|    1605.0|    1759.0|           UA|      541| N941UA|         174.0|   BOS| ORD|   867.0|   6.0|   15.0|      0.0|             0|  0.0|      7.0|          6.0|              3.0|        373.0|     1541.0|      14.0|     1.0|(11,[7],[1.0])|    (6,[],[])|  (19,[3],[1.0])|(7960,[373],[1.0])|(6163,[1541],[1.0])|(294,[14],[1.0])| (298,[1],[1.0])|(14760,[0,1,2,3,4...|(14760,[0,1,2,3,4...|[-52.504042804967...|[1.57682658040296...|       1.0|\n",
            "|2005.0|    1|      30.0|        7|    1610.0|    1805.0|           UA|      541| N342UA|         175.0|   BOS| ORD|   867.0|   9.0|   18.0|      0.0|             0|  0.0|      7.0|          5.0|              3.0|        373.0|     1828.0|      14.0|     1.0|(11,[7],[1.0])|(6,[5],[1.0])|  (19,[3],[1.0])|(7960,[373],[1.0])|(6163,[1828],[1.0])|(294,[14],[1.0])| (298,[1],[1.0])|(14760,[0,1,2,3,4...|(14760,[0,1,2,3,4...|[-52.854839557214...|[1.11028593544246...|       1.0|\n",
            "|2005.0|    1|      31.0|        1|    1605.0|    1759.0|           UA|      541| N326UA|         174.0|   BOS| ORD|   867.0|  11.0|   10.0|      0.0|             0|  0.0|      7.0|          2.0|              3.0|        373.0|     1819.0|      14.0|     1.0|(11,[7],[1.0])|(6,[2],[1.0])|  (19,[3],[1.0])|(7960,[373],[1.0])|(6163,[1819],[1.0])|(294,[14],[1.0])| (298,[1],[1.0])|(14760,[0,1,2,3,4...|(14760,[0,1,2,3,4...|[-52.930572334549...|[1.02930601603236...|       1.0|\n",
            "|2005.0|    1|       2.0|        7|    1900.0|    2232.0|           UA|      542| N902UA|         152.0|   ORD| BOS|   867.0|   5.0|   10.0|      0.0|             1|  1.0|      7.0|          5.0|              3.0|        155.0|     1860.0|       1.0|    14.0|(11,[7],[1.0])|(6,[5],[1.0])|  (19,[3],[1.0])|(7960,[155],[1.0])|(6163,[1860],[1.0])| (294,[1],[1.0])|(298,[14],[1.0])|(14760,[0,1,2,3,4...|(14760,[0,1,2,3,4...|[-53.904469911387...|[3.88674606514043...|       1.0|\n",
            "|2005.0|    1|       3.0|        1|    1900.0|    2232.0|           UA|      542| N904UA|         152.0|   ORD| BOS|   867.0|   3.0|   47.0|      0.0|             1|  1.0|      7.0|          2.0|              3.0|        155.0|     1840.0|       1.0|    14.0|(11,[7],[1.0])|(6,[2],[1.0])|  (19,[3],[1.0])|(7960,[155],[1.0])|(6163,[1840],[1.0])| (294,[1],[1.0])|(298,[14],[1.0])|(14760,[0,1,2,3,4...|(14760,[0,1,2,3,4...|[-54.204136703904...|[2.88033189247914...|       1.0|\n",
            "|2005.0|    1|       4.0|        2|    1900.0|    2232.0|           UA|      542| N942UA|         152.0|   ORD| BOS|   867.0|   5.0|   26.0|      0.0|             1|  1.0|      7.0|          4.0|              3.0|        155.0|     1611.0|       1.0|    14.0|(11,[7],[1.0])|(6,[4],[1.0])|  (19,[3],[1.0])|(7960,[155],[1.0])|(6163,[1611],[1.0])| (294,[1],[1.0])|(298,[14],[1.0])|(14760,[0,1,2,3,4...|(14760,[0,1,2,3,4...|[-53.701112098772...|[4.76324964140192...|       1.0|\n",
            "|2005.0|    1|       5.0|        3|    1900.0|    2232.0|           UA|      542| 000000|         152.0|   ORD| BOS|   867.0|   0.0|    0.0|      1.0|             1|  1.0|      7.0|          3.0|              3.0|        155.0|        1.0|       1.0|    14.0|(11,[7],[1.0])|(6,[3],[1.0])|  (19,[3],[1.0])|(7960,[155],[1.0])|   (6163,[1],[1.0])| (294,[1],[1.0])|(298,[14],[1.0])|(14760,[0,1,2,3,5...|(14760,[0,1,2,3,5...|[-67.851757071588...|[3.40687591780181...|       1.0|\n",
            "|2005.0|    1|       6.0|        4|    1900.0|    2223.0|           UA|      542| N920UA|         143.0|   ORD| BOS|   867.0|   2.0|   15.0|      0.0|             1|  1.0|      7.0|          1.0|              3.0|        155.0|     3082.0|       1.0|    14.0|(11,[7],[1.0])|(6,[1],[1.0])|  (19,[3],[1.0])|(7960,[155],[1.0])|(6163,[3082],[1.0])| (294,[1],[1.0])|(298,[14],[1.0])|(14760,[0,1,2,3,4...|(14760,[0,1,2,3,4...|[-53.915759147426...|[3.84311441875777...|       1.0|\n",
            "|2005.0|    1|       7.0|        5|    1900.0|    2223.0|           UA|      542| N340UA|         143.0|   ORD| BOS|   867.0|   4.0|   56.0|      0.0|             0|  0.0|      7.0|          0.0|              3.0|        155.0|     1704.0|       1.0|    14.0|(11,[7],[1.0])|(6,[0],[1.0])|  (19,[3],[1.0])|(7960,[155],[1.0])|(6163,[1704],[1.0])| (294,[1],[1.0])|(298,[14],[1.0])|(14760,[0,1,2,3,4...|(14760,[0,1,2,3,4...|[-54.336162764394...|[2.52408713700879...|       1.0|\n",
            "+------+-----+----------+---------+----------+----------+-------------+---------+-------+--------------+------+----+--------+------+-------+---------+--------------+-----+---------+-------------+-----------------+-------------+-----------+----------+--------+--------------+-------------+----------------+------------------+-------------------+----------------+----------------+--------------------+--------------------+--------------------+--------------------+----------+\n",
            "only showing top 10 rows\n",
            "\n"
          ]
        }
      ],
      "source": [
        "lr_predictions = lr_model.transform(test_df)\n",
        "lr_predictions.show(10)"
      ]
    },
    {
      "cell_type": "code",
      "execution_count": null,
      "metadata": {
        "colab": {
          "base_uri": "https://localhost:8080/"
        },
        "id": "XfOFsrqtBoF_",
        "outputId": "e22514ba-3ffd-44cf-af29-fe29b8ff98d2"
      },
      "outputs": [
        {
          "name": "stdout",
          "output_type": "stream",
          "text": [
            "Test Area Under ROC 0.6732762232013803\n"
          ]
        }
      ],
      "source": [
        "# Area under the curve for the training data\n",
        "from pyspark.ml.evaluation import BinaryClassificationEvaluator\n",
        "# evaluator = BinaryClassificationEvaluator()\n",
        "lr_evaluator = BinaryClassificationEvaluator(rawPredictionCol='prediction', labelCol='delay_DepDelay', metricName='areaUnderROC')\n",
        "print('Test Area Under ROC', lr_evaluator.evaluate(lr_predictions))"
      ]
    },
    {
      "cell_type": "code",
      "execution_count": null,
      "metadata": {
        "id": "al9lPd7OCNiY"
      },
      "outputs": [],
      "source": [
        "# from pyspark.ml.evaluation import MulticlassClassificationEvaluator\n",
        "# lr_evaluator_mul = MulticlassClassificationEvaluator(labelCol=\"delay_DepDelay\", predictionCol=\"prediction\", metricName=\"accuracy\")\n",
        "\n",
        "# lr_accuracy = lr_evaluator_mul.evaluate(lr_predictions)\n",
        "# print(\"Test accuracy = %g\" % (lr_accuracy))\n",
        "# print(\"Test Error = %g\" % (1.0 - lr_accuracy))"
      ]
    },
    {
      "cell_type": "code",
      "execution_count": null,
      "metadata": {
        "colab": {
          "base_uri": "https://localhost:8080/"
        },
        "id": "LezqvOCFCt_n",
        "outputId": "3509c41c-92b2-4cd9-d5d9-8f7a2180157c"
      },
      "outputs": [
        {
          "name": "stdout",
          "output_type": "stream",
          "text": [
            "Test accuracy = 0.677228\n",
            "Test Error = 0.322772\n"
          ]
        }
      ],
      "source": [
        "from pyspark.ml.evaluation import MulticlassClassificationEvaluator\n",
        "lr_evaluator_mul = MulticlassClassificationEvaluator(labelCol=\"delay_DepDelay\", predictionCol=\"prediction\", metricName=\"accuracy\")\n",
        "\n",
        "lr_accuracy = lr_evaluator_mul.evaluate(lr_predictions)\n",
        "print(\"Test accuracy = %g\" % (lr_accuracy))\n",
        "print(\"Test Error = %g\" % (1.0 - lr_accuracy))"
      ]
    },
    {
      "cell_type": "code",
      "execution_count": null,
      "metadata": {
        "id": "ip3Ftl1iAW6R"
      },
      "outputs": [],
      "source": [
        "# https://stackoverflow.com/questions/45855366/how-to-save-load-pyspark-ml-model-to-hbase\n",
        "basePath = \"/content/drive/MyDrive/01_GMBA/2nd_semester(2022)/03-1AM_Big Data Analytics Techniques and Applications/0427_0525HW4/HW4/Model_save\"\n",
        "modelName = \"/lr_model_0530_V1\"\n",
        "lr_model.save(basePath + modelName)"
      ]
    },
    {
      "cell_type": "code",
      "execution_count": null,
      "metadata": {
        "id": "cHDLs58JDFr-"
      },
      "outputs": [],
      "source": [
        "# Select example rows to display.\n",
        "df_predit = lr_predictions.select( \"delay_DepDelay\", \"prediction\")\n",
        "df_predit.show(10).toPandas().head(10)"
      ]
    },
    {
      "cell_type": "markdown",
      "metadata": {
        "id": "UzCH2CwB9hgj"
      },
      "source": [
        "### Testing Plot"
      ]
    },
    {
      "cell_type": "code",
      "execution_count": null,
      "metadata": {
        "colab": {
          "base_uri": "https://localhost:8080/"
        },
        "outputId": "63926c31-69f3-402f-c0c1-40e8e4ca9e21",
        "id": "Fd7dvl-v9hgk"
      },
      "outputs": [
        {
          "name": "stdout",
          "output_type": "stream",
          "text": [
            "[[2033033. 1168548.]\n",
            " [1136235. 2802780.]]\n"
          ]
        }
      ],
      "source": [
        "#important: need to cast to float type, and order by prediction, else it won't work\n",
        "# preds_and_labels = lr_predictions.select(['prediction','d']).withColumn('label', F.col('d').cast(FloatType())).orderBy('prediction')\n",
        "\n",
        "#select only prediction and label columns\n",
        "preds_and_labels = lr_predictions.select(['prediction','label'])\n",
        "\n",
        "metrics = MulticlassMetrics(preds_and_labels.rdd.map(tuple))\n",
        "\n",
        "print(metrics.confusionMatrix().toArray())"
      ]
    },
    {
      "cell_type": "code",
      "source": [
        "# https://stackoverflow.com/questions/37578416/precision-and-recall-on-pyspark-decisiontree-model-diverges-from-manual-results\n",
        "metrics.recall()\n",
        "print(\"Test Recall = %g\" % (metrics.recall()))"
      ],
      "metadata": {
        "id": "1QM7xd7vRXG7"
      },
      "execution_count": null,
      "outputs": []
    },
    {
      "cell_type": "code",
      "execution_count": null,
      "metadata": {
        "colab": {
          "base_uri": "https://localhost:8080/",
          "height": 288
        },
        "outputId": "a5e5ba25-a8eb-4159-d30d-064d1539d5de",
        "id": "kWMzGSs89hgl"
      },
      "outputs": [
        {
          "data": {
            "image/png": "[encoded data removed]",
            "text/plain": [
              "<Figure size 432x288 with 2 Axes>"
            ]
          },
          "metadata": {},
          "output_type": "display_data"
        }
      ],
      "source": [
        "import seaborn as sn\n",
        "import pandas as pd\n",
        "import matplotlib.pyplot as plt\n",
        "\n",
        "cm_array = metrics.confusionMatrix().toArray()\n",
        "\n",
        "df_cm = pd.DataFrame(cm_array, range(2), range(2))\n",
        "# plt.figure(figsize=(10,7))\n",
        "sn.set(font_scale=1.4) # for label size\n",
        "sn.heatmap(df_cm, annot=True, annot_kws={\"size\": 16}, cmap=\"Blues\", fmt='.1f') # font size\n",
        "\n",
        "plt.show()"
      ]
    },
    {
      "cell_type": "code",
      "execution_count": null,
      "metadata": {
        "id": "tHeVnAlH9hgm"
      },
      "outputs": [],
      "source": [
        "import sklearn \n",
        "# from pyspark.ml.classification import RandomForestClassifier\n",
        "\n",
        "# rf = RandomForestClassifier(featuresCol = 'features', labelCol = 'label', numTrees=500)\n",
        "# rfModel = rf.fit(train)\n",
        "# predictions_train = rfModel.transform(train)\n",
        "\n",
        "y_true = lr_predictions.select(['label']).collect()\n",
        "y_pred = lr_predictions.select(['prediction']).collect()\n",
        "\n",
        "from sklearn.metrics import classification_report, confusion_matrix\n",
        "print(classification_report(y_true, y_pred))"
      ]
    },
    {
      "cell_type": "code",
      "execution_count": null,
      "metadata": {
        "id": "fdQTzpcE9hgm"
      },
      "outputs": [],
      "source": [
        "from pyspark.mllib.evaluation import BinaryClassificationMetrics\n",
        "\n",
        "# Scala version implements .roc() and .pr()\n",
        "# Python: https://spark.apache.org/docs/latest/api/python/_modules/pyspark/mllib/common.html\n",
        "# Scala: https://spark.apache.org/docs/latest/api/java/org/apache/spark/mllib/evaluation/BinaryClassificationMetrics.html\n",
        "class CurveMetrics(BinaryClassificationMetrics):\n",
        "    def __init__(self, *args):\n",
        "        super(CurveMetrics, self).__init__(*args)\n",
        "\n",
        "    def _to_list(self, rdd):\n",
        "        points = []\n",
        "        # Note this collect could be inefficient for large datasets \n",
        "        # considering there may be one probability per datapoint (at most)\n",
        "        # The Scala version takes a numBins parameter, \n",
        "        # but it doesn't seem possible to pass this from Python to Java\n",
        "        for row in rdd.collect():\n",
        "            # Results are returned as type scala.Tuple2, \n",
        "            # which doesn't appear to have a py4j mapping\n",
        "            points += [(float(row._1()), float(row._2()))]\n",
        "        return points\n",
        "\n",
        "    def get_curve(self, method):\n",
        "        rdd = getattr(self._java_model, method)().toJavaRDD()\n",
        "        return self._to_list(rdd)"
      ]
    },
    {
      "cell_type": "code",
      "source": [
        "import matplotlib.pyplot as plt"
      ],
      "metadata": {
        "id": "b7Bet90D9hgm"
      },
      "execution_count": null,
      "outputs": []
    },
    {
      "cell_type": "code",
      "execution_count": null,
      "metadata": {
        "id": "cVpZ0p7t9hgn"
      },
      "outputs": [],
      "source": [
        "import matplotlib.pyplot as plt\n",
        "from pyspark.mllib.evaluation import BinaryClassificationMetrics\n",
        "\n",
        "# # Create a Pipeline estimator and fit on train DF, predict on test DF\n",
        "# model = estimator.fit(train)\n",
        "# predictions = model.transform(test)\n",
        "\n",
        "# Returns as a list (false positive rate, true positive rate)\n",
        "preds = lr_predictions.select('label','probability').rdd.map(lambda row: (float(row['probability'][1]), float(row['label'])))\n",
        "points = CurveMetrics(preds).get_curve('roc')\n",
        "\n",
        "# plt.figure()\n",
        "# x_val = [x[0] for x in points]\n",
        "# y_val = [x[1] for x in points]\n",
        "\n",
        "# title = 'ROC Curve'\n",
        "# xlabel = 'True Positive Rate'\n",
        "# ylabel = 'False Positive Rate'\n",
        "# plt.title(title)\n",
        "# plt.xlabel(xlabel)\n",
        "# plt.ylabel(ylabel)\n",
        "# plt.plot(x_val, y_val)"
      ]
    },
    {
      "cell_type": "code",
      "execution_count": null,
      "metadata": {
        "colab": {
          "base_uri": "https://localhost:8080/",
          "height": 333
        },
        "outputId": "c7e1fabe-7b8d-4929-ddcf-ad189fb34753",
        "id": "gz29mdCh9hgn"
      },
      "outputs": [
        {
          "data": {
            "text/plain": [
              "[<matplotlib.lines.Line2D at 0x7f18af6f3150>]"
            ]
          },
          "execution_count": 82,
          "metadata": {},
          "output_type": "execute_result"
        },
        {
          "data": {
            "image/png": "[encoded data removed]",
            "text/plain": [
              "<Figure size 432x288 with 1 Axes>"
            ]
          },
          "metadata": {},
          "output_type": "display_data"
        }
      ],
      "source": [
        "plt.figure()\n",
        "x_val = [x[0] for x in points]\n",
        "y_val = [x[1] for x in points]\n",
        "\n",
        "title = 'ROC Curve'\n",
        "xlabel = 'True Positive Rate'\n",
        "ylabel = 'False Positive Rate'\n",
        "plt.title(title)\n",
        "plt.xlabel(xlabel)\n",
        "plt.ylabel(ylabel)\n",
        "plt.plot(x_val, y_val)"
      ]
    },
    {
      "cell_type": "code",
      "execution_count": null,
      "metadata": {
        "colab": {
          "background_save": true
        },
        "outputId": "c1197277-286a-419e-d0c8-f169d5d42922",
        "id": "sLboCMA19hgo"
      },
      "outputs": [
        {
          "data": {
            "text/plain": [
              "[(0.99999925428444, 0.0018103510649235912),\n",
              " (0.9999986585642087, 0.00362146374156991),\n",
              " (0.9999969435715177, 0.005422167724672285),\n",
              " (0.9999926465516146, 0.00715305729985796),\n",
              " (0.9999900828240798, 0.008913903602804255),\n",
              " (0.9999879093532289, 0.010684904728720251),\n",
              " (0.9999858154983989, 0.01244625877281503),\n",
              " (0.9999836466045463, 0.014213197969543147),\n",
              " (0.9999813437425885, 0.01597480588421217),\n",
              " (0.9999789037021106, 0.017733875093138767),\n",
              " (0.9999762242978246, 0.019490151725748694),\n",
              " (0.9999732000169872, 0.021228403547587406),\n",
              " (0.999969754809369, 0.02297858728641551),\n",
              " (0.9999658844785515, 0.024728263284095137),\n",
              " (0.9999613738910185, 0.02645991447100354),\n",
              " (0.9999559603166606, 0.02819283501078315),\n",
              " (0.9999492597041274, 0.029918647174483975),\n",
              " (0.9999407240198831, 0.03164217450301662),\n",
              " (0.9999289436621085, 0.03335605474972804),\n",
              " (0.9999110970894265, 0.03506765016127128),\n",
              " (0.9998786947899677, 0.03677797621994331),\n",
              " (0.9997896235719278, 0.03843575106974713),\n",
              " (0.9995463085316204, 0.040118659106400965),\n",
              " (0.9993836897386991, 0.041899815055286664),\n",
              " (0.9992712547825667, 0.04369544162690419),\n",
              " (0.9991843978470877, 0.04549132206909595),\n",
              " (0.9991094813205165, 0.04729354927564378),\n",
              " (0.9990432007021738, 0.049099330670231006),\n",
              " (0.9989842584540886, 0.05090257335907581),\n",
              " (0.9989298793385218, 0.0527045466950494),\n",
              " (0.9988792449983179, 0.054510581960210865),\n",
              " (0.9988317353170121, 0.056317632707669305),\n",
              " (0.9987857366649182, 0.05812062152593986),\n",
              " (0.9987425241559132, 0.05992513356765587),\n",
              " (0.9987007722764768, 0.06172939173879764),\n",
              " (0.9986612393956874, 0.06353441152166214),\n",
              " (0.9986225117888498, 0.06534019291624937),\n",
              " (0.9985850339594633, 0.06714622818141083),\n",
              " (0.9985481171198721, 0.06894870925853291),\n",
              " (0.9985126214573569, 0.07075271355910044),\n",
              " (0.9984770646948217, 0.07255900269483614),\n",
              " (0.9984419634866708, 0.0743655457011461),\n",
              " (0.9984076653218152, 0.07617081935458483),\n",
              " (0.998374343019185, 0.07797837784319177),\n",
              " (0.9983408513313585, 0.0797854285906502),\n",
              " (0.9983080324464287, 0.08159120998523743),\n",
              " (0.9982752986683461, 0.08339876847384435),\n",
              " (0.998243395317351, 0.08520759631532249),\n",
              " (0.9982114559232481, 0.08701363158048395),\n",
              " (0.998179473272996, 0.08881865136334845),\n",
              " (0.9981478747476256, 0.09062595598138114),\n",
              " (0.9981168432276921, 0.09243351446998806),\n",
              " (0.9980859532502412, 0.094240057476298),\n",
              " (0.9980553862742881, 0.09604786983547918),\n",
              " (0.9980384950875889, 0.09702273284057054),\n",
              " (0.9980079752230785, 0.09882648327056383),\n",
              " (0.9979775538983736, 0.10063226466515106),\n",
              " (0.9979470638437863, 0.10243804605973829),\n",
              " (0.9979175859405953, 0.10424357358375126),\n",
              " (0.9978867022179719, 0.10604859336661576),\n",
              " (0.9978569530141159, 0.10785361314948026),\n",
              " (0.9978271321965358, 0.10965787132062203),\n",
              " (0.997796334846516, 0.11146314497406078),\n",
              " (0.9977664059070086, 0.11326994185094497),\n",
              " (0.9977359761388188, 0.11507597711610644),\n",
              " (0.9977051694640261, 0.11688099689897094),\n",
              " (0.9976752142751789, 0.11868779377585513),\n",
              " (0.9976446899426726, 0.12049433678216509),\n",
              " (0.9976145064980053, 0.12229961043560382),\n",
              " (0.9975837345017207, 0.12410589957133954),\n",
              " (0.9975523210042304, 0.12590939613075858),\n",
              " (0.9975217032950575, 0.12771720848993975),\n",
              " (0.9974908499532534, 0.12952222827280424),\n",
              " (0.9974597006941106, 0.1313282635379657),\n",
              " (0.997428166606689, 0.13313277557968173),\n",
              " (0.9973971591759002, 0.13493779536254621),\n",
              " (0.9973648706758226, 0.13674205353368798),\n",
              " (0.9973330879359577, 0.13854402686966158),\n",
              " (0.9973009130376747, 0.14034853891137758),\n",
              " (0.9972687271050208, 0.1421517816002224),\n",
              " (0.9972353639471334, 0.14395883234768084),\n",
              " (0.9972026323622536, 0.14576156729537715),\n",
              " (0.9971694285555017, 0.14756734868996438),\n",
              " (0.9971361599860636, 0.14937287621397735),\n",
              " (0.9971029776249516, 0.1511768805145449),\n",
              " (0.9970690203645171, 0.15298190029740938),\n",
              " (0.9970351989528335, 0.15478539685682843),\n",
              " (0.9970009928279021, 0.15658914728682172),\n",
              " (0.9969668198383992, 0.15839391319911197),\n",
              " (0.9969320106234525, 0.16019893298197646),\n",
              " (0.9968961579747417, 0.1620047143765637),\n",
              " (0.9968599765031939, 0.16380694158311151),\n",
              " (0.9968239204315111, 0.16561221523655026),\n",
              " (0.9967865824658687, 0.16741774276056323),\n",
              " (0.9967492036671777, 0.1692212393199823),\n",
              " (0.9967117778359219, 0.17102549749112406),\n",
              " (0.9966738273503093, 0.17282772469767188),\n",
              " (0.9966356751942136, 0.17463071351594245),\n",
              " (0.9965966340481853, 0.17643522555765845),\n",
              " (0.9965572788245489, 0.1782399914699487),\n",
              " (0.9965170748723636, 0.18004221867649653),\n",
              " (0.9964847773654802, 0.18150832124274724),\n",
              " (0.9964430618385894, 0.18331054844929506),\n",
              " (0.9964009786610695, 0.18511404500871412),\n",
              " (0.9963585384939928, 0.18691601834468768),\n",
              " (0.9963157649793943, 0.18872002264525523),\n",
              " (0.9962727732565777, 0.19052529629869397),\n",
              " (0.9962284855053783, 0.1923282851169645),\n",
              " (0.9961826348390005, 0.19412975071178962),\n",
              " (0.9961358801742383, 0.19593273953006018),\n",
              " (0.9960901721832057, 0.19773572834833072),\n",
              " (0.9960423811376287, 0.19953897103717555),\n",
              " (0.9959945696959085, 0.20133992889085214),\n",
              " (0.9959443924293385, 0.2031421560974),\n",
              " (0.9958946016525558, 0.20494412943337356),\n",
              " (0.9958423775635192, 0.20674762599279262),\n",
              " (0.9957913619478507, 0.20855289964623136),\n",
              " (0.9957369477470689, 0.21035360362933372),\n",
              " (0.9956819327036524, 0.21215456148301035),\n",
              " (0.9956263093930806, 0.2139585657835779),\n",
              " (0.9955689285942618, 0.21576028524897722),\n",
              " (0.995511391242818, 0.2175653050318417),\n",
              " (0.9954504913822515, 0.21936677062666682),\n",
              " (0.9953885507527154, 0.22116645912747224),\n",
              " (0.995325037952219, 0.22296970181631703),\n",
              " (0.9952604417576684, 0.22477116741114211),\n",
              " (0.9951932471961802, 0.22657060204137328),\n",
              " (0.9951239683290858, 0.2283715598950499),\n",
              " (0.9950534951923259, 0.23017251774872652),\n",
              " (0.9949797112914327, 0.2319755065669971),\n",
              " (0.9949033736980235, 0.2337769721618222),\n",
              " (0.9948253847217615, 0.2355779300154988),\n",
              " (0.9947440514302033, 0.23737482593998754),\n",
              " (0.9946591578277261, 0.23917375282907022),\n",
              " (0.9945729601588396, 0.2409721719770044),\n",
              " (0.9944826432728469, 0.24276856016034465),\n",
              " (0.9943865663838862, 0.24457002575516976),\n",
              " (0.9942863420347029, 0.24636539845621303),\n",
              " (0.9941843397096304, 0.24816077115725632),\n",
              " (0.9940741510809953, 0.24995715934059656),\n",
              " (0.9939596283992909, 0.2517522781710656),\n",
              " (0.9938387166719156, 0.2535489202249801),\n",
              " (0.9937118214063131, 0.2553432774437264),\n",
              " (0.9935782080087362, 0.25713712692132423),\n",
              " (0.9934362765797878, 0.2589304686577736),\n",
              " (0.9932859246274399, 0.2607243181353714),\n",
              " (0.9931209417846181, 0.2625130902014844),\n",
              " (0.992945797326024, 0.2643033854910428),\n",
              " (0.9927563023310276, 0.2660898727219876),\n",
              " (0.9925509658444583, 0.2678758522117839),\n",
              " (0.9923223758092626, 0.2696580236429666),\n",
              " (0.9920678231854001, 0.2714381641095553),\n",
              " (0.9917843218608555, 0.273211957811788),\n",
              " (0.9914649040319317, 0.27498702086689186),\n",
              " (0.9910915441700243, 0.27675675263993665),\n",
              " (0.9906507608388949, 0.27852216861321927),\n",
              " (0.990127323777082, 0.2802726062226216),\n",
              " (0.9894876013992063, 0.282007303856421),\n",
              " (0.9886653043946168, 0.28372270732657784),\n",
              " (0.9875682137686289, 0.2853891137759059),\n",
              " (0.9860991503001675, 0.28701185448646427),\n",
              " (0.9841536268643823, 0.28856681175369986),\n",
              " (0.9819318511564523, 0.29007480296470056),\n",
              " (0.9795225689543731, 0.2915218652378831),\n",
              " (0.9770762198796215, 0.2929397323950277),\n",
              " (0.9746276378318908, 0.29433068927130257),\n",
              " (0.9721861785028464, 0.2956947358667078),\n",
              " (0.9697621080706852, 0.2970260331580357),\n",
              " (0.9672677360284974, 0.298344129179503),\n",
              " (0.9661736389262554, 0.2989204153830336),\n",
              " (0.9636741426951164, 0.30019281470113723),\n",
              " (0.9612628677671191, 0.3014573440314393),\n",
              " (0.9588594540073849, 0.3026731302114869),\n",
              " (0.9564738231134914, 0.30388383898004956),\n",
              " (0.9540907279376769, 0.3050813464787517),\n",
              " (0.9517475218545454, 0.3062600675549598),\n",
              " (0.9494179134422743, 0.30742990316106944),\n",
              " (0.9470799666968152, 0.3085890762030609),\n",
              " (0.9448234349578256, 0.3097485031156266),\n",
              " (0.9425884890365833, 0.3108916823114408),\n",
              " (0.9403928677285531, 0.3120267376488792),\n",
              " (0.9382150721981444, 0.31315823879827825),\n",
              " (0.9360824333015988, 0.3142874551125091),\n",
              " (0.9340095273753166, 0.3153981388748202),\n",
              " (0.9319419721758917, 0.31650856876655714),\n",
              " (0.9299113741381738, 0.3176123980233637),\n",
              " (0.9278735765106052, 0.3187126730921309),\n",
              " (0.9259100970437518, 0.31981726396066024),\n",
              " (0.9239747991365784, 0.3209048455007153),\n",
              " (0.9220233944022641, 0.3219886189821567),\n",
              " (0.9200989989665073, 0.32309244823896327),\n",
              " (0.9181882921750683, 0.32415743529791075),\n",
              " (0.916315749522211, 0.32523740072073853),\n",
              " (0.9143870044751112, 0.32632701322538754),\n",
              " (0.9125406698380396, 0.3274133254125714),\n",
              " (0.9106333582802092, 0.3284998914703295),\n",
              " (0.9087547874699693, 0.32960702104460127),\n",
              " (0.9069091372484395, 0.33068241679709265),\n",
              " (0.9050736292575076, 0.33176949059599925),\n",
              " (0.9032550516725724, 0.33285199472456944),\n",
              " (0.9014261675831717, 0.33392967531222906),\n",
              " (0.8995832439821468, 0.3350121794407993),\n",
              " (0.8977579844586725, 0.3360720890882619),\n",
              " (0.8959342942365625, 0.33716474803980184),\n",
              " (0.8941749298409419, 0.33823405089851144),\n",
              " (0.892366472283513, 0.33929142184023164),\n",
              " (0.890586823811633, 0.3403655482398518),\n",
              " (0.8887960208047003, 0.3414439904392342),\n",
              " (0.8869935722801146, 0.3425300487558438),\n",
              " (0.8851845995984196, 0.34359300485019734),\n",
              " (0.8833968831837936, 0.34467043156728266),\n",
              " (0.8816805242859496, 0.3457361802379529),\n",
              " (0.8799027731718366, 0.3468222385545625),\n",
              " (0.8781432193928805, 0.34790499655370694),\n",
              " (0.8763846288573327, 0.34896820651863475),\n",
              " (0.8746277282220948, 0.35005375709409586),\n",
              " (0.8728979423272926, 0.35113854605783423),\n",
              " (0.8711671946682114, 0.3522350130679878),\n",
              " (0.8694154104437244, 0.3533121859144989),\n",
              " (0.8676831232103639, 0.35439138972560397),\n",
              " (0.8659230482237982, 0.35548379480656966),\n",
              " (0.8641690627653829, 0.35657619988753536),\n",
              " (0.8624345500174735, 0.35765743466323435),\n",
              " (0.8607315022413524, 0.3587500936147743),\n",
              " (0.8589916334362786, 0.359847829977799),\n",
              " (0.8572966176068407, 0.3609516592346056),\n",
              " (0.855607225440161, 0.3620262933753743),\n",
              " (0.8538768463336186, 0.36310905137451877),\n",
              " (0.8521490675818324, 0.3642149115959193),\n",
              " (0.8504235050708958, 0.3653093476414789),\n",
              " (0.8486988951380678, 0.3664037836870385),\n",
              " (0.8469604707584295, 0.36750152005006326),\n",
              " (0.8452350816039821, 0.3686068725303153),\n",
              " (0.8435135348129441, 0.36971527145745825),\n",
              " (0.8418380352158712, 0.37081199233818607),\n",
              " (0.8401345825514543, 0.3719325770528927),\n",
              " (0.8384643594046398, 0.37304579952094624),\n",
              " (0.8367539898385665, 0.3741493749071786),\n",
              " (0.8350361310822811, 0.37525675835202454),\n",
              " (0.833364781157956, 0.37637480436098875),\n",
              " (0.8331376414955465, 0.37650986350648574),\n",
              " (0.8314724952218321, 0.3776180085630545),\n",
              " (0.8297627094333426, 0.37873732392488985),\n",
              " (0.8280832492004977, 0.37984546898145854),\n",
              " (0.8264447264088206, 0.3809492982382652),\n",
              " (0.8247891447243344, 0.38207419875273385),\n",
              " (0.8231558985303076, 0.383184882515045),\n",
              " (0.8214846435369372, 0.38428972725414856),\n",
              " (0.8198200078023147, 0.385408027133687),\n",
              " (0.8181470044614785, 0.38653800505964053),\n",
              " (0.8164733918211451, 0.38765503558630776),\n",
              " (0.8148182561575366, 0.38878399802996433),\n",
              " (0.8131850203971818, 0.3899068675798391),\n",
              " (0.8115636089407838, 0.3910337990589018),\n",
              " (0.8099311482250349, 0.39217647051356747),\n",
              " (0.8083250535412382, 0.3933247271208665),\n",
              " (0.8067214376491749, 0.39445165859992914),\n",
              " (0.8050980910731484, 0.39558468297277366),\n",
              " (0.8034636326748534, 0.39672786216858785),\n",
              " (0.8018469162753744, 0.39785225494190807),\n",
              " (0.8002495514010397, 0.39899670349059346),\n",
              " (0.7986877531605144, 0.400136074627794),\n",
              " (0.7970921288370942, 0.40128128478820213),\n",
              " (0.79555227745435, 0.40243664977157995),\n",
              " (0.7939569951625879, 0.40357094349729566),\n",
              " (0.7924020813742083, 0.4047181846222977),\n",
              " (0.7908170116740725, 0.40585298608916187),\n",
              " (0.7892606624208055, 0.4070088588136882),\n",
              " (0.7877071666731991, 0.4081454373745721),\n",
              " (0.7861363230890782, 0.4092980097816332),\n",
              " (0.7846188135030261, 0.410446012518358),\n",
              " (0.7831055005181601, 0.4115838604321131),\n",
              " (0.7815543320962033, 0.41273338639228335),\n",
              " (0.7800228877620167, 0.4138811352584339),\n",
              " (0.7784945647442619, 0.41503167670090113),\n",
              " (0.7769674910773317, 0.4161809487904971),\n",
              " (0.7754663305275518, 0.41731676573965826),\n",
              " (0.7739591058665318, 0.41846349912351183),\n",
              " (0.7724548489323373, 0.41961911797746393),\n",
              " (0.7709783097843361, 0.42076737458476293),\n",
              " (0.7695232194333652, 0.4219186776389529),\n",
              " (0.7680467678662131, 0.42305830264672767),\n",
              " (0.7665879417886379, 0.42422128374733276),\n",
              " (0.7651552704097229, 0.42538451871851213),\n",
              " (0.7636955975339443, 0.42653328306695965),\n",
              " (0.7622143971482153, 0.4276782393567935),\n",
              " (0.7608110578186328, 0.4288338582107456),\n",
              " (0.7593748885680839, 0.4299633283955507),\n",
              " (0.7579199797027814, 0.43112377079041336),\n",
              " (0.7564990613402458, 0.4322679654685245),\n",
              " (0.7550992650093958, 0.4334317081808523),\n",
              " (0.7536799059225414, 0.4345665096477165),\n",
              " (0.7522628039258293, 0.4357223823722428),\n",
              " (0.7508683479776613, 0.4368762241321752),\n",
              " (0.7495020805557697, 0.4380407284562257),\n",
              " (0.7481012589285518, 0.439197616663049),\n",
              " (0.7467215543088747, 0.44035018907011014),\n",
              " (0.745353516422913, 0.44148321344295466),\n",
              " (0.7439710892853373, 0.44263781681460973),\n",
              " (0.7425825713835349, 0.4437992746917694),\n",
              " (0.7412213992599872, 0.4449442309816033),\n",
              " (0.7398830553755422, 0.44610162692957506),\n",
              " (0.7385436380430774, 0.4472681622182195),\n",
              " (0.7372090997759284, 0.44839966336761855),\n",
              " (0.7358561853708059, 0.4495395422459676),\n",
              " (0.7345244768525643, 0.45067967499489087),\n",
              " (0.733202318669935, 0.45182894708448684),\n",
              " (0.7318538598040383, 0.45297263402144955),\n",
              " (0.7314711816046103, 0.4533097741440436),\n",
              " (0.7301640311203652, 0.45444254464631384),\n",
              " (0.7288381851533667, 0.4555836928775341),\n",
              " (0.7275188947835881, 0.45673981947263464),\n",
              " (0.726224413696055, 0.4578664970811231),\n",
              " (0.7249315487018211, 0.45901830787646153),\n",
              " (0.7236115522747242, 0.46016681835433476),\n",
              " (0.7223224389912177, 0.4613221833377126),\n",
              " (0.7210353597205577, 0.46247348639190256),\n",
              " (0.7197616855837936, 0.46361641171714246),\n",
              " (0.718494503861401, 0.46477203057109456),\n",
              " (0.7172213736374917, 0.4659063242968102),\n",
              " (0.7159618465657414, 0.46704899575147596),\n",
              " (0.7146997313510564, 0.46817973528915224),\n",
              " (0.7134373782475475, 0.46931479062659065),\n",
              " (0.7121905676965997, 0.4704625394927412),\n",
              " (0.710977651731702, 0.47158642452491295),\n",
              " (0.7097484232583688, 0.47274280499058774),\n",
              " (0.7085175153790734, 0.47387836806917466),\n",
              " (0.7073001391910243, 0.47500682277168277),\n",
              " (0.7060662567451684, 0.47614416294428935),\n",
              " (0.7048513445102771, 0.47728124924632176),\n",
              " (0.7036381032036076, 0.4784452458292238),\n",
              " (0.7024253393889841, 0.47958106277838497),\n",
              " (0.7012299071326118, 0.48071357941008097),\n",
              " (0.7000443890119968, 0.48185371215900424),\n",
              " (0.6988178478272786, 0.4829930832962048),\n",
              " (0.6976031536064052, 0.4841395628094841),\n",
              " (0.6964256785450051, 0.48529238908711947),\n",
              " (0.6952432043984378, 0.48642236701307306),\n",
              " (0.6940797223089639, 0.4875724007143918),\n",
              " (0.6929087088870914, 0.4886929854290984),\n",
              " (0.6917364813732261, 0.4898244865784974),\n",
              " (0.6906013518905558, 0.4909570032101934),\n",
              " (0.689458251349018, 0.4920864733949985),\n",
              " (0.6882929620519406, 0.4932078197214278),\n",
              " (0.6871401322810888, 0.49432764282441166),\n",
              " (0.6859854895466543, 0.49544137303361374),\n",
              " (0.6848503949058906, 0.4965556109839643),\n",
              " (0.6837180700615331, 0.4976825424630269),\n",
              " (0.6825619537655399, 0.4988089662009411),\n",
              " (0.6813985254853543, 0.4999313280096674),\n",
              " (0.6802519578877924, 0.5010460737011664),\n",
              " (0.6791352876591147, 0.50215929616922),\n",
              " (0.6780172581067453, 0.5032933360243614),\n",
              " (0.6768807520277336, 0.5044090971981574),\n",
              " (0.6757722401222304, 0.5055126725843897),\n",
              " (0.6746533977314993, 0.5066185328057903),\n",
              " (0.6735455138675328, 0.5077388636499226),\n",
              " (0.6724522381202818, 0.5088584328823322),\n",
              " (0.6713669302470245, 0.5099752095384252),\n",
              " (0.6702568184002865, 0.5110833545949939),\n",
              " (0.6691629607096452, 0.5121861683695036),\n",
              " (0.66807937156437, 0.5132844124736768),\n",
              " (0.666983123758609, 0.5143890033422062),\n",
              " (0.6659032523274967, 0.5154842009994884),\n",
              " (0.6648253433721873, 0.5166060550670662),\n",
              " (0.6637463106754248, 0.5176946520894183),\n",
              " (0.6626814691005836, 0.5187949271581855),\n",
              " (0.6616299282735368, 0.519890378686042),\n",
              " (0.6605669922921127, 0.5209751676497805),\n",
              " (0.659506259594945, 0.5220744272362506),\n",
              " (0.6584416981450284, 0.5231670861877906),\n",
              " (0.6573816508212207, 0.5242765005972305),\n",
              " (0.6563547040423797, 0.5253491037734053),\n",
              " (0.6553072428803199, 0.5264587720534194),\n",
              " (0.6542687298725077, 0.5275453381111775),\n",
              " (0.6532480617238208, 0.5286341890041039),\n",
              " (0.6522199155800285, 0.5297504579190483),\n",
              " (0.6512048206402494, 0.5308367701062321),\n",
              " (0.6501631325943686, 0.5319136890821691),\n",
              " (0.6491303364019081, 0.5330144718920847),\n",
              " (0.6480982274560703, 0.5341053537496049),\n",
              " (0.6470971641241816, 0.5352020746303328),\n",
              " (0.646077274574631, 0.536291941005556),\n",
              " (0.6450661471672423, 0.5373924699448974),\n",
              " (0.6440753248122602, 0.538468119567963),\n",
              " (0.6430765069930555, 0.5395638249663939),\n",
              " (0.6420715160651324, 0.540644044259796),\n",
              " (0.641066894605679, 0.54172020162401),\n",
              " (0.6400752087245203, 0.542795089635353),\n",
              " (0.6390815138909727, 0.5438890179397641),\n",
              " (0.6381002446727655, 0.5449821846324525),\n",
              " (0.6371297663094257, 0.5460657042433197),\n",
              " (0.6361482022247817, 0.547146177407296),\n",
              " (0.6351763495456185, 0.5482294431475889),\n",
              " (0.6342217485443092, 0.5493155014641985),\n",
              " (0.6332409427457076, 0.5503809962642945),\n",
              " (0.6322749500720998, 0.5514477604172616),\n",
              " (0.6312902064980098, 0.5525348342161682),\n",
              " (0.6303344066955137, 0.553624192850243),\n",
              " (0.6293647753658972, 0.5546922263560814),\n",
              " (0.6284055765146677, 0.5557574672856032),\n",
              " (0.6274498514007016, 0.5568166153213431),\n",
              " (0.6264903536596831, 0.5578767788393799),\n",
              " (0.6255309987512045, 0.5589564903916334),\n",
              " (0.6245630607018626, 0.5600240161563234),\n",
              " (0.6236029442895326, 0.5611049970614481),\n",
              " (0.6226526267943578, 0.5621732844378607),\n",
              " (0.6217038702707853, 0.5632451260023128),\n",
              " (0.6207653395989281, 0.5643207756253784),\n",
              " (0.6198341940186187, 0.5653629143326441),\n",
              " (0.6189075953665781, 0.5664251088152749),\n",
              " (0.6179562911981548, 0.5674888265213511),\n",
              " (0.6170271372244288, 0.5685461974630713),\n",
              " (0.6160912651898757, 0.5696007758284749),\n",
              " (0.6151701310186236, 0.5706771870632633),\n",
              " (0.6142571076275581, 0.571742427992785),\n",
              " (0.6133462059847987, 0.5727982757110598),\n",
              " (0.612435501259086, 0.5738437147357905),\n",
              " (0.6115353180188329, 0.574890930854541),\n",
              " (0.6106125145207822, 0.5759353543969749),\n",
              " (0.6097266417167252, 0.5769990721030511),\n",
              " (0.6088034389102406, 0.5780450188689304),\n",
              " (0.607883995256406, 0.5790894424113643),\n",
              " (0.6069873288506659, 0.5801485904471042),\n",
              " (0.606069307893945, 0.5811917446366668),\n",
              " (0.6051581385183635, 0.5822374375319719),\n",
              " (0.6042679600337195, 0.5832795762392374),\n",
              " (0.6033781069184723, 0.5843245075228198),\n",
              " (0.6024970502153182, 0.5853803552410946),\n",
              " (0.6016146502004254, 0.5864257942658253),\n",
              " (0.6007061915473447, 0.5874356914101622),\n",
              " (0.5998181899707298, 0.5884676752944581),\n",
              " (0.59893936262209, 0.589510067872298),\n",
              " (0.5980670758768197, 0.5905580456027713),\n",
              " (0.5971960837960233, 0.5915831749815627),\n",
              " (0.5963079781949698, 0.5926316604531844),\n",
              " (0.5954233252206521, 0.5936765917367667),\n",
              " (0.5945460815165913, 0.5947052753035975),\n",
              " (0.593662238476718, 0.595750460457754),\n",
              " (0.5927820190793504, 0.5967892988475545),\n",
              " (0.5919056370872311, 0.5978156975792172),\n",
              " (0.5910233223052401, 0.5988375266405433),\n",
              " (0.5901566823437198, 0.5998593557018697),\n",
              " (0.5892843637947903, 0.6008923550684625),\n",
              " (0.5884344964225944, 0.6019179921884025),\n",
              " (0.5875763938357978, 0.6029334744853726),\n",
              " (0.5867106718854382, 0.6039527648409564),\n",
              " (0.5862073044685083, 0.6045465681141098),\n",
              " (0.585354184968119, 0.6055656045991193),\n",
              " (0.5845022503382278, 0.606609774270979),\n",
              " (0.5836365113585549, 0.60763668074379),\n",
              " (0.5827964195330533, 0.6086496243350178),\n",
              " (0.5819466813289635, 0.6096531747149986),\n",
              " (0.5810931669470772, 0.6106805889289582),\n",
              " (0.5802475667143021, 0.6117069876606207),\n",
              " (0.5794102616778632, 0.6127077454642849),\n",
              " (0.5785822904003812, 0.6137024103741672),\n",
              " (0.5777409452671227, 0.6147158617065434),\n",
              " (0.5768904816049722, 0.615725504980306),\n",
              " (0.5760577534331193, 0.6167356559952171),\n",
              " (0.5752220677350952, 0.617734128963713),\n",
              " (0.5743997386147908, 0.6187196545329225),\n",
              " (0.5735687559699727, 0.6197338674770215),\n",
              " (0.5727502504621171, 0.6207201546579538),\n",
              " (0.5719268948148084, 0.6217173582735785),\n",
              " (0.5711008907802433, 0.6227290325119351),\n",
              " (0.5702700814469086, 0.6237508615732613),\n",
              " (0.5694535143289883, 0.6247533964709452),\n",
              " (0.5686422077287411, 0.6257658323210245),\n",
              " (0.5678212488343282, 0.6267643052895203),\n",
              " (0.5670088088726801, 0.6277544005290663),\n",
              " (0.5661880574580784, 0.6287500809212455),\n",
              " (0.5653771387984692, 0.6297442380899794),\n",
              " (0.5645776517128573, 0.6307264633417238),\n",
              " (0.5637678019831937, 0.6317312830745757),\n",
              " (0.562977619472929, 0.6327188396083793),\n",
              " (0.5621774696328111, 0.6337069038833313),\n",
              " (0.5613711856315837, 0.6346975068640256),\n",
              " (0.5605732646620886, 0.6356853172684034),\n",
              " (0.559769552933195, 0.6366601802734948),\n",
              " (0.5589853479569217, 0.6376426593958134),\n",
              " (0.5581904425164714, 0.6386241230358352),\n",
              " (0.5573902912399702, 0.6395964473351841),\n",
              " (0.5565988529008884, 0.6405725796931466),\n",
              " (0.5557965203374982, 0.6415575975212077),\n",
              " (0.5549991528547419, 0.642561655642337),\n",
              " (0.5542119603679332, 0.6435436270235071),\n",
              " (0.5534297307800649, 0.644528390980994),\n",
              " (0.5526305653519887, 0.6455065543035505),\n",
              " (0.5518589260978447, 0.6464933492256313),\n",
              " (0.5510757610602652, 0.6474722741599105),\n",
              " (0.5502794833349143, 0.6484374900831807),\n",
              " (0.5494876231634525, 0.6494019443947281),\n",
              " (0.5487033686792874, 0.6503877238345119),\n",
              " (0.5479215856549324, 0.6513689336039593),\n",
              " (0.5471369051169311, 0.6523209482573689),\n",
              " (0.5463599078079908, 0.6532973344859058),\n",
              " (0.5456012717162984, 0.6542699126558289),\n",
              " (0.544835165205373, 0.6552226889209612),\n",
              " (0.5440485576688134, 0.6561881587148056),\n",
              " (0.5432694742734498, 0.6571622601081742),\n",
              " (0.5424968859150334, 0.6581173212084747),\n",
              " (0.5417198148281588, 0.659087868413804),\n",
              " (0.540956831928366, 0.6600358211380256),\n",
              " (0.5401920152132476, 0.6609997677084246),\n",
              " (0.5394341079551574, 0.6619317265864689),\n",
              " (0.5386430777933421, 0.6628933883216998),\n",
              " (0.537889702659777, 0.6638555577980789),\n",
              " (0.5371088503988174, 0.6648149346981416),\n",
              " (0.5363358414527855, 0.6657540019522648),\n",
              " (0.5355497027369043, 0.6667088091819909),\n",
              " (0.5348085907751945, 0.6676534615887474),\n",
              " (0.5345873710517973, 0.66794084307879),\n",
              " (0.5338343302105075, 0.6688743251802799),\n",
              " (0.5330731608002264, 0.6698136463049773),\n",
              " (0.5323080783277915, 0.6707547445236943),\n",
              " (0.5315525001198986, 0.6717016817656191),\n",
              " (0.5307913361635364, 0.6726377025728514),\n",
              " (0.5300351322392864, 0.673577277568123),\n",
              " (0.5292871947927646, 0.6745219299748795),\n",
              " (0.5285283885105934, 0.6754615049701511),\n",
              " (0.5277699253243302, 0.6763911790130274),\n",
              " (0.5270318089386581, 0.6773505559130899),\n",
              " (0.5262958172536127, 0.6782873383320449),\n",
              " (0.5255684745989444, 0.6792355449268408),\n",
              " (0.5248114341292958, 0.6801692808989049),\n",
              " (0.5240737765637327, 0.681100985906375),\n",
              " (0.5233374866921495, 0.6820161893265194),\n",
              " (0.5226027576038936, 0.6829539872277715),\n",
              " (0.5218611026391088, 0.6838928006113203),\n",
              " (0.5211160832002781, 0.6848514158996601),\n",
              " (0.5203840874206114, 0.6857887060597637),\n",
              " (0.519645042215903, 0.6867397052308762),\n",
              " (0.5189045678079448, 0.6876663328268615),\n",
              " (0.5181612362365208, 0.6886038768575392),\n",
              " (0.5174161085364579, 0.6895297428418018),\n",
              " (0.5166888945938473, 0.6904497698028568),\n",
              " (0.5159495381009911, 0.6913667503170209),\n",
              " (0.5152232467181654, 0.6922916008189864),\n",
              " (0.5144879918920311, 0.6932266061439217),\n",
              " (0.5137586078359345, 0.6941603421159859),\n",
              " (0.5130411479830992, 0.6950732607009621),\n",
              " (0.512324788562762, 0.6959673928634443),\n",
              " (0.5116010376723342, 0.6968742185546387),\n",
              " (0.5108796010547645, 0.6977911990688027),\n",
              " (0.5101500087495031, 0.6986949783131062),\n",
              " (0.509422903632281, 0.6996002807808551),\n",
              " (0.508706322852939, 0.7005162458127222),\n",
              " (0.5079921172487242, 0.7014220560216197),\n",
              " (0.5072759736735898, 0.7023316742891307),\n",
              " (0.5065509378939872, 0.7032334225688401),\n",
              " (0.5058276833123401, 0.7041440563186482),\n",
              " (0.5051059554519475, 0.7050579903859213),\n",
              " (0.5043915197439257, 0.7059775096058278),\n",
              " (0.503674443685344, 0.7068792578855374),\n",
              " (0.5029459352813122, 0.7077771981066333),\n",
              " (0.5022343821231628, 0.7086695531750958),\n",
              " (0.5015253286997244, 0.7095987194768235),\n",
              " (0.5008124308285062, 0.7105065606503148),\n",
              " (0.5001086944911892, 0.7114100860240441),\n",
              " (0.49938620127647737, 0.7123011717396354),\n",
              " (0.4986794953762792, 0.7131973348667116),\n",
              " (0.49797125413046295, 0.7141122844162817),\n",
              " (0.4972699131691233, 0.7149944846617746),\n",
              " (0.4965586586091628, 0.7158840471539205),\n",
              " (0.4958609103169973, 0.7167802102809967),\n",
              " (0.4951610197915357, 0.7176601256913213),\n",
              " (0.49448577657860215, 0.7185336943372899),\n",
              " (0.4937610662966295, 0.7194384890638903),\n",
              " (0.4930573651700656, 0.7203168812507695),\n",
              " (0.4923643782021122, 0.7211990814962624),\n",
              " (0.4916722067877354, 0.7220878823766855),\n",
              " (0.4909844490801112, 0.7229629742460996),\n",
              " (0.49028350003335586, 0.7238395893389591),\n",
              " (0.4895909981829696, 0.7247342292425898),\n",
              " (0.48888421108044033, 0.72561566787636),\n",
              " (0.48817992732485904, 0.7264795894405074),\n",
              " (0.4874881696632931, 0.7273526503453275),\n",
              " (0.48679445375380437, 0.7282378970377112),\n",
              " (0.4861059150938484, 0.7291223821183722),\n",
              " (0.485416082977596, 0.7300017897875484),\n",
              " (0.48471961746366465, 0.7308756123040913),\n",
              " (0.48402086290746194, 0.7317476577266144),\n",
              " (0.48331796844142483, 0.732611833161336),\n",
              " (0.48261389411688127, 0.7334925101833835),\n",
              " (0.4819125936154707, 0.7343724255937081),\n",
              " (0.4812377097298499, 0.7352566568037948),\n",
              " (0.4806315110665551, 0.7360197917499679),\n",
              " (0.4799403308797925, 0.736893868137085),\n",
              " (0.4792518614391248, 0.7377466193959658),\n",
              " (0.4785572828758313, 0.7385960703373813),\n",
              " (0.477853545633137, 0.7394602457721029),\n",
              " (0.4771836021863036, 0.7403236595951018),\n",
              " (0.4764862854767675, 0.7411726027953689),\n",
              " (0.475793267049463, 0.7420357627477936),\n",
              " (0.4751101527433097, 0.7429083159114652),\n",
              " (0.47442601388735206, 0.7437762994048004),\n",
              " (0.4737361307688994, 0.7446442828981357),\n",
              " (0.47305742224465575, 0.7454937338395513),\n",
              " (0.4723786336803174, 0.7463408999457987),\n",
              " (0.471697735610605, 0.7472030444159263),\n",
              " (0.47101026276686053, 0.7480570650276782),\n",
              " (0.4703275331135294, 0.7488978843695695),\n",
              " (0.46964259894755933, 0.7497600288396973),\n",
              " (0.46896277514657114, 0.7506165881571916),\n",
              " (0.468286941858003, 0.7514586768519541),\n",
              " (0.4675934678438849, 0.7523152361694484),\n",
              " (0.4669090502419645, 0.7531542784173201),\n",
              " (0.4662227565937568, 0.7539760574661432),\n",
              " (0.46555860461851095, 0.7548217003489451),\n",
              " (0.4648792484026262, 0.7556615042085394),\n",
              " (0.4641979837905772, 0.7564972461389459),\n",
              " (0.4635317117740071, 0.7573446661157676),\n",
              " (0.46286433913200875, 0.7581966557629255),\n",
              " (0.4622009134443783, 0.7590392521988365),\n",
              " (0.46151395707132237, 0.7598689012354611),\n",
              " (0.46084254527257207, 0.760701850589551),\n",
              " (0.46016666066021406, 0.7615312457556014),\n",
              " (0.45950073221579635, 0.7623697802623245),\n",
              " (0.4588218615787495, 0.7632273550621158),\n",
              " (0.4581478115544638, 0.7640653818276905),\n",
              " (0.4574716796554368, 0.7649013776286712),\n",
              " (0.45680824031902, 0.7657378811708003),\n",
              " (0.4561358373600858, 0.7665555982904355),\n",
              " (0.4554580393101666, 0.7673888015150996),\n",
              " (0.4547887673098988, 0.7682016950938242),\n",
              " (0.45411067647001613, 0.7690242357543701),\n",
              " (0.4534421317125671, 0.769852107696975),\n",
              " (0.4527806103749914, 0.7706936886505891),\n",
              " (0.45211322328872705, 0.7715261302635303),\n",
              " (0.45145076757925984, 0.772362126064511),\n",
              " (0.45079267645644083, 0.7731767967372554),\n",
              " (0.4501229187192739, 0.7739970525626331),\n",
              " (0.4494519777438065, 0.7748335561047622),\n",
              " (0.44878935629960004, 0.7756690441645945),\n",
              " (0.44812415482070767, 0.7764832070961903),\n",
              " (0.4474543349570286, 0.7773039706627164),\n",
              " (0.4467961636511695, 0.7781318426053214),\n",
              " (0.44613270901255897, 0.7789675845357278),\n",
              " (0.4454594388988615, 0.7797888558434025),\n",
              " (0.4448100650731819, 0.780595402657771),\n",
              " (0.4441470386594538, 0.7814412994111471),\n",
              " (0.44348803399945147, 0.7822486078372385),\n",
              " (0.44282277832225014, 0.7830505849812707),\n",
              " (0.4421613114094478, 0.7838586550190847),\n",
              " (0.44151525221297916, 0.7846545392693351),\n",
              " (0.4408715604884855, 0.7854466154609718),\n",
              " (0.44020571936242714, 0.7862445306758161),\n",
              " (0.4395328158790395, 0.7870434613729574),\n",
              " (0.4388763186867475, 0.7878495004461775),\n",
              " (0.4382284095145429, 0.7886649327306446),\n",
              " (0.437564397275057, 0.7894981359553086),\n",
              " (0.436962959665122, 0.7902379148086514),\n",
              " (0.43630711014209034, 0.7910551241871382),\n",
              " (0.43565290762192366, 0.7918393303909734),\n",
              " (0.4349845266808089, 0.792627090782848),\n",
              " (0.434321982930718, 0.793419420845059),\n",
              " (0.43365993123351854, 0.7942224134713881),\n",
              " (0.4329985996335993, 0.7950203286862325),\n",
              " (0.43233900458862073, 0.7958235751831358),\n",
              " (0.4316839113864587, 0.7966313913503756),\n",
              " (0.4310313286605425, 0.7974447926702488),\n",
              " (0.43036080000535226, 0.7982223982391538),\n",
              " (0.42970375079167045, 0.7990101586310283),\n",
              " (0.4290559458454505, 0.7997839561413196),\n",
              " (0.42839458155169075, 0.8005653697688382),\n",
              " (0.4277408524844065, 0.801346021784634),\n",
              " (0.4270733909153537, 0.8021264199298556),\n",
              " (0.42641864738166735, 0.8029238274035514),\n",
              " (0.4257548215356921, 0.8037123494071488),\n",
              " (0.4251053779422006, 0.8044924936817961),\n",
              " (0.42445811608517625, 0.8052990404961646),\n",
              " (0.4237923670560837, 0.8060629370540605),\n",
              " (0.423154435367053, 0.8068354652114805),\n",
              " (0.4224993824273784, 0.8076214485093355),\n",
              " (0.4218491635914462, 0.8083878837729737),\n",
              " (0.4212060220260735, 0.8091619351538393),\n",
              " (0.4205515163630955, 0.8099504571574365),\n",
              " (0.4198944894682365, 0.810717146291649),\n",
              " (0.4192403645762849, 0.8114939902488313),\n",
              " (0.41859842947234305, 0.8122761654880726),\n",
              " (0.4179470588974621, 0.8130578329861653),\n",
              " (0.41729533287763954, 0.8138222372852096),\n",
              " (0.41664769047140393, 0.8145914651251646),\n",
              " (0.4159921941750212, 0.8153581542593771),\n",
              " (0.41534724070254136, 0.8161116421237289),\n",
              " (0.4146888767120047, 0.8168798544813869),\n",
              " (0.4140327174266266, 0.8176366426632039),\n",
              " (0.41339014776670724, 0.818405108891436),\n",
              " (0.4127440899328554, 0.8191756060842622),\n",
              " (0.41208868360444506, 0.8199400103833064),\n",
              " (0.41144918216648874, 0.8207069533880932),\n",
              " (0.41079232171560187, 0.8214546022292375),\n",
              " (0.41015528249993805, 0.8222083439641636),\n",
              " (0.4095189427873728, 0.8229798566392867),\n",
              " (0.40886866808018985, 0.8237328367624901),\n",
              " (0.40821564376187225, 0.8244850552739708),\n",
              " (0.4075594273343598, 0.825234735079709),\n",
              " (0.40691075621380324, 0.8259828916620018),\n",
              " (0.40626551088176566, 0.8267163237509885),\n",
              " (0.4056047692679168, 0.8274637187215585),\n",
              " (0.40495963627789866, 0.828208321115812),\n",
              " (0.4043025046113293, 0.8289529235100653),\n",
              " (0.4036543657528928, 0.82974068390194),\n",
              " (0.4030106918250892, 0.8304835092021736),\n",
              " (0.4023593461124598, 0.8312314119138922),\n",
              " (0.4016919245057965, 0.8319678904497698),\n",
              " (0.4010378836275844, 0.8327114773617262),\n",
              " (0.4003869144239728, 0.8334474481564553),\n",
              " (0.39973471809907346, 0.8342098214909057),\n",
              " (0.39909062207726065, 0.8349399532624273),\n",
              " (0.39844408529685427, 0.8356685618105034),\n",
              " (0.3977860533505966, 0.8364019938994901),\n",
              " (0.39713618841377396, 0.8371323795415859),\n",
              " (0.39649672227746247, 0.8378645422777014),\n",
              " (0.3958393372707505, 0.8386066059662124),\n",
              " (0.39519362419630333, 0.8393359761260112),\n",
              " (0.39455174831376916, 0.8400673772504039),\n",
              " (0.39388530861350035, 0.8408256886556664),\n",
              " (0.39323925777595303, 0.8415705449204941),\n",
              " (0.3925915198193657, 0.8423138779618763),\n",
              " (0.3919432631333015, 0.8430371552278932),\n",
              " (0.39128762517066806, 0.8437672869994148),\n",
              " (0.3906369793939122, 0.844510620040797),\n",
              " (0.3899833503541298, 0.8452430366474868),\n",
              " (0.3893299464785168, 0.845975960995325),\n",
              " (0.388675568227036, 0.8467071082491435),\n",
              " (0.38802147857482616, 0.8474496796788029),\n",
              " (0.3873699769189908, 0.8481904740144427),\n",
              " (0.3867258134165892, 0.8489167977273506),\n",
              " (0.3860748330565479, 0.8496596230275844),\n",
              " (0.38543084636897107, 0.8503750303057998),\n",
              " (0.3847712709829755, 0.8511145552885684),\n",
              " (0.3841340491167595, 0.8518477335069808),\n",
              " (0.38357466913365224, 0.8524651467435387),\n",
              " (0.38292878694710475, 0.8531742072573981),\n",
              " (0.38226844229202295, 0.8538929148530787),\n",
              " (0.3816247407242286, 0.8546014676257897),\n",
              " (0.38097877882824427, 0.8553138284571142),\n",
              " (0.3803323975855586, 0.856046245063804),\n",
              " (0.37967685934974704, 0.856760129118574),\n",
              " (0.3790237071085215, 0.8574511648216623),\n",
              " (0.3783704811276838, 0.8581812965931839),\n",
              " (0.37772045688350364, 0.8588888338835978),\n",
              " (0.3770807548931181, 0.8595918015036754),\n",
              " (0.37642778219548956, 0.8602970539589212),\n",
              " (0.3757761083718908, 0.8610183002603443),\n",
              " (0.37512047021886197, 0.8617334536679855),\n",
              " (0.37446260480210825, 0.8624595235103192),\n",
              " (0.3738094315667786, 0.8631462434136453),\n",
              " (0.3731563237240386, 0.8638426103987926),\n",
              " (0.37249685725410475, 0.8645300919138414),\n",
              " (0.3718388632413625, 0.8652206198757811),\n",
              " (0.37117787839841754, 0.8659210487901163),\n",
              " (0.37053350268875285, 0.8666164002929666),\n",
              " (0.36987879924354095, 0.8673188601718957),\n",
              " (0.36921888925768465, 0.8680208123096764),\n",
              " (0.3685737045945855, 0.8686884919199342),\n",
              " (0.3679294855269476, 0.8694000911395362),\n",
              " (0.3672686638583237, 0.8700832568548228),\n",
              " (0.3666170346320209, 0.8707768312636535),\n",
              " (0.36595608728242435, 0.8714810682366023),\n",
              " (0.36529447113951485, 0.8721556023523648),\n",
              " (0.36462646462374093, 0.8728461303143045),\n",
              " (0.3639798183284022, 0.8735247263592548),\n",
              " (0.3633173022770756, 0.8742261707558869),\n",
              " (0.3626586666841769, 0.8749342157874495),\n",
              " (0.36199271404695266, 0.8756262669728346),\n",
              " (0.36133044277792126, 0.8763360890984168),\n",
              " (0.3606697015296827, 0.8770362641421777),\n",
              " (0.36001062605866707, 0.8777151140577022),\n",
              " (0.3593425582873876, 0.8783990413847117),\n",
              " (0.35866491626206953, 0.8790837303234438),\n",
              " (0.3579912843233678, 0.879756995086335),\n",
              " (0.3573356283291681, 0.8804396530604732),\n",
              " (0.3566748462293289, 0.8811121562116417),\n",
              " (0.3560240714799593, 0.8817694271283557),\n",
              " (0.35534414611688225, 0.8824640170194833),\n",
              " (0.3546731347026494, 0.8831205263244746),\n",
              " (0.35400213671362457, 0.8837892214170294),\n",
              " (0.3533381965342717, 0.88447441809691),\n",
              " (0.35266707013639476, 0.8851382896485542),\n",
              " (0.35200320727589707, 0.8857960683064167),\n",
              " (0.3513313267640443, 0.8864452153647548),\n",
              " (0.3506634333209899, 0.8871014707991719),\n",
              " (0.34999790805200215, 0.8877577262335888),\n",
              " (0.34933650016779527, 0.8884114429622634),\n",
              " (0.34868193714488627, 0.8890659213026607),\n",
              " (0.3480030884281632, 0.8897236999605231),\n",
              " (0.3473339976425266, 0.8903791937832174),\n",
              " (0.3466586739246704, 0.891022501818348),\n",
              " (0.34598790207506736, 0.8916896736874574),\n",
              " (0.3453209807409354, 0.8923380591340728),\n",
              " (0.3446454012470692, 0.8930222403316566),\n",
              " (0.34397013129855947, 0.8936708796488462),\n",
              " (0.34329285764481376, 0.8943332279770451),\n",
              " (0.34262036660255435, 0.8949859292234226),\n",
              " (0.3419485720559985, 0.8956345685406123),\n",
              " (0.34124882656722044, 0.8962969168688111),\n",
              " (0.34058353725646806, 0.8969592651970099),\n",
              " (0.33989747061027276, 0.8976066351613284),\n",
              " (0.3392243273250942, 0.8982522280316272),\n",
              " (0.3388589717712459, 0.8985939378245577),\n",
              " (0.33818299980073663, 0.8992496855178261),\n",
              " (0.33749739233516796, 0.8998968016115704),\n",
              " (0.3367995879607444, 0.9005388402938298),\n",
              " (0.33611225163432934, 0.9011887489638907),\n",
              " (0.3354309320154295, 0.9018297721638532),\n",
              " (0.33472312254792513, 0.902474349551855),\n",
              " (0.3340379046139622, 0.9031283201511038),\n",
              " (0.3333576784810782, 0.9037647736807298),\n",
              " (0.33265722226797834, 0.9044151900919393),\n",
              " (0.3319690462370257, 0.9050442813749122),\n",
              " (0.3312672327039232, 0.9056863200571716),\n",
              " (0.3305738265467, 0.9063250584219659),\n",
              " (0.32988495990147026, 0.9069462797171374),\n",
              " (0.329198184566717, 0.907566485530012),\n",
              " (0.3284950711923026, 0.9082004003538956),\n",
              " (0.32778438123522247, 0.9088223832607898),\n",
              " (0.3271003029398798, 0.9094540132495053),\n",
              " (0.3263941039907037, 0.9100724419683601),\n",
              " (0.32571368978806214, 0.9106929016518089),\n",
              " (0.3250034884904074, 0.9113072684414758),\n",
              " (0.3243116185146617, 0.9119300129600928),\n",
              " (0.3236064387190347, 0.9125390484677007),\n",
              " (0.3229077589986966, 0.9131546846102389),\n",
              " (0.3222059366454929, 0.9137639739884209),\n",
              " (0.3215067630132712, 0.9143864646364637),\n",
              " (0.32080606542304735, 0.9150061627081897),\n",
              " (0.32010346803359724, 0.9156304304502522),\n",
              " (0.31937244885466276, 0.9162590139920767),\n",
              " (0.3186681386350798, 0.9168754117463376),\n",
              " (0.3179538391206508, 0.9174811469364803),\n",
              " (0.31724707367851823, 0.9180922134086821),\n",
              " (0.316544897492234, 0.918698202469399),\n",
              " (0.3158219799755996, 0.9193026683066706),\n",
              " (0.31509973236566147, 0.9199005335090118),\n",
              " (0.31438891812428726, 0.9205156619104015),\n",
              " (0.3136751631985494, 0.9211168274302078),\n",
              " (0.31295145157179494, 0.9217233242320733),\n",
              " (0.31222860244453055, 0.9223191584698205),\n",
              " (0.31151984937769217, 0.9229266707539829),\n",
              " (0.3108042962191566, 0.9235151427450772),\n",
              " (0.3100895915880778, 0.9241013299010031),\n",
              " (0.3093817935872789, 0.9247045263854035),\n",
              " (0.3086568155810877, 0.925296552564537),\n",
              " (0.30793694180303877, 0.925887817131948),\n",
              " (0.30722287657900205, 0.9264816204051013),\n",
              " (0.30649050661830546, 0.9270756775488288),\n",
              " (0.30576407394537675, 0.9276562795521215),\n",
              " (0.30502838715232206, 0.9282658228008779),\n",
              " (0.3043082725411186, 0.9288857747431781),\n",
              " (0.3035542969015529, 0.9294785625340345),\n",
              " (0.30281334433948137, 0.9300675422662772),\n",
              " (0.30206207341026114, 0.9306445900815306),\n",
              " (0.30133020473049354, 0.9312119908149626),\n",
              " (0.3005857516584066, 0.931793354429978),\n",
              " (0.2998451436352363, 0.9323828419033693),\n",
              " (0.299114918000733, 0.9329428803901483),\n",
              " (0.29837824091019627, 0.9335095195118577),\n",
              " (0.2976376337472384, 0.9341017995615655),\n",
              " (0.29688973665159757, 0.93468849445864),\n",
              " (0.2961262531905893, 0.9352531026157554),\n",
              " (0.29557131525245717, 0.9356740200278496),\n",
              " (0.29481099048379134, 0.9362500523608059),\n",
              " (0.2940478562427009, 0.9368065366595456),\n",
              " (0.29328505394479853, 0.9373787609338883),\n",
              " (0.29253115122069273, 0.9379596168077552),\n",
              " (0.29176114204266757, 0.9385331104349691),\n",
              " (0.29100206644399695, 0.9390946721451937),\n",
              " (0.2902203887419471, 0.9396415093621121),\n",
              " (0.2894533718640312, 0.9402068791309502),\n",
              " (0.28867226776103005, 0.9407623479473929),\n",
              " (0.28789538234562095, 0.9413124854817765),\n",
              " (0.2871220211436917, 0.9418641462396056),\n",
              " (0.2863576965161516, 0.942406667656762),\n",
              " (0.28557115338613703, 0.942948935203344),\n",
              " (0.2847956849891715, 0.9434980572554306),\n",
              " (0.28400807868839495, 0.9440504796249823),\n",
              " (0.2832219940571107, 0.9445990939359206),\n",
              " (0.28243997515310526, 0.9451393305179087),\n",
              " (0.2816377923168012, 0.945704954157321),\n",
              " (0.2808484689166414, 0.9462583920091698),\n",
              " (0.2800568856668141, 0.9467953282736928),\n",
              " (0.27924130015542037, 0.9473548590193234),\n",
              " (0.278439584696497, 0.9478905259309751),\n",
              " (0.2776355066988804, 0.9484267005837754),\n",
              " (0.27685346942265554, 0.9489765842475847),\n",
              " (0.276040506508041, 0.9494972727953562),\n",
              " (0.2752274084319396, 0.9500380171184928),\n",
              " (0.27441912477887553, 0.9505741917712931),\n",
              " (0.27360381987455273, 0.951106812236054),\n",
              " (0.2727845922947524, 0.9516622810524966),\n",
              " (0.27197712751067515, 0.952196424740703),\n",
              " (0.2711499522857167, 0.9527143207121578),\n",
              " (0.27031664613629647, 0.9532558266470171),\n",
              " (0.2694911988544896, 0.9537813387356991),\n",
              " (0.26866869263430504, 0.954312943718163),\n",
              " (0.26782406290025207, 0.954834140007083),\n",
              " (0.2669882181048401, 0.9553621908015075),\n",
              " (0.2661551336819601, 0.9559019196423472),\n",
              " (0.26531488774205503, 0.9564165152963368),\n",
              " (0.264447674789022, 0.9569465970553552),\n",
              " (0.2636085280182493, 0.9574599233564737),\n",
              " (0.26275948358871926, 0.9579818812571164),\n",
              " (0.2619171438818081, 0.958499777228571),\n",
              " (0.2610492314961912, 0.9590359518813714),\n",
              " (0.26018392388345934, 0.9595533401116777),\n",
              " (0.2593252055852261, 0.9600791060709339),\n",
              " (0.2584372500510973, 0.9606033488067448),\n",
              " (0.25756007224307964, 0.9611189599430314),\n",
              " (0.2566846213368058, 0.9616147691745272),\n",
              " (0.2557756709138317, 0.9621412967455062),\n",
              " (0.2548951337118013, 0.9626383753298731),\n",
              " (0.25400253892350666, 0.963115652009449),\n",
              " (0.25309301384293137, 0.9636038451237174),\n",
              " (0.2521939395178504, 0.9641072704724405),\n",
              " (0.2512819063237143, 0.9646020642216392),\n",
              " (0.2503746899535071, 0.965102189252897),\n",
              " (0.2494690606186567, 0.9655967291315215),\n",
              " (0.2485570417130435, 0.9660917767512944),\n",
              " (0.24762436268720012, 0.966576923418672),\n",
              " (0.24668701993516817, 0.9670635933094949),\n",
              " (0.2457419009361793, 0.967551532553189),\n",
              " (0.24480529938403095, 0.968055973384209),\n",
              " (0.2438659665478946, 0.9685324884520623),\n",
              " (0.2429175167078217, 0.9690163657665686),\n",
              " (0.24195987177211253, 0.9694862801994915),\n",
              " (0.24099846566587413, 0.9699650801025129),\n",
              " (0.24003038714356328, 0.9704426106526631),\n",
              " (0.23905788567457875, 0.9709122712150119),\n",
              " (0.23806740895564948, 0.9713811701656379),\n",
              " (0.23707780065720918, 0.9718551465277487),\n",
              " (0.23609306427080767, 0.9723227761255034),\n",
              " (0.23511058290583287, 0.9728061456988613),\n",
              " (0.23410131960377356, 0.9732770756140812),\n",
              " (0.23308406596010112, 0.9737411510237965),\n",
              " (0.23205873892671136, 0.9742133502918877),\n",
              " (0.2310457506794409, 0.9746599086319804),\n",
              " (0.23001476451191305, 0.9751280459708835),\n",
              " (0.22897082497020205, 0.9755921213805989),\n",
              " (0.22792396621996658, 0.9760300481211673),\n",
              " (0.2268708402185352, 0.9764900616016948),\n",
              " (0.2258177167972304, 0.9769401741298269),\n",
              " (0.22474888988126862, 0.9773834321524544),\n",
              " (0.22399538572965183, 0.9776972161822182),\n",
              " (0.22290636147611653, 0.9781171181120153),\n",
              " (0.2218081868435846, 0.9785758622396716),\n",
              " (0.22068504845811443, 0.9790122657567946),\n",
              " (0.21957759259856335, 0.9794489231444917),\n",
              " (0.21844817183465537, 0.9798756795797934),\n",
              " (0.21731738769610487, 0.9803037053679664),\n",
              " (0.21617719310761652, 0.9807330005090105),\n",
              " (0.21502309966533462, 0.981169911767282),\n",
              " (0.21384711217000163, 0.9815926062733957),\n",
              " (0.2126551425795239, 0.9820183472264005),\n",
              " (0.21147634803650905, 0.9824291098155249),\n",
              " (0.21026582097454383, 0.9828611975328858),\n",
              " (0.2090286811931552, 0.9832742449571784),\n",
              " (0.20778980781767498, 0.9836971933338665),\n",
              " (0.20654829130160202, 0.9840970394882985),\n",
              " (0.205272660191682, 0.9845243036647486),\n",
              " (0.2039444144213367, 0.9849414130182291),\n",
              " (0.20262881241138153, 0.9853506523839082),\n",
              " (0.2012993248296946, 0.9857474520914492),\n",
              " (0.19993619351578185, 0.9861620227391873),\n",
              " (0.19859467424921706, 0.9865781166103709),\n",
              " (0.197244628009986, 0.9869716160004468),\n",
              " (0.19584531873240174, 0.9873600379790379),\n",
              " (0.19442394428162657, 0.9877659770272518),\n",
              " (0.19293123672407475, 0.9881769934869504),\n",
              " (0.19147648337249412, 0.9885588148306113),\n",
              " (0.18999013630899353, 0.9889342894099159),\n",
              " (0.18848791714171131, 0.9893285504117146),\n",
              " (0.18698390380106045, 0.9897144336845632),\n",
              " (0.18542661928623727, 0.9900817844054922),\n",
              " (0.18379226626542544, 0.9904608131728364),\n",
              " (0.18214678941688855, 0.9908340029169729),\n",
              " (0.18046636507383174, 0.9912031307319216),\n",
              " (0.17878029331309053, 0.9915633730767718),\n",
              " (0.17702336206428304, 0.9919411324912446),\n",
              " (0.17521094557371075, 0.9923216844820342),\n",
              " (0.17334629807226232, 0.9926806574740131),\n",
              " (0.1714019605307474, 0.9930302372547452),\n",
              " (0.16942502449544783, 0.9933902257290211),\n",
              " (0.1674579702983766, 0.9937580841910986),\n",
              " (0.16534104519448678, 0.9941023326897714),\n",
              " (0.16316639364240326, 0.9944478505413156),\n",
              " (0.16089164421353674, 0.9947918451694142),\n",
              " (0.15859264500263126, 0.9951320317388992),\n",
              " (0.15617184952189, 0.9954750108847009),\n",
              " (0.15365142051368363, 0.9957992036080086),\n",
              " (0.15103595789194701, 0.996133551154286),\n",
              " (0.14821358568894538, 0.9964658677359696),\n",
              " (0.1452482157345113, 0.9967763514482681),\n",
              " (0.14207478264658613, 0.9970947051483683),\n",
              " (0.13861270286285066, 0.99742092883627),\n",
              " (0.1350067179879254, 0.9977326819014398),\n",
              " (0.13098346614334444, 0.9980515433426884),\n",
              " (0.1264435140946838, 0.9983414635384734),\n",
              " ...]"
            ]
          },
          "execution_count": null,
          "metadata": {},
          "output_type": "execute_result"
        }
      ],
      "source": [
        "metrics = CurveMetrics(preds)\n",
        "metrics.get_curve('fMeasureByThreshold')\n",
        "metrics.get_curve('precisionByThreshold')\n",
        "metrics.get_curve('recallByThreshold')"
      ]
    },
    {
      "cell_type": "code",
      "source": [
        "points_1 = metrics.get_curve('fMeasureByThreshold')\n",
        "# points_2 = metrics.get_curve('precisionByThreshold')\n",
        "# points_3 = metrics.get_curve('recallByThreshold')\n",
        "\n",
        "plt.figure()\n",
        "x_val = [x[0] for x in points_1]\n",
        "y_val = [x[1] for x in points_1]\n",
        "\n",
        "title = 'f-MeasureByThreshold'\n",
        "xlabel = 'Threshold'\n",
        "ylabel = 'f-Measure'\n",
        "plt.title(title)\n",
        "plt.xlabel(xlabel)\n",
        "plt.ylabel(ylabel)\n",
        "plt.plot(x_val, y_val)"
      ],
      "metadata": {
        "colab": {
          "base_uri": "https://localhost:8080/",
          "height": 333
        },
        "outputId": "750efade-8184-4a0c-b595-2077533e2936",
        "id": "jcolnBX89hgo"
      },
      "execution_count": null,
      "outputs": [
        {
          "output_type": "execute_result",
          "data": {
            "text/plain": [
              "[<matplotlib.lines.Line2D at 0x7f18af861410>]"
            ]
          },
          "metadata": {},
          "execution_count": 86
        },
        {
          "output_type": "display_data",
          "data": {
            "text/plain": [
              "<Figure size 432x288 with 1 Axes>"
            ],
            "image/png": "[encoded data removed]"
          },
          "metadata": {}
        }
      ]
    },
    {
      "cell_type": "code",
      "source": [
        "# points_1 = metrics.get_curve('fMeasureByThreshold')\n",
        "points_2 = metrics.get_curve('precisionByThreshold')\n",
        "# points_3 = metrics.get_curve('recallByThreshold')\n",
        "\n",
        "plt.figure()\n",
        "x_val = [x[0] for x in points_2]\n",
        "y_val = [x[1] for x in points_2]\n",
        "\n",
        "title = 'PrecisionByThreshold'\n",
        "xlabel = 'Threshold'\n",
        "ylabel = 'Precision'\n",
        "plt.title(title)\n",
        "plt.xlabel(xlabel)\n",
        "plt.ylabel(ylabel)\n",
        "plt.plot(x_val, y_val)"
      ],
      "metadata": {
        "colab": {
          "base_uri": "https://localhost:8080/",
          "height": 333
        },
        "outputId": "016f5431-210f-4509-d911-fb10db7fe17e",
        "id": "XfsHBBtl9hgo"
      },
      "execution_count": null,
      "outputs": [
        {
          "output_type": "execute_result",
          "data": {
            "text/plain": [
              "[<matplotlib.lines.Line2D at 0x7f18af9431d0>]"
            ]
          },
          "metadata": {},
          "execution_count": 87
        },
        {
          "output_type": "display_data",
          "data": {
            "text/plain": [
              "<Figure size 432x288 with 1 Axes>"
            ],
            "image/png": "[encoded data removed]"
          },
          "metadata": {}
        }
      ]
    },
    {
      "cell_type": "code",
      "source": [
        "# points_1 = metrics.get_curve('fMeasureByThreshold')\n",
        "# points_2 = metrics.get_curve('precisionByThreshold')\n",
        "points_3 = metrics.get_curve('recallByThreshold')\n",
        "\n",
        "plt.figure()\n",
        "x_val = [x[0] for x in points_3]\n",
        "y_val = [x[1] for x in points_3]\n",
        "\n",
        "title = 'RecallByThreshold'\n",
        "xlabel = 'Threshold'\n",
        "ylabel = 'Recall'\n",
        "plt.title(title)\n",
        "plt.xlabel(xlabel)\n",
        "plt.ylabel(ylabel)\n",
        "plt.plot(x_val, y_val)"
      ],
      "metadata": {
        "colab": {
          "base_uri": "https://localhost:8080/",
          "height": 333
        },
        "outputId": "964a051e-a2ef-46b6-ac93-6b2fd5424bfc",
        "id": "-GX5kFFX9hgp"
      },
      "execution_count": null,
      "outputs": [
        {
          "output_type": "execute_result",
          "data": {
            "text/plain": [
              "[<matplotlib.lines.Line2D at 0x7f18b3670550>]"
            ]
          },
          "metadata": {},
          "execution_count": 89
        },
        {
          "output_type": "display_data",
          "data": {
            "text/plain": [
              "<Figure size 432x288 with 1 Axes>"
            ],
            "image/png": "[encoded data removed]"
          },
          "metadata": {}
        }
      ]
    },
    {
      "cell_type": "markdown",
      "source": [
        "## Random Forest Classifier"
      ],
      "metadata": {
        "id": "08qRJwEU_00q"
      }
    },
    {
      "cell_type": "code",
      "source": [
        "from pyspark.ml import Pipeline\n",
        "from pyspark.ml.classification import RandomForestClassifier\n",
        "from pyspark.ml.feature import IndexToString, StringIndexer, VectorIndexer\n",
        "from pyspark.ml.evaluation import MulticlassClassificationEvaluator"
      ],
      "metadata": {
        "id": "r19kTuJD_00r"
      },
      "execution_count": null,
      "outputs": []
    },
    {
      "cell_type": "code",
      "source": [
        "# from pyspark.ml.regression import RandomForestRegressor\n",
        "# leb = 'delay_ArrDelay'\n",
        "leb = 'delay_DepDelay'\n",
        "rf = RandomForestClassifier(featuresCol = 'features', labelCol=leb, maxDepth=30)\n",
        "# rf = RandomForestClassifier(featuresCol = 'features', labelCol=leb, numTrees=30)"
      ],
      "metadata": {
        "id": "aS9_WK-z_00s"
      },
      "execution_count": null,
      "outputs": []
    },
    {
      "cell_type": "code",
      "source": [
        "rf_model = rf.fit(train_df)"
      ],
      "metadata": {
        "id": "5Hk2r9Uw_00s"
      },
      "execution_count": null,
      "outputs": []
    },
    {
      "cell_type": "code",
      "source": [
        "basePath = \"/content/drive/MyDrive/01_GMBA/2nd_semester(2022)/03-1AM_Big Data Analytics Techniques and Applications/0427_0525HW4/HW4/Model_save\"\n",
        "modelName = \"/rf_model_0531_Plot_V1\"\n",
        "rf_model.save(basePath + modelName)"
      ],
      "metadata": {
        "id": "kCjtyB_5SPvA"
      },
      "execution_count": null,
      "outputs": []
    },
    {
      "cell_type": "markdown",
      "source": [
        "### Training Plot"
      ],
      "metadata": {
        "id": "F78s6ab1_00s"
      }
    },
    {
      "cell_type": "code",
      "source": [
        "# https://swan-gallery.web.cern.ch/notebooks/apache_spark1/ML_Spark_MLlib.html"
      ],
      "metadata": {
        "id": "55f9oWO5RyN9"
      },
      "execution_count": null,
      "outputs": []
    },
    {
      "cell_type": "code",
      "source": [
        "model = rf_model"
      ],
      "metadata": {
        "id": "zBv192aD_00t"
      },
      "execution_count": null,
      "outputs": []
    },
    {
      "cell_type": "code",
      "source": [
        "# import matplotlib.pyplot as plt\n",
        "# import numpy as np\n",
        "# beta = np.sort(model.coefficients)\n",
        "# plt.plot(beta)\n",
        "# plt.ylabel('Beta Coefficients')\n",
        "# plt.show()"
      ],
      "metadata": {
        "colab": {
          "base_uri": "https://localhost:8080/",
          "height": 244
        },
        "outputId": "4433eb49-cf6a-45ed-8e31-cc1e2b825504",
        "id": "Kz0MMBjD_00t"
      },
      "execution_count": null,
      "outputs": [
        {
          "output_type": "error",
          "ename": "AttributeError",
          "evalue": "ignored",
          "traceback": [
            "\u001b[0;31m---------------------------------------------------------------------------\u001b[0m",
            "\u001b[0;31mAttributeError\u001b[0m                            Traceback (most recent call last)",
            "\u001b[0;32m<ipython-input-41-efe0fa43a2fe>\u001b[0m in \u001b[0;36m<module>\u001b[0;34m()\u001b[0m\n\u001b[1;32m      1\u001b[0m \u001b[0;32mimport\u001b[0m \u001b[0mmatplotlib\u001b[0m\u001b[0;34m.\u001b[0m\u001b[0mpyplot\u001b[0m \u001b[0;32mas\u001b[0m \u001b[0mplt\u001b[0m\u001b[0;34m\u001b[0m\u001b[0;34m\u001b[0m\u001b[0m\n\u001b[1;32m      2\u001b[0m \u001b[0;32mimport\u001b[0m \u001b[0mnumpy\u001b[0m \u001b[0;32mas\u001b[0m \u001b[0mnp\u001b[0m\u001b[0;34m\u001b[0m\u001b[0;34m\u001b[0m\u001b[0m\n\u001b[0;32m----> 3\u001b[0;31m \u001b[0mbeta\u001b[0m \u001b[0;34m=\u001b[0m \u001b[0mnp\u001b[0m\u001b[0;34m.\u001b[0m\u001b[0msort\u001b[0m\u001b[0;34m(\u001b[0m\u001b[0mmodel\u001b[0m\u001b[0;34m.\u001b[0m\u001b[0mcoefficients\u001b[0m\u001b[0;34m)\u001b[0m\u001b[0;34m\u001b[0m\u001b[0;34m\u001b[0m\u001b[0m\n\u001b[0m\u001b[1;32m      4\u001b[0m \u001b[0mplt\u001b[0m\u001b[0;34m.\u001b[0m\u001b[0mplot\u001b[0m\u001b[0;34m(\u001b[0m\u001b[0mbeta\u001b[0m\u001b[0;34m)\u001b[0m\u001b[0;34m\u001b[0m\u001b[0;34m\u001b[0m\u001b[0m\n\u001b[1;32m      5\u001b[0m \u001b[0mplt\u001b[0m\u001b[0;34m.\u001b[0m\u001b[0mylabel\u001b[0m\u001b[0;34m(\u001b[0m\u001b[0;34m'Beta Coefficients'\u001b[0m\u001b[0;34m)\u001b[0m\u001b[0;34m\u001b[0m\u001b[0;34m\u001b[0m\u001b[0m\n",
            "\u001b[0;31mAttributeError\u001b[0m: 'RandomForestClassificationModel' object has no attribute 'coefficients'"
          ]
        }
      ]
    },
    {
      "cell_type": "code",
      "source": [
        "trainingSummary = model.summary\n",
        "roc = trainingSummary.roc.toPandas()\n",
        "plt.plot(roc['FPR'],roc['TPR'])\n",
        "plt.ylabel('False Positive Rate')\n",
        "plt.xlabel('True Positive Rate')\n",
        "plt.title('ROC Curve')\n",
        "plt.show()\n",
        "print('Training set areaUnderROC: ' + str(trainingSummary.areaUnderROC))"
      ],
      "metadata": {
        "colab": {
          "base_uri": "https://localhost:8080/",
          "height": 313
        },
        "outputId": "10af30df-fcce-40ba-9fda-a9bfb40d9ac2",
        "id": "1XM5UbsD_00u"
      },
      "execution_count": null,
      "outputs": [
        {
          "output_type": "display_data",
          "data": {
            "text/plain": [
              "<Figure size 432x288 with 1 Axes>"
            ],
            "image/png": "[encoded data removed]"
          },
          "metadata": {
            "needs_background": "light"
          }
        },
        {
          "output_type": "stream",
          "name": "stdout",
          "text": [
            "Training set areaUnderROC: 0.7804683443604191\n"
          ]
        }
      ]
    },
    {
      "cell_type": "code",
      "source": [
        "pr = trainingSummary.pr.toPandas()\n",
        "plt.plot(pr['recall'],pr['precision'])\n",
        "plt.ylabel('Precision')\n",
        "plt.xlabel('Recall')\n",
        "plt.show()"
      ],
      "metadata": {
        "colab": {
          "base_uri": "https://localhost:8080/",
          "height": 279
        },
        "outputId": "7fa7ae85-c6a4-4f7c-cc24-c5c8fec6c989",
        "id": "7dOP2Dh9_00u"
      },
      "execution_count": null,
      "outputs": [
        {
          "output_type": "display_data",
          "data": {
            "text/plain": [
              "<Figure size 432x288 with 1 Axes>"
            ],
            "image/png": "[encoded data removed]"
          },
          "metadata": {
            "needs_background": "light"
          }
        }
      ]
    },
    {
      "cell_type": "code",
      "source": [
        "# trainingSummary = model.summary\n",
        "# print('Test Area Under ROC' % trainingSummary.areaUnderROC)\n",
        "# print(\"r2: %f\" % trainingSummary.r2)"
      ],
      "metadata": {
        "colab": {
          "base_uri": "https://localhost:8080/",
          "height": 207
        },
        "outputId": "e7319bda-b8f5-489e-bbe0-ac6bb147787d",
        "id": "GzzYwA54_00u"
      },
      "execution_count": null,
      "outputs": [
        {
          "output_type": "error",
          "ename": "TypeError",
          "evalue": "ignored",
          "traceback": [
            "\u001b[0;31m---------------------------------------------------------------------------\u001b[0m",
            "\u001b[0;31mTypeError\u001b[0m                                 Traceback (most recent call last)",
            "\u001b[0;32m<ipython-input-46-5cffe67be01b>\u001b[0m in \u001b[0;36m<module>\u001b[0;34m()\u001b[0m\n\u001b[1;32m      1\u001b[0m \u001b[0mtrainingSummary\u001b[0m \u001b[0;34m=\u001b[0m \u001b[0mmodel\u001b[0m\u001b[0;34m.\u001b[0m\u001b[0msummary\u001b[0m\u001b[0;34m\u001b[0m\u001b[0;34m\u001b[0m\u001b[0m\n\u001b[0;32m----> 2\u001b[0;31m \u001b[0mprint\u001b[0m\u001b[0;34m(\u001b[0m\u001b[0;34m'Test Area Under ROC'\u001b[0m \u001b[0;34m%\u001b[0m \u001b[0mtrainingSummary\u001b[0m\u001b[0;34m.\u001b[0m\u001b[0mareaUnderROC\u001b[0m\u001b[0;34m)\u001b[0m\u001b[0;34m\u001b[0m\u001b[0;34m\u001b[0m\u001b[0m\n\u001b[0m\u001b[1;32m      3\u001b[0m \u001b[0;31m# print(\"r2: %f\" % trainingSummary.r2)\u001b[0m\u001b[0;34m\u001b[0m\u001b[0;34m\u001b[0m\u001b[0;34m\u001b[0m\u001b[0m\n",
            "\u001b[0;31mTypeError\u001b[0m: not all arguments converted during string formatting"
          ]
        }
      ]
    },
    {
      "cell_type": "markdown",
      "source": [
        "### Test evaluation"
      ],
      "metadata": {
        "id": "ws5IvLXS_00v"
      }
    },
    {
      "cell_type": "code",
      "source": [
        "# https://stackoverflow.com/questions/45855366/how-to-save-load-pyspark-ml-model-to-hbase\n",
        "\n",
        "# loading:\n",
        "# from pyspark.ml.regression import LinearRegressionModel\n",
        "# model = LinearRegressionModel.load(model_path)\n",
        "\n",
        "basePath = \"/content/drive/MyDrive/01_GMBA/2nd_semester(2022)/03-1AM_Big Data Analytics Techniques and Applications/0427_0525HW4/HW4/Model_save\"\n",
        "modelName = \"/rf_model_0531_Plot_V1\"\n",
        "\n",
        "# from pyspark.ml.classification import LogisticRegressionModel\n",
        "from pyspark.ml.classification import RandomForestClassifier\n",
        "rf_model = RandomForestClassifier.load(basePath + modelName)"
      ],
      "metadata": {
        "colab": {
          "base_uri": "https://localhost:8080/",
          "height": 651
        },
        "id": "-dDYbSbhSU6s",
        "outputId": "570fbc2e-529c-4e47-9dd8-a0eb5a9b3825"
      },
      "execution_count": null,
      "outputs": [
        {
          "output_type": "error",
          "ename": "Py4JJavaError",
          "evalue": "ignored",
          "traceback": [
            "\u001b[0;31m---------------------------------------------------------------------------\u001b[0m",
            "\u001b[0;31mPy4JJavaError\u001b[0m                             Traceback (most recent call last)",
            "\u001b[0;32m<ipython-input-38-356bbc26f32f>\u001b[0m in \u001b[0;36m<module>\u001b[0;34m()\u001b[0m\n\u001b[1;32m     10\u001b[0m \u001b[0;31m# from pyspark.ml.classification import LogisticRegressionModel\u001b[0m\u001b[0;34m\u001b[0m\u001b[0;34m\u001b[0m\u001b[0;34m\u001b[0m\u001b[0m\n\u001b[1;32m     11\u001b[0m \u001b[0;32mfrom\u001b[0m \u001b[0mpyspark\u001b[0m\u001b[0;34m.\u001b[0m\u001b[0mml\u001b[0m\u001b[0;34m.\u001b[0m\u001b[0mclassification\u001b[0m \u001b[0;32mimport\u001b[0m \u001b[0mRandomForestClassifier\u001b[0m\u001b[0;34m\u001b[0m\u001b[0;34m\u001b[0m\u001b[0m\n\u001b[0;32m---> 12\u001b[0;31m \u001b[0mrf_model\u001b[0m \u001b[0;34m=\u001b[0m \u001b[0mRandomForestClassifier\u001b[0m\u001b[0;34m.\u001b[0m\u001b[0mload\u001b[0m\u001b[0;34m(\u001b[0m\u001b[0mbasePath\u001b[0m \u001b[0;34m+\u001b[0m \u001b[0mmodelName\u001b[0m\u001b[0;34m)\u001b[0m\u001b[0;34m\u001b[0m\u001b[0;34m\u001b[0m\u001b[0m\n\u001b[0m",
            "\u001b[0;32m/usr/local/lib/python3.7/dist-packages/pyspark/ml/util.py\u001b[0m in \u001b[0;36mload\u001b[0;34m(cls, path)\u001b[0m\n\u001b[1;32m    330\u001b[0m     \u001b[0;32mdef\u001b[0m \u001b[0mload\u001b[0m\u001b[0;34m(\u001b[0m\u001b[0mcls\u001b[0m\u001b[0;34m,\u001b[0m \u001b[0mpath\u001b[0m\u001b[0;34m)\u001b[0m\u001b[0;34m:\u001b[0m\u001b[0;34m\u001b[0m\u001b[0;34m\u001b[0m\u001b[0m\n\u001b[1;32m    331\u001b[0m         \u001b[0;34m\"\"\"Reads an ML instance from the input path, a shortcut of `read().load(path)`.\"\"\"\u001b[0m\u001b[0;34m\u001b[0m\u001b[0;34m\u001b[0m\u001b[0m\n\u001b[0;32m--> 332\u001b[0;31m         \u001b[0;32mreturn\u001b[0m \u001b[0mcls\u001b[0m\u001b[0;34m.\u001b[0m\u001b[0mread\u001b[0m\u001b[0;34m(\u001b[0m\u001b[0;34m)\u001b[0m\u001b[0;34m.\u001b[0m\u001b[0mload\u001b[0m\u001b[0;34m(\u001b[0m\u001b[0mpath\u001b[0m\u001b[0;34m)\u001b[0m\u001b[0;34m\u001b[0m\u001b[0;34m\u001b[0m\u001b[0m\n\u001b[0m\u001b[1;32m    333\u001b[0m \u001b[0;34m\u001b[0m\u001b[0m\n\u001b[1;32m    334\u001b[0m \u001b[0;34m\u001b[0m\u001b[0m\n",
            "\u001b[0;32m/usr/local/lib/python3.7/dist-packages/pyspark/ml/util.py\u001b[0m in \u001b[0;36mload\u001b[0;34m(self, path)\u001b[0m\n\u001b[1;32m    280\u001b[0m         \u001b[0;32mif\u001b[0m \u001b[0;32mnot\u001b[0m \u001b[0misinstance\u001b[0m\u001b[0;34m(\u001b[0m\u001b[0mpath\u001b[0m\u001b[0;34m,\u001b[0m \u001b[0mstr\u001b[0m\u001b[0;34m)\u001b[0m\u001b[0;34m:\u001b[0m\u001b[0;34m\u001b[0m\u001b[0;34m\u001b[0m\u001b[0m\n\u001b[1;32m    281\u001b[0m             \u001b[0;32mraise\u001b[0m \u001b[0mTypeError\u001b[0m\u001b[0;34m(\u001b[0m\u001b[0;34m\"path should be a string, got type %s\"\u001b[0m \u001b[0;34m%\u001b[0m \u001b[0mtype\u001b[0m\u001b[0;34m(\u001b[0m\u001b[0mpath\u001b[0m\u001b[0;34m)\u001b[0m\u001b[0;34m)\u001b[0m\u001b[0;34m\u001b[0m\u001b[0;34m\u001b[0m\u001b[0m\n\u001b[0;32m--> 282\u001b[0;31m         \u001b[0mjava_obj\u001b[0m \u001b[0;34m=\u001b[0m \u001b[0mself\u001b[0m\u001b[0;34m.\u001b[0m\u001b[0m_jread\u001b[0m\u001b[0;34m.\u001b[0m\u001b[0mload\u001b[0m\u001b[0;34m(\u001b[0m\u001b[0mpath\u001b[0m\u001b[0;34m)\u001b[0m\u001b[0;34m\u001b[0m\u001b[0;34m\u001b[0m\u001b[0m\n\u001b[0m\u001b[1;32m    283\u001b[0m         \u001b[0;32mif\u001b[0m \u001b[0;32mnot\u001b[0m \u001b[0mhasattr\u001b[0m\u001b[0;34m(\u001b[0m\u001b[0mself\u001b[0m\u001b[0;34m.\u001b[0m\u001b[0m_clazz\u001b[0m\u001b[0;34m,\u001b[0m \u001b[0;34m\"_from_java\"\u001b[0m\u001b[0;34m)\u001b[0m\u001b[0;34m:\u001b[0m\u001b[0;34m\u001b[0m\u001b[0;34m\u001b[0m\u001b[0m\n\u001b[1;32m    284\u001b[0m             raise NotImplementedError(\"This Java ML type cannot be loaded into Python currently: %r\"\n",
            "\u001b[0;32m/usr/local/lib/python3.7/dist-packages/py4j/java_gateway.py\u001b[0m in \u001b[0;36m__call__\u001b[0;34m(self, *args)\u001b[0m\n\u001b[1;32m   1320\u001b[0m         \u001b[0manswer\u001b[0m \u001b[0;34m=\u001b[0m \u001b[0mself\u001b[0m\u001b[0;34m.\u001b[0m\u001b[0mgateway_client\u001b[0m\u001b[0;34m.\u001b[0m\u001b[0msend_command\u001b[0m\u001b[0;34m(\u001b[0m\u001b[0mcommand\u001b[0m\u001b[0;34m)\u001b[0m\u001b[0;34m\u001b[0m\u001b[0;34m\u001b[0m\u001b[0m\n\u001b[1;32m   1321\u001b[0m         return_value = get_return_value(\n\u001b[0;32m-> 1322\u001b[0;31m             answer, self.gateway_client, self.target_id, self.name)\n\u001b[0m\u001b[1;32m   1323\u001b[0m \u001b[0;34m\u001b[0m\u001b[0m\n\u001b[1;32m   1324\u001b[0m         \u001b[0;32mfor\u001b[0m \u001b[0mtemp_arg\u001b[0m \u001b[0;32min\u001b[0m \u001b[0mtemp_args\u001b[0m\u001b[0;34m:\u001b[0m\u001b[0;34m\u001b[0m\u001b[0;34m\u001b[0m\u001b[0m\n",
            "\u001b[0;32m/usr/local/lib/python3.7/dist-packages/pyspark/sql/utils.py\u001b[0m in \u001b[0;36mdeco\u001b[0;34m(*a, **kw)\u001b[0m\n\u001b[1;32m    109\u001b[0m     \u001b[0;32mdef\u001b[0m \u001b[0mdeco\u001b[0m\u001b[0;34m(\u001b[0m\u001b[0;34m*\u001b[0m\u001b[0ma\u001b[0m\u001b[0;34m,\u001b[0m \u001b[0;34m**\u001b[0m\u001b[0mkw\u001b[0m\u001b[0;34m)\u001b[0m\u001b[0;34m:\u001b[0m\u001b[0;34m\u001b[0m\u001b[0;34m\u001b[0m\u001b[0m\n\u001b[1;32m    110\u001b[0m         \u001b[0;32mtry\u001b[0m\u001b[0;34m:\u001b[0m\u001b[0;34m\u001b[0m\u001b[0;34m\u001b[0m\u001b[0m\n\u001b[0;32m--> 111\u001b[0;31m             \u001b[0;32mreturn\u001b[0m \u001b[0mf\u001b[0m\u001b[0;34m(\u001b[0m\u001b[0;34m*\u001b[0m\u001b[0ma\u001b[0m\u001b[0;34m,\u001b[0m \u001b[0;34m**\u001b[0m\u001b[0mkw\u001b[0m\u001b[0;34m)\u001b[0m\u001b[0;34m\u001b[0m\u001b[0;34m\u001b[0m\u001b[0m\n\u001b[0m\u001b[1;32m    112\u001b[0m         \u001b[0;32mexcept\u001b[0m \u001b[0mpy4j\u001b[0m\u001b[0;34m.\u001b[0m\u001b[0mprotocol\u001b[0m\u001b[0;34m.\u001b[0m\u001b[0mPy4JJavaError\u001b[0m \u001b[0;32mas\u001b[0m \u001b[0me\u001b[0m\u001b[0;34m:\u001b[0m\u001b[0;34m\u001b[0m\u001b[0;34m\u001b[0m\u001b[0m\n\u001b[1;32m    113\u001b[0m             \u001b[0mconverted\u001b[0m \u001b[0;34m=\u001b[0m \u001b[0mconvert_exception\u001b[0m\u001b[0;34m(\u001b[0m\u001b[0me\u001b[0m\u001b[0;34m.\u001b[0m\u001b[0mjava_exception\u001b[0m\u001b[0;34m)\u001b[0m\u001b[0;34m\u001b[0m\u001b[0;34m\u001b[0m\u001b[0m\n",
            "\u001b[0;32m/usr/local/lib/python3.7/dist-packages/py4j/protocol.py\u001b[0m in \u001b[0;36mget_return_value\u001b[0;34m(answer, gateway_client, target_id, name)\u001b[0m\n\u001b[1;32m    326\u001b[0m                 raise Py4JJavaError(\n\u001b[1;32m    327\u001b[0m                     \u001b[0;34m\"An error occurred while calling {0}{1}{2}.\\n\"\u001b[0m\u001b[0;34m.\u001b[0m\u001b[0;34m\u001b[0m\u001b[0;34m\u001b[0m\u001b[0m\n\u001b[0;32m--> 328\u001b[0;31m                     format(target_id, \".\", name), value)\n\u001b[0m\u001b[1;32m    329\u001b[0m             \u001b[0;32melse\u001b[0m\u001b[0;34m:\u001b[0m\u001b[0;34m\u001b[0m\u001b[0;34m\u001b[0m\u001b[0m\n\u001b[1;32m    330\u001b[0m                 raise Py4JError(\n",
            "\u001b[0;31mPy4JJavaError\u001b[0m: An error occurred while calling o1487.load.\n: java.lang.NoSuchMethodException: org.apache.spark.ml.classification.RandomForestClassificationModel.<init>(java.lang.String)\n\tat java.base/java.lang.Class.getConstructor0(Class.java:3349)\n\tat java.base/java.lang.Class.getConstructor(Class.java:2151)\n\tat org.apache.spark.ml.util.DefaultParamsReader.load(ReadWrite.scala:468)\n\tat java.base/jdk.internal.reflect.NativeMethodAccessorImpl.invoke0(Native Method)\n\tat java.base/jdk.internal.reflect.NativeMethodAccessorImpl.invoke(NativeMethodAccessorImpl.java:62)\n\tat java.base/jdk.internal.reflect.DelegatingMethodAccessorImpl.invoke(DelegatingMethodAccessorImpl.java:43)\n\tat java.base/java.lang.reflect.Method.invoke(Method.java:566)\n\tat py4j.reflection.MethodInvoker.invoke(MethodInvoker.java:244)\n\tat py4j.reflection.ReflectionEngine.invoke(ReflectionEngine.java:357)\n\tat py4j.Gateway.invoke(Gateway.java:282)\n\tat py4j.commands.AbstractCommand.invokeMethod(AbstractCommand.java:132)\n\tat py4j.commands.CallCommand.execute(CallCommand.java:79)\n\tat py4j.ClientServerConnection.waitForCommands(ClientServerConnection.java:182)\n\tat py4j.ClientServerConnection.run(ClientServerConnection.java:106)\n\tat java.base/java.lang.Thread.run(Thread.java:829)\n"
          ]
        }
      ]
    },
    {
      "cell_type": "code",
      "source": [
        "rf_predictions = rf_model.transform(test_df)\n",
        "rf_predictions.show()"
      ],
      "metadata": {
        "colab": {
          "base_uri": "https://localhost:8080/"
        },
        "outputId": "a1d7ce45-1879-4bae-f8b9-8b8e97d2c98d",
        "id": "UMpRkidJ_00v"
      },
      "execution_count": null,
      "outputs": [
        {
          "output_type": "stream",
          "name": "stdout",
          "text": [
            "+------+-----+----------+---------+----------+----------+-------------+---------+-------+--------------+------+----+--------+------+-------+---------+--------------+-----+---------+-------------+-----------------+-------------+-----------+----------+--------+--------------+-------------+----------------+------------------+-------------------+----------------+----------------+--------------------+--------------------+--------------------+--------------------+----------+\n",
            "|  Year|Month|DayofMonth|DayOfWeek|CRSDepTime|CRSArrTime|UniqueCarrier|FlightNum|TailNum|CRSElapsedTime|Origin|Dest|Distance|TaxiIn|TaxiOut|Cancelled|delay_DepDelay|label|Month_idx|DayOfWeek_idx|UniqueCarrier_idx|FlightNum_idx|TailNum_idx|Origin_idx|Dest_idx|      Month_oh| DayOfWeek_oh|UniqueCarrier_oh|      FlightNum_oh|         TailNum_oh|       Origin_oh|         Dest_oh|           _features|            features|       rawPrediction|         probability|prediction|\n",
            "+------+-----+----------+---------+----------+----------+-------------+---------+-------+--------------+------+----+--------+------+-------+---------+--------------+-----+---------+-------------+-----------------+-------------+-----------+----------+--------+--------------+-------------+----------------+------------------+-------------------+----------------+----------------+--------------------+--------------------+--------------------+--------------------+----------+\n",
            "|2005.0|    1|      28.0|        5|    1605.0|    1759.0|           UA|      541| N935UA|         174.0|   BOS| ORD|   867.0|   4.0|   23.0|      0.0|             0|  0.0|      7.0|          0.0|              3.0|        373.0|     1829.0|      14.0|     1.0|(11,[7],[1.0])|(6,[0],[1.0])|  (19,[3],[1.0])|(7960,[373],[1.0])|(6163,[1829],[1.0])|(294,[14],[1.0])| (298,[1],[1.0])|(14760,[0,1,2,3,4...|(14760,[0,1,2,3,4...|[10.2939272332340...|[0.51469636166170...|       0.0|\n",
            "|2005.0|    1|      29.0|        6|    1605.0|    1759.0|           UA|      541| N941UA|         174.0|   BOS| ORD|   867.0|   6.0|   15.0|      0.0|             0|  0.0|      7.0|          6.0|              3.0|        373.0|     1541.0|      14.0|     1.0|(11,[7],[1.0])|    (6,[],[])|  (19,[3],[1.0])|(7960,[373],[1.0])|(6163,[1541],[1.0])|(294,[14],[1.0])| (298,[1],[1.0])|(14760,[0,1,2,3,4...|(14760,[0,1,2,3,4...|[10.1559100711740...|[0.50779550355870...|       0.0|\n",
            "|2005.0|    1|      30.0|        7|    1610.0|    1805.0|           UA|      541| N342UA|         175.0|   BOS| ORD|   867.0|   9.0|   18.0|      0.0|             0|  0.0|      7.0|          5.0|              3.0|        373.0|     1828.0|      14.0|     1.0|(11,[7],[1.0])|(6,[5],[1.0])|  (19,[3],[1.0])|(7960,[373],[1.0])|(6163,[1828],[1.0])|(294,[14],[1.0])| (298,[1],[1.0])|(14760,[0,1,2,3,4...|(14760,[0,1,2,3,4...|[10.1559100711740...|[0.50779550355870...|       0.0|\n",
            "|2005.0|    1|      31.0|        1|    1605.0|    1759.0|           UA|      541| N326UA|         174.0|   BOS| ORD|   867.0|  11.0|   10.0|      0.0|             0|  0.0|      7.0|          2.0|              3.0|        373.0|     1819.0|      14.0|     1.0|(11,[7],[1.0])|(6,[2],[1.0])|  (19,[3],[1.0])|(7960,[373],[1.0])|(6163,[1819],[1.0])|(294,[14],[1.0])| (298,[1],[1.0])|(14760,[0,1,2,3,4...|(14760,[0,1,2,3,4...|[10.1559100711740...|[0.50779550355870...|       0.0|\n",
            "|2005.0|    1|       2.0|        7|    1900.0|    2232.0|           UA|      542| N902UA|         152.0|   ORD| BOS|   867.0|   5.0|   10.0|      0.0|             1|  1.0|      7.0|          5.0|              3.0|        155.0|     1860.0|       1.0|    14.0|(11,[7],[1.0])|(6,[5],[1.0])|  (19,[3],[1.0])|(7960,[155],[1.0])|(6163,[1860],[1.0])| (294,[1],[1.0])|(298,[14],[1.0])|(14760,[0,1,2,3,4...|(14760,[0,1,2,3,4...|[9.85627391946632...|[0.49281369597331...|       1.0|\n",
            "|2005.0|    1|       3.0|        1|    1900.0|    2232.0|           UA|      542| N904UA|         152.0|   ORD| BOS|   867.0|   3.0|   47.0|      0.0|             1|  1.0|      7.0|          2.0|              3.0|        155.0|     1840.0|       1.0|    14.0|(11,[7],[1.0])|(6,[2],[1.0])|  (19,[3],[1.0])|(7960,[155],[1.0])|(6163,[1840],[1.0])| (294,[1],[1.0])|(298,[14],[1.0])|(14760,[0,1,2,3,4...|(14760,[0,1,2,3,4...|[9.71023077254411...|[0.48551153862720...|       1.0|\n",
            "|2005.0|    1|       4.0|        2|    1900.0|    2232.0|           UA|      542| N942UA|         152.0|   ORD| BOS|   867.0|   5.0|   26.0|      0.0|             1|  1.0|      7.0|          4.0|              3.0|        155.0|     1611.0|       1.0|    14.0|(11,[7],[1.0])|(6,[4],[1.0])|  (19,[3],[1.0])|(7960,[155],[1.0])|(6163,[1611],[1.0])| (294,[1],[1.0])|(298,[14],[1.0])|(14760,[0,1,2,3,4...|(14760,[0,1,2,3,4...|[10.0627856968585...|[0.50313928484292...|       0.0|\n",
            "|2005.0|    1|       5.0|        3|    1900.0|    2232.0|           UA|      542| 000000|         152.0|   ORD| BOS|   867.0|   0.0|    0.0|      1.0|             1|  1.0|      7.0|          3.0|              3.0|        155.0|        1.0|       1.0|    14.0|(11,[7],[1.0])|(6,[3],[1.0])|  (19,[3],[1.0])|(7960,[155],[1.0])|   (6163,[1],[1.0])| (294,[1],[1.0])|(298,[14],[1.0])|(14760,[0,3,4,5,6...|(14760,[0,3,4,5,6...|[5.41130484958598...|[0.27056524247929...|       1.0|\n",
            "|2005.0|    1|       6.0|        4|    1900.0|    2223.0|           UA|      542| N920UA|         143.0|   ORD| BOS|   867.0|   2.0|   15.0|      0.0|             1|  1.0|      7.0|          1.0|              3.0|        155.0|     3082.0|       1.0|    14.0|(11,[7],[1.0])|(6,[1],[1.0])|  (19,[3],[1.0])|(7960,[155],[1.0])|(6163,[3082],[1.0])| (294,[1],[1.0])|(298,[14],[1.0])|(14760,[0,1,2,3,4...|(14760,[0,1,2,3,4...|[9.87488021500883...|[0.49374401075044...|       1.0|\n",
            "|2005.0|    1|       7.0|        5|    1900.0|    2223.0|           UA|      542| N340UA|         143.0|   ORD| BOS|   867.0|   4.0|   56.0|      0.0|             0|  0.0|      7.0|          0.0|              3.0|        155.0|     1704.0|       1.0|    14.0|(11,[7],[1.0])|(6,[0],[1.0])|  (19,[3],[1.0])|(7960,[155],[1.0])|(6163,[1704],[1.0])| (294,[1],[1.0])|(298,[14],[1.0])|(14760,[0,1,2,3,4...|(14760,[0,1,2,3,4...|[9.92222569396881...|[0.49611128469844...|       1.0|\n",
            "|2005.0|    1|       9.0|        7|    1900.0|    2223.0|           UA|      542| N929UA|         143.0|   ORD| BOS|   867.0|   5.0|   15.0|      0.0|             0|  0.0|      7.0|          5.0|              3.0|        155.0|     1088.0|       1.0|    14.0|(11,[7],[1.0])|(6,[5],[1.0])|  (19,[3],[1.0])|(7960,[155],[1.0])|(6163,[1088],[1.0])| (294,[1],[1.0])|(298,[14],[1.0])|(14760,[0,1,2,3,4...|(14760,[0,1,2,3,4...|[9.87488021500883...|[0.49374401075044...|       1.0|\n",
            "|2005.0|    1|      10.0|        1|    1900.0|    2223.0|           UA|      542| N934UA|         143.0|   ORD| BOS|   867.0|   3.0|   24.0|      0.0|             1|  1.0|      7.0|          2.0|              3.0|        155.0|      947.0|       1.0|    14.0|(11,[7],[1.0])|(6,[2],[1.0])|  (19,[3],[1.0])|(7960,[155],[1.0])| (6163,[947],[1.0])| (294,[1],[1.0])|(298,[14],[1.0])|(14760,[0,1,2,3,4...|(14760,[0,1,2,3,4...|[9.87488021500883...|[0.49374401075044...|       1.0|\n",
            "|2005.0|    1|      11.0|        2|    1900.0|    2223.0|           UA|      542| N336UA|         143.0|   ORD| BOS|   867.0|   6.0|   32.0|      0.0|             1|  1.0|      7.0|          4.0|              3.0|        155.0|     1891.0|       1.0|    14.0|(11,[7],[1.0])|(6,[4],[1.0])|  (19,[3],[1.0])|(7960,[155],[1.0])|(6163,[1891],[1.0])| (294,[1],[1.0])|(298,[14],[1.0])|(14760,[0,1,2,3,4...|(14760,[0,1,2,3,4...|[10.0813919924010...|[0.50406959962005...|       0.0|\n",
            "|2005.0|    1|      12.0|        3|    1900.0|    2223.0|           UA|      542| N920UA|         143.0|   ORD| BOS|   867.0|   6.0|   43.0|      0.0|             1|  1.0|      7.0|          3.0|              3.0|        155.0|     3082.0|       1.0|    14.0|(11,[7],[1.0])|(6,[3],[1.0])|  (19,[3],[1.0])|(7960,[155],[1.0])|(6163,[3082],[1.0])| (294,[1],[1.0])|(298,[14],[1.0])|(14760,[0,1,2,3,4...|(14760,[0,1,2,3,4...|[9.86695115123251...|[0.49334755756162...|       1.0|\n",
            "|2005.0|    1|      13.0|        4|    1900.0|    2223.0|           UA|      542| N923UA|         143.0|   ORD| BOS|   867.0|   6.0|   11.0|      0.0|             1|  1.0|      7.0|          1.0|              3.0|        155.0|     1399.0|       1.0|    14.0|(11,[7],[1.0])|(6,[1],[1.0])|  (19,[3],[1.0])|(7960,[155],[1.0])|(6163,[1399],[1.0])| (294,[1],[1.0])|(298,[14],[1.0])|(14760,[0,1,2,3,4...|(14760,[0,1,2,3,4...|[9.87488021500883...|[0.49374401075044...|       1.0|\n",
            "|2005.0|    1|      14.0|        5|    1900.0|    2223.0|           UA|      542| N917UA|         143.0|   ORD| BOS|   867.0|   9.0|   20.0|      0.0|             1|  1.0|      7.0|          0.0|              3.0|        155.0|     2874.0|       1.0|    14.0|(11,[7],[1.0])|(6,[0],[1.0])|  (19,[3],[1.0])|(7960,[155],[1.0])|(6163,[2874],[1.0])| (294,[1],[1.0])|(298,[14],[1.0])|(14760,[0,1,2,3,4...|(14760,[0,1,2,3,4...|[10.0304282514225...|[0.50152141257112...|       0.0|\n",
            "|2005.0|    1|      16.0|        7|    1900.0|    2223.0|           UA|      542| N348UA|         143.0|   ORD| BOS|   867.0|   0.0|   13.0|      0.0|             1|  1.0|      7.0|          5.0|              3.0|        155.0|     1723.0|       1.0|    14.0|(11,[7],[1.0])|(6,[5],[1.0])|  (19,[3],[1.0])|(7960,[155],[1.0])|(6163,[1723],[1.0])| (294,[1],[1.0])|(298,[14],[1.0])|(14760,[0,2,3,4,5...|(14760,[0,2,3,4,5...|[8.62743659952517...|[0.43137182997625...|       1.0|\n",
            "|2005.0|    1|      17.0|        1|    1900.0|    2223.0|           UA|      542| N902UA|         143.0|   ORD| BOS|   867.0|   3.0|   11.0|      0.0|             0|  0.0|      7.0|          2.0|              3.0|        155.0|     1860.0|       1.0|    14.0|(11,[7],[1.0])|(6,[2],[1.0])|  (19,[3],[1.0])|(7960,[155],[1.0])|(6163,[1860],[1.0])| (294,[1],[1.0])|(298,[14],[1.0])|(14760,[0,1,2,3,4...|(14760,[0,1,2,3,4...|[9.87488021500883...|[0.49374401075044...|       1.0|\n",
            "|2005.0|    1|      18.0|        2|    1900.0|    2223.0|           UA|      542| N906UA|         143.0|   ORD| BOS|   867.0|   3.0|   31.0|      0.0|             0|  0.0|      7.0|          4.0|              3.0|        155.0|     2032.0|       1.0|    14.0|(11,[7],[1.0])|(6,[4],[1.0])|  (19,[3],[1.0])|(7960,[155],[1.0])|(6163,[2032],[1.0])| (294,[1],[1.0])|(298,[14],[1.0])|(14760,[0,1,2,3,4...|(14760,[0,1,2,3,4...|[10.0813919924010...|[0.50406959962005...|       0.0|\n",
            "|2005.0|    1|      19.0|        3|    1900.0|    2223.0|           UA|      542| N932UA|         143.0|   ORD| BOS|   867.0|   6.0|   17.0|      0.0|             1|  1.0|      7.0|          3.0|              3.0|        155.0|     1050.0|       1.0|    14.0|(11,[7],[1.0])|(6,[3],[1.0])|  (19,[3],[1.0])|(7960,[155],[1.0])|(6163,[1050],[1.0])| (294,[1],[1.0])|(298,[14],[1.0])|(14760,[0,1,2,3,4...|(14760,[0,1,2,3,4...|[9.86695115123251...|[0.49334755756162...|       1.0|\n",
            "+------+-----+----------+---------+----------+----------+-------------+---------+-------+--------------+------+----+--------+------+-------+---------+--------------+-----+---------+-------------+-----------------+-------------+-----------+----------+--------+--------------+-------------+----------------+------------------+-------------------+----------------+----------------+--------------------+--------------------+--------------------+--------------------+----------+\n",
            "only showing top 20 rows\n",
            "\n"
          ]
        }
      ]
    },
    {
      "cell_type": "code",
      "source": [
        "# rf_evaluator = RegressionEvaluator(predictionCol=\"prediction\", labelCol=leb, metricName=\"r2\")\n",
        "# print(\"R Squared (R2) on test data = %g\" % rf_evaluator.evaluate(rf_predictions))\n",
        "\n",
        "# Area under the curve for the training data\n",
        "from pyspark.ml.evaluation import BinaryClassificationEvaluator\n",
        "rf_evaluator = BinaryClassificationEvaluator(rawPredictionCol='prediction',\n",
        "                                             labelCol='delay_DepDelay', metricName='areaUnderROC')\n",
        "print('Test Area Under ROC', rf_evaluator.evaluate(rf_predictions))"
      ],
      "metadata": {
        "colab": {
          "base_uri": "https://localhost:8080/"
        },
        "outputId": "9855ddc8-6dbf-4f2d-be46-d6b03db82b52",
        "id": "NyhmMMKG_00w"
      },
      "execution_count": null,
      "outputs": [
        {
          "output_type": "stream",
          "name": "stdout",
          "text": [
            "Test Area Under ROC 0.6358156248580472\n"
          ]
        }
      ]
    },
    {
      "cell_type": "code",
      "source": [
        "from pyspark.ml.evaluation import MulticlassClassificationEvaluator\n",
        "rf_evaluator_mul = MulticlassClassificationEvaluator(labelCol=\"delay_DepDelay\",\n",
        "                                                     predictionCol=\"prediction\", metricName=\"accuracy\")\n",
        "\n",
        "rf_accuracy = rf_evaluator_mul.evaluate(rf_predictions)\n",
        "print(\"Test accuracy = %g\" % (rf_accuracy))\n",
        "print(\"Test Error = %g\" % (1.0 - rf_accuracy))"
      ],
      "metadata": {
        "colab": {
          "base_uri": "https://localhost:8080/"
        },
        "outputId": "479977f7-c0b6-4d78-d029-47f34bad8522",
        "id": "9Vs8qj9I_00w"
      },
      "execution_count": null,
      "outputs": [
        {
          "output_type": "stream",
          "name": "stdout",
          "text": [
            "Test accuracy = 0.644934\n",
            "Test Error = 0.355066\n"
          ]
        }
      ]
    },
    {
      "cell_type": "code",
      "source": [
        "# https://stackoverflow.com/questions/45855366/how-to-save-load-pyspark-ml-model-to-hbase\n",
        "basePath = \"/content/drive/MyDrive/01_GMBA/2nd_semester(2022)/03-1AM_Big Data Analytics Techniques and Applications/0427_0525HW4/HW4/Model_save\"\n",
        "modelName = \"/rf_model_0531_Plot_V1\"\n",
        "rf_model.save(basePath + modelName)"
      ],
      "metadata": {
        "id": "-G33Jrg5_00w"
      },
      "execution_count": null,
      "outputs": []
    },
    {
      "cell_type": "markdown",
      "source": [
        "### Testing Plot"
      ],
      "metadata": {
        "id": "UAnujhYQ_00w"
      }
    },
    {
      "cell_type": "code",
      "source": [
        "#important: need to cast to float type, and order by prediction, else it won't work\n",
        "# preds_and_labels = lr_predictions.select(['prediction','d']).withColumn('label', F.col('d').cast(FloatType())).orderBy('prediction')\n",
        "\n",
        "#select only prediction and label columns\n",
        "preds_and_labels = rf_predictions.select(['prediction','label'])\n",
        "\n",
        "rf_metrics = MulticlassMetrics(preds_and_labels.rdd.map(tuple))\n",
        "\n",
        "metrics = rf_metrics\n",
        "\n",
        "print(metrics.confusionMatrix().toArray())"
      ],
      "metadata": {
        "colab": {
          "base_uri": "https://localhost:8080/"
        },
        "outputId": "8e8851ea-d9c8-4611-ced0-ce2d2d451b02",
        "id": "W3cRvy44_00x"
      },
      "execution_count": null,
      "outputs": [
        {
          "output_type": "stream",
          "name": "stdout",
          "text": [
            "[[1752924. 1448657.]\n",
            " [1086723. 2852292.]]\n"
          ]
        }
      ]
    },
    {
      "cell_type": "code",
      "source": [
        "import seaborn as sn\n",
        "import pandas as pd\n",
        "import matplotlib.pyplot as plt\n",
        "\n",
        "cm_array = metrics.confusionMatrix().toArray()\n",
        "\n",
        "df_cm = pd.DataFrame(cm_array, range(2), range(2))\n",
        "# plt.figure(figsize=(10,7))\n",
        "sn.set(font_scale=1.4) # for label size\n",
        "sn.heatmap(df_cm, annot=True, annot_kws={\"size\": 16}, cmap=\"Blues\", fmt='.1f') # font size\n",
        "\n",
        "plt.show()"
      ],
      "metadata": {
        "colab": {
          "base_uri": "https://localhost:8080/",
          "height": 288
        },
        "outputId": "973cde62-eb76-4d08-ca15-9a9bbf9c66fc",
        "id": "-jgyMWqR_00x"
      },
      "execution_count": null,
      "outputs": [
        {
          "output_type": "display_data",
          "data": {
            "text/plain": [
              "<Figure size 432x288 with 2 Axes>"
            ],
            "image/png": "[encoded data removed]"
          },
          "metadata": {}
        }
      ]
    },
    {
      "cell_type": "code",
      "source": [
        "import sklearn \n",
        "# from pyspark.ml.classification import RandomForestClassifier\n",
        "\n",
        "# rf = RandomForestClassifier(featuresCol = 'features', labelCol = 'label', numTrees=500)\n",
        "# rfModel = rf.fit(train)\n",
        "# predictions_train = rfModel.transform(train)\n",
        "\n",
        "y_true = rf_predictions.select(['label']).collect()\n",
        "y_pred = rf_predictions.select(['prediction']).collect()\n",
        "\n",
        "from sklearn.metrics import classification_report, confusion_matrix\n",
        "print(classification_report(y_true, y_pred))"
      ],
      "metadata": {
        "id": "q5xgkRjYQ0Nz"
      },
      "execution_count": null,
      "outputs": []
    },
    {
      "cell_type": "code",
      "source": [
        "from pyspark.mllib.evaluation import BinaryClassificationMetrics\n",
        "\n",
        "# Scala version implements .roc() and .pr()\n",
        "# Python: https://spark.apache.org/docs/latest/api/python/_modules/pyspark/mllib/common.html\n",
        "# Scala: https://spark.apache.org/docs/latest/api/java/org/apache/spark/mllib/evaluation/BinaryClassificationMetrics.html\n",
        "class CurveMetrics(BinaryClassificationMetrics):\n",
        "    def __init__(self, *args):\n",
        "        super(CurveMetrics, self).__init__(*args)\n",
        "\n",
        "    def _to_list(self, rdd):\n",
        "        points = []\n",
        "        # Note this collect could be inefficient for large datasets \n",
        "        # considering there may be one probability per datapoint (at most)\n",
        "        # The Scala version takes a numBins parameter, \n",
        "        # but it doesn't seem possible to pass this from Python to Java\n",
        "        for row in rdd.collect():\n",
        "            # Results are returned as type scala.Tuple2, \n",
        "            # which doesn't appear to have a py4j mapping\n",
        "            points += [(float(row._1()), float(row._2()))]\n",
        "        return points\n",
        "\n",
        "    def get_curve(self, method):\n",
        "        rdd = getattr(self._java_model, method)().toJavaRDD()\n",
        "        return self._to_list(rdd)"
      ],
      "metadata": {
        "id": "dqbTnTjr_00x"
      },
      "execution_count": null,
      "outputs": []
    },
    {
      "cell_type": "code",
      "source": [
        "import matplotlib.pyplot as plt\n",
        "from pyspark.mllib.evaluation import BinaryClassificationMetrics\n",
        "\n",
        "# # Create a Pipeline estimator and fit on train DF, predict on test DF\n",
        "# model = estimator.fit(train)\n",
        "# predictions = model.transform(test)\n",
        "\n",
        "# Returns as a list (false positive rate, true positive rate)\n",
        "preds = rf_predictions.select('label','probability').rdd.map(lambda row: (float(row['probability'][1]), float(row['label'])))\n",
        "points = CurveMetrics(preds).get_curve('roc')"
      ],
      "metadata": {
        "id": "hP785NBt_00x"
      },
      "execution_count": null,
      "outputs": []
    },
    {
      "cell_type": "code",
      "source": [
        "plt.figure()\n",
        "x_val = [x[0] for x in points]\n",
        "y_val = [x[1] for x in points]\n",
        "\n",
        "title = 'ROC Curve'\n",
        "xlabel = 'True Positive Rate'\n",
        "ylabel = 'False Positive Rate'\n",
        "plt.title(title)\n",
        "plt.xlabel(xlabel)\n",
        "plt.ylabel(ylabel)\n",
        "plt.plot(x_val, y_val)"
      ],
      "metadata": {
        "colab": {
          "base_uri": "https://localhost:8080/",
          "height": 333
        },
        "outputId": "7e46d8a2-44aa-415a-dee9-844d5f7437c2",
        "id": "W82yUOJk_00y"
      },
      "execution_count": null,
      "outputs": [
        {
          "output_type": "execute_result",
          "data": {
            "text/plain": [
              "[<matplotlib.lines.Line2D at 0x7f8b73a8a9d0>]"
            ]
          },
          "metadata": {},
          "execution_count": 55
        },
        {
          "output_type": "display_data",
          "data": {
            "text/plain": [
              "<Figure size 432x288 with 1 Axes>"
            ],
            "image/png": "[encoded data removed]"
          },
          "metadata": {}
        }
      ]
    },
    {
      "cell_type": "code",
      "source": [
        "metrics = CurveMetrics(preds)\n",
        "metrics.get_curve('fMeasureByThreshold')\n",
        "metrics.get_curve('precisionByThreshold')\n",
        "metrics.get_curve('recallByThreshold')"
      ],
      "metadata": {
        "colab": {
          "base_uri": "https://localhost:8080/"
        },
        "outputId": "e0500105-3fa0-43f5-f3bb-375246b1d552",
        "id": "4MWiFIic_00y"
      },
      "execution_count": null,
      "outputs": [
        {
          "output_type": "execute_result",
          "data": {
            "text/plain": [
              "[(0.8712914971042103, 0.0006773266920791112),\n",
              " (0.861175759299668, 0.0013043870104581983),\n",
              " (0.8551122380783118, 0.0020197942886736914),\n",
              " (0.8506964500255583, 0.0027753131176195063),\n",
              " (0.8464777378156777, 0.0037202193949502603),\n",
              " (0.8430902700028492, 0.004502902375340028),\n",
              " (0.8403553924220708, 0.00528609309687828),\n",
              " (0.8379196448047604, 0.006001500375093774),\n",
              " (0.8356757983013148, 0.006753465016000193),\n",
              " (0.8336271408828541, 0.007536655737538446),\n",
              " (0.8317224600652906, 0.008408193418913103),\n",
              " (0.8298957640500196, 0.009179452223461957),\n",
              " (0.8282786088154189, 0.010025095106263876),\n",
              " (0.8266925952138457, 0.010731870784955123),\n",
              " (0.825375515570293, 0.01150668377754337),\n",
              " (0.8239514570595077, 0.012172586293781568),\n",
              " (0.82265463647552, 0.01304056978711683),\n",
              " (0.8214102650749273, 0.01402203342713851),\n",
              " (0.820311613993509, 0.014826549276913136),\n",
              " (0.8191814002410736, 0.015577244564948344),\n",
              " (0.8181331266810276, 0.01650158732576545),\n",
              " (0.8171343950110082, 0.017400289158584062),\n",
              " (0.816104645149502, 0.018368043787596645),\n",
              " (0.8151012182287793, 0.019148188062243988),\n",
              " (0.8141569138262864, 0.020196927404439943),\n",
              " (0.8132631107371963, 0.02125683705190257),\n",
              " (0.8123221127987547, 0.022053482913875676),\n",
              " (0.8114224911956477, 0.022946345723486708),\n",
              " (0.810522261560557, 0.02376609380771589),\n",
              " (0.809729034705002, 0.0246528637235451),\n",
              " (0.8089072602399159, 0.025653621527209212),\n",
              " (0.8080528628689816, 0.026601320380856636),\n",
              " (0.8073281449833981, 0.027822437842963278),\n",
              " (0.8065123708732205, 0.02869829132410006),\n",
              " (0.8058200617083479, 0.029696002680873263),\n",
              " (0.8051193763928101, 0.03069498339051768),\n",
              " (0.8043872342671248, 0.03182394583417428),\n",
              " (0.8036682620503923, 0.03275590471221866),\n",
              " (0.8029391416549557, 0.03398362280925561),\n",
              " (0.8022576578259748, 0.03480337089348479),\n",
              " (0.8015938735248801, 0.03560027062603214),\n",
              " (0.8008588342706028, 0.03638396908871888),\n",
              " (0.8001364535108226, 0.03722707326577837),\n",
              " (0.7994825525462962, 0.038348419592207694),\n",
              " (0.798829232199301, 0.039221734367602054),\n",
              " (0.7982266593032111, 0.04024432504065103),\n",
              " (0.7976405137726432, 0.04115572040218177),\n",
              " (0.7969540144553958, 0.04200110941440944),\n",
              " (0.7962955154320055, 0.042866300331428034),\n",
              " (0.795722845544247, 0.0438244078786194),\n",
              " (0.7950527828910695, 0.04472742551120013),\n",
              " (0.7944812365717876, 0.0456753782354218),\n",
              " (0.7939272488284026, 0.04677260685729808),\n",
              " (0.7932947370496406, 0.04760352524679393),\n",
              " (0.7927049265772924, 0.04856366375857924),\n",
              " (0.7921256724732002, 0.049493591672029685),\n",
              " (0.7915758378069595, 0.050519990403692296),\n",
              " (0.791032491957814, 0.051403713872630596),\n",
              " (0.7904785232246587, 0.05234100403273407),\n",
              " (0.7899849501069454, 0.05340878366799822),\n",
              " (0.7894356279939854, 0.05425569590367135),\n",
              " (0.788861473217481, 0.05507696721134599),\n",
              " (0.7885833647975208, 0.05556236774929773),\n",
              " (0.7881029988665554, 0.056765460400633155),\n",
              " (0.7875805943541941, 0.05768751832628208),\n",
              " (0.787002814159662, 0.05853239959736127),\n",
              " (0.786466587997309, 0.059445572052911705),\n",
              " (0.7859871097160684, 0.06028639139480302),\n",
              " (0.7854780307832931, 0.06132599139632624),\n",
              " (0.7849274242014133, 0.06215792526811906),\n",
              " (0.7843899397421789, 0.06303454036097857),\n",
              " (0.7838591739133237, 0.06399442500218963),\n",
              " (0.7833077313319208, 0.06489896585821582),\n",
              " (0.7828249725535527, 0.06580858412572686),\n",
              " (0.7823057562690577, 0.06675526749707732),\n",
              " (0.7817975255046703, 0.06758440879255347),\n",
              " (0.7812445981656375, 0.06848234901364936),\n",
              " (0.7807165124665445, 0.06928635712227549),\n",
              " (0.7801807731707782, 0.07053540034754882),\n",
              " (0.7797004297221706, 0.0715897248423781),\n",
              " (0.7792253809664538, 0.07249223473381036),\n",
              " (0.7787524225689206, 0.07343536391712141),\n",
              " (0.7782814190449661, 0.07444653041432947),\n",
              " (0.7778133349328644, 0.07542621696033146),\n",
              " (0.7773352420866108, 0.0765023743245456),\n",
              " (0.776867434827176, 0.07763235225049918),\n",
              " (0.7763908407379165, 0.07848180319191474),\n",
              " (0.7759375630401779, 0.07950185515922127),\n",
              " (0.7754403874637753, 0.08040436505065353),\n",
              " (0.774965391725932, 0.08124188407507968),\n",
              " (0.7745451527616737, 0.08230940983976959),\n",
              " (0.774073386908617, 0.08330280539678067),\n",
              " (0.77361033827181, 0.08413626249201894),\n",
              " (0.7731637329364789, 0.08517941668158156),\n",
              " (0.7726861996351009, 0.08619185253166084),\n",
              " (0.772235892687977, 0.08710426337548854),\n",
              " (0.7717885180636179, 0.08823373356029363),\n",
              " (0.7713456917265438, 0.08944977361091543),\n",
              " (0.7708827779851956, 0.0902862771530446),\n",
              " (0.7704327164955768, 0.09114232872939047),\n",
              " (0.7699434426998997, 0.09201081996387422),\n",
              " (0.7694693528364916, 0.09299659940365802),\n",
              " (0.7690094459211866, 0.09437537049236928),\n",
              " (0.7685655317926389, 0.0959156032662988),\n",
              " (0.7681246450704453, 0.09696586583194022),\n",
              " (0.7676379660371742, 0.097841719313077),\n",
              " (0.767203100473526, 0.09878561010811078),\n",
              " (0.7667743533276081, 0.09974270217300518),\n",
              " (0.7662987968860253, 0.10070791809627534),\n",
              " (0.7658323707771831, 0.10166881821978337),\n",
              " (0.7653807468996385, 0.10252893172531712),\n",
              " (0.7649460140021356, 0.10360915101871915),\n",
              " (0.7644973278161932, 0.10458655272955295),\n",
              " (0.7640151820224458, 0.10544006560015638),\n",
              " (0.7635285753875548, 0.10637913285427957),\n",
              " (0.7631142731233594, 0.10758908001111953),\n",
              " (0.762654967385018, 0.10852662404179725),\n",
              " (0.762212871585187, 0.10938242174756888),\n",
              " (0.7617625965674106, 0.11042659141942845),\n",
              " (0.7612522925614336, 0.11136972060273952),\n",
              " (0.7607829226167979, 0.1124448624846567),\n",
              " (0.7603229088227781, 0.11349842536776326),\n",
              " (0.7598648797057165, 0.1144760809491713),\n",
              " (0.7594230707062809, 0.1155065416100218),\n",
              " (0.7589569238420365, 0.11654284129407987),\n",
              " (0.7585102524245917, 0.11743595797426513),\n",
              " (0.758060271350076, 0.1185969081102763),\n",
              " (0.7576206572562361, 0.12002569170211334),\n",
              " (0.757188359775341, 0.1213983698970428),\n",
              " (0.7567382644237056, 0.12247503500240542),\n",
              " (0.7562895958512706, 0.12347401571204984),\n",
              " (0.755838201219612, 0.12437195593314572),\n",
              " (0.7553859400676898, 0.1252280075094916),\n",
              " (0.7549096388385301, 0.126286647804083),\n",
              " (0.7544647074424711, 0.12726455725606528),\n",
              " (0.7540253169713217, 0.12851766241052648),\n",
              " (0.7540208842900071, 0.12853873366818863),\n",
              " (0.7535950672176647, 0.1298113868568665),\n",
              " (0.7531378054856055, 0.13084768654092457),\n",
              " (0.7527038637563661, 0.1321612128920555),\n",
              " (0.7522212970922202, 0.13325133313785298),\n",
              " (0.7517761329859854, 0.13434069177192776),\n",
              " (0.751300206188958, 0.13527671257916002),\n",
              " (0.7508283713925727, 0.13620003985768014),\n",
              " (0.7503770471714792, 0.13725487209365794),\n",
              " (0.7499229959130259, 0.13820739448821595),\n",
              " (0.7494981007988271, 0.13939855522256198),\n",
              " (0.749044557607472, 0.14039017368555337),\n",
              " (0.7485775628581384, 0.1412835442363129),\n",
              " (0.7481190960550028, 0.14231679747348006),\n",
              " (0.7476625464600827, 0.14330206917211535),\n",
              " (0.7471854538033402, 0.14422285774489307),\n",
              " (0.7467337257304276, 0.14533379537777846),\n",
              " (0.7462570815868708, 0.14645209525731687),\n",
              " (0.7458112390202845, 0.14760847572299166),\n",
              " (0.7453481657425363, 0.14863487445465426),\n",
              " (0.7448903022558638, 0.14961938454156687),\n",
              " (0.7444151892015564, 0.15068665643568252),\n",
              " (0.7439236092746646, 0.15160287533812386),\n",
              " (0.7434413750287663, 0.15250360813553643),\n",
              " (0.7429497430384303, 0.15335001263006107),\n",
              " (0.7425002435022401, 0.1544302319234631),\n",
              " (0.7420488269695165, 0.15556427177860455),\n",
              " (0.7415981076303743, 0.15648176003391712),\n",
              " (0.7411106888592529, 0.15756121771559642),\n",
              " (0.7406243642852981, 0.1585073933457984),\n",
              " (0.7401323691213738, 0.15958050426312162),\n",
              " (0.7396132173131728, 0.16051906377609632),\n",
              " (0.73911319682837, 0.1615500321780953),\n",
              " (0.7386474484049765, 0.16268457977438522),\n",
              " (0.7381447854550793, 0.16361120737037052),\n",
              " (0.7376556100757559, 0.16467314798242708),\n",
              " (0.7371794704114871, 0.16558479721453206),\n",
              " (0.7366918027683156, 0.16650177772869612),\n",
              " (0.7361593966367053, 0.16745836205244205),\n",
              " (0.7356802699432375, 0.1685637145326941),\n",
              " (0.7351830201386178, 0.1695984909933067),\n",
              " (0.7346585296674312, 0.1706505306529678),\n",
              " (0.7341737427716504, 0.17173328865211226),\n",
              " (0.7336811074753754, 0.17274775546678547),\n",
              " (0.7331870825404287, 0.1738858572511148),\n",
              " (0.7326821118289364, 0.17489143859568954),\n",
              " (0.7321772276351239, 0.17590514379864003),\n",
              " (0.7316788177746303, 0.17687975293315714),\n",
              " (0.7312032893017801, 0.1779112290763046),\n",
              " (0.7307234206855168, 0.17897291581778693),\n",
              " (0.7302015900322187, 0.1800480576997041),\n",
              " (0.7297075129319923, 0.18102571328111217),\n",
              " (0.7292210594138787, 0.18197696632279897),\n",
              " (0.7287108198495276, 0.18323844920621019),\n",
              " (0.7281944389675005, 0.1842051883529258),\n",
              " (0.7276512806653272, 0.1852178780735793),\n",
              " (0.7271469681567134, 0.18627397966242829),\n",
              " (0.7266096732436431, 0.1874758029608925),\n",
              " (0.7260821395757859, 0.1886370069674779),\n",
              " (0.7255522729364208, 0.18977917068099512),\n",
              " (0.7250290111189689, 0.19081445488275622),\n",
              " (0.7244971881336706, 0.19181064301608397),\n",
              " (0.7239473453167231, 0.19287486846330873),\n",
              " (0.7233954176404352, 0.1938616633853895),\n",
              " (0.7228441386057666, 0.19489923242231877),\n",
              " (0.7223153366523815, 0.19613228180141482),\n",
              " (0.7217846780202303, 0.19712136155866378),\n",
              " (0.7212575193668334, 0.19824296175566733),\n",
              " (0.7207036846437437, 0.19919040673874053),\n",
              " (0.720153780630084, 0.20023000674026376),\n",
              " (0.7195921572045847, 0.20121350134487936),\n",
              " (0.7192753412989885, 0.20176998564361903),\n",
              " (0.7187145324615295, 0.20298856439998325),\n",
              " (0.7181642824349268, 0.20412818940775804),\n",
              " (0.7175844433913751, 0.2052378576877722),\n",
              " (0.7170224967296417, 0.2062637486782863),\n",
              " (0.7164599867192534, 0.20718936079197464),\n",
              " (0.7158928195058036, 0.20840286213685402),\n",
              " (0.7152826305955227, 0.20941402863406208),\n",
              " (0.7147003359543291, 0.2105432449482929),\n",
              " (0.7140900044279531, 0.2116823622149192),\n",
              " (0.7134514462406615, 0.2127564886145394),\n",
              " (0.7128508242205294, 0.2138011660275475),\n",
              " (0.7122618182200192, 0.21485599826352528),\n",
              " (0.7117022039058144, 0.21585954864350607),\n",
              " (0.7111250515513243, 0.21702862263789297),\n",
              " (0.710520724960884, 0.2180461358994571),\n",
              " (0.709918154280127, 0.21909716007682123),\n",
              " (0.7092927295596445, 0.22011061140919747),\n",
              " (0.7086080777120646, 0.22111543114204948),\n",
              " (0.7079816432999066, 0.22227942772495154),\n",
              " (0.7073742714723127, 0.2242096057009176),\n",
              " (0.7067276662037966, 0.2253378065328515),\n",
              " (0.7060897533102447, 0.22641574099108533),\n",
              " (0.7054621524085174, 0.227508146072051),\n",
              " (0.7048438051426301, 0.22854114543864393),\n",
              " (0.7042060720296001, 0.22972875198495055),\n",
              " (0.7035818399189957, 0.23077012908049346),\n",
              " (0.7028933022038328, 0.23176987140186062),\n",
              " (0.7022380250522076, 0.2330239920386188),\n",
              " (0.7015792812093485, 0.23401967243079805),\n",
              " (0.7009217584770773, 0.23513644908689102),\n",
              " (0.7002465609119901, 0.23622199966235213),\n",
              " (0.6995241226700124, 0.23749617607447548),\n",
              " (0.6988576056272668, 0.23900137470915953),\n",
              " (0.6981782996437947, 0.24017628772675403),\n",
              " (0.6974254619998886, 0.2413367301216167),\n",
              " (0.6966777819619161, 0.2422580264355429),\n",
              " (0.6959844594213584, 0.24336236343349796),\n",
              " (0.6952735751822042, 0.24443039693933635),\n",
              " (0.694561494935768, 0.2454235386257732),\n",
              " (0.6938445263469513, 0.24649614180194795),\n",
              " (0.6931276335738877, 0.24746846610129689),\n",
              " (0.6923733419101943, 0.24849562644468223),\n",
              " (0.6916341166681518, 0.24947252041436754),\n",
              " (0.6908706984128361, 0.2505265910386226),\n",
              " (0.6901183436532137, 0.2516921108449701),\n",
              " (0.6893804851964498, 0.25280330234842974),\n",
              " (0.6886155488525814, 0.25397364569568787),\n",
              " (0.6877919412638536, 0.2554732591777386),\n",
              " (0.6870188991733523, 0.2564415215478997),\n",
              " (0.686222399019379, 0.25752554889991536),\n",
              " (0.6854086890543061, 0.25859053595886283),\n",
              " (0.6846061449055375, 0.2596776097577694),\n",
              " (0.6838254059691602, 0.2609545787462094),\n",
              " (0.6830163648999095, 0.26223484805211456),\n",
              " (0.6821690385778544, 0.2634498726204394),\n",
              " (0.6813286298962513, 0.26452374514948535),\n",
              " (0.6805228956269249, 0.2654782985086373),\n",
              " (0.6796701383448465, 0.2664889572646969),\n",
              " (0.6788078539913394, 0.2676199506729474),\n",
              " (0.6779722638004231, 0.26866716679169794),\n",
              " (0.6771238257570851, 0.26964279140851205),\n",
              " (0.6762310622252234, 0.27059785250881246),\n",
              " (0.6753656453410849, 0.2715574832794493),\n",
              " (0.6745124801454236, 0.27245516962997096),\n",
              " (0.6736097216852538, 0.27349756220781085),\n",
              " (0.6726403617879544, 0.2746130695110326),\n",
              " (0.6719106756531916, 0.27529547361459655),\n",
              " (0.6709422104780383, 0.2762563737381046),\n",
              " (0.6700009252450954, 0.2772358064135323),\n",
              " (0.6690643611561353, 0.2783244034358843),\n",
              " (0.668132351164898, 0.2792215820452575),\n",
              " (0.6672348035125998, 0.2803637457587747),\n",
              " (0.6663547039603281, 0.28138811352584336),\n",
              " (0.6654390427022905, 0.2822728524770787),\n",
              " (0.6644260886481973, 0.28316495367496697),\n",
              " (0.6634400280845459, 0.284049438755628),\n",
              " (0.6624311284180864, 0.28492097643700265),\n",
              " (0.6614603599158138, 0.2858950778303713),\n",
              " (0.6604748752673314, 0.28667725306961256),\n",
              " (0.6594443583937835, 0.28755589912706603),\n",
              " (0.6584002136067836, 0.28843784550198465),\n",
              " (0.6573213339828874, 0.2893065906070426),\n",
              " (0.6563171239138679, 0.29021671661570214),\n",
              " (0.6552821035656441, 0.29118700995045715),\n",
              " (0.6542764619444223, 0.2919689313191242),\n",
              " (0.6532353402383457, 0.29275034494664276),\n",
              " (0.6522014231325287, 0.2935315047035871),\n",
              " (0.651174426591414, 0.2942733145215238),\n",
              " (0.6501596507919093, 0.29516693894285756),\n",
              " (0.6491146584658776, 0.2961476409711565),\n",
              " (0.6480680861413419, 0.29701562446449176),\n",
              " (0.6469973253496204, 0.29782724869034516),\n",
              " (0.6459088990655849, 0.29866425997362284),\n",
              " (0.64483343901219, 0.29960358109832025),\n",
              " (0.6437463084220525, 0.3004619175098343),\n",
              " (0.6426859463598507, 0.3013646812718408),\n",
              " (0.6416112332070415, 0.30219433030846543),\n",
              " (0.640480767752925, 0.3030541899434249),\n",
              " (0.6394245752950962, 0.30378229075035257),\n",
              " (0.6383238068935367, 0.3046657603487166),\n",
              " (0.637166599235295, 0.30547509973940185),\n",
              " (0.6361016934638474, 0.30629662491765075),\n",
              " (0.6350128669910283, 0.30711535751958297),\n",
              " (0.6339366512582455, 0.30793053593347575),\n",
              " (0.6328096674756097, 0.30895693466513835),\n",
              " (0.6316969883081158, 0.3097578963268736),\n",
              " (0.6305703195664104, 0.3106010005039331),\n",
              " (0.6294327783758544, 0.31179647703804125),\n",
              " (0.6283622903892125, 0.3126520208732386),\n",
              " (0.6271905680186547, 0.3134458741588951),\n",
              " (0.6260288072971985, 0.3145596043680971),\n",
              " (0.6248948536736638, 0.3155139038566748),\n",
              " (0.6238042705101084, 0.31638366444402977),\n",
              " (0.622634238148823, 0.31714578390790593),\n",
              " (0.6214903462959966, 0.3179596929689275),\n",
              " (0.6203803606547184, 0.3188853050826158),\n",
              " (0.619214649231921, 0.3197687746809799),\n",
              " (0.6181166239578104, 0.3206309191511076),\n",
              " (0.6170527427203731, 0.32160857473251564),\n",
              " (0.615929750175169, 0.32238008740763874),\n",
              " (0.6148375293073719, 0.32323080770192547),\n",
              " (0.6137619817489441, 0.32405182513902586),\n",
              " (0.6126401573722656, 0.3250175488034445),\n",
              " (0.6115677109831814, 0.32588299359103734),\n",
              " (0.6104575108494907, 0.32666034528936805),\n",
              " (0.6099506268423446, 0.32706526885528486),\n",
              " (0.6088952161007773, 0.32800890577974445),\n",
              " (0.6078212193265238, 0.32881215227664784),\n",
              " (0.6067703683809821, 0.3297075537920013),\n",
              " (0.6057243444250539, 0.3305143544769441),\n",
              " (0.6047089457923432, 0.331581880241634),\n",
              " (0.6037068407036562, 0.3324491021232465),\n",
              " (0.6027086333757685, 0.33321959931607265),\n",
              " (0.6017066518667289, 0.3341937007094413),\n",
              " (0.60076084413131, 0.33503832810994627),\n",
              " (0.5997516582869036, 0.3358829555104512),\n",
              " (0.5988193971308886, 0.3367775954140819),\n",
              " (0.5978905693895238, 0.33774027263160966),\n",
              " (0.5969341973595368, 0.3386831479443465),\n",
              " (0.596044549508433, 0.33977961495450004),\n",
              " (0.5951892803941933, 0.3409263483383536),\n",
              " (0.5943258436296535, 0.3421591438468754),\n",
              " (0.5934683472540513, 0.34350973530184575),\n",
              " (0.5926295251737522, 0.34443560128610834),\n",
              " (0.5918391235059446, 0.3454990651216103),\n",
              " (0.5910419981517147, 0.34655338961643967),\n",
              " (0.5902636766231864, 0.3479930896429691),\n",
              " (0.5894712746267724, 0.3491349994859121),\n",
              " (0.5887186475139947, 0.3502657390235884),\n",
              " (0.5879510064300668, 0.3515599712110769),\n",
              " (0.5871993826596406, 0.35263105116380616),\n",
              " (0.5864996322416569, 0.35409080696570083),\n",
              " (0.585768398086639, 0.35525988096008776),\n",
              " (0.5850822787088714, 0.35648861453942166),\n",
              " (0.5843937136443184, 0.3582156960559937),\n",
              " (0.5837352394473475, 0.35960386035595193),\n",
              " (0.5830897153864553, 0.36130403159165425),\n",
              " (0.5824550857125812, 0.3626528459526049),\n",
              " (0.5818652467859057, 0.36401308448939645),\n",
              " (0.5812527279386192, 0.36521287682326675),\n",
              " (0.5806301239156899, 0.3667815431015114),\n",
              " (0.5800200910913793, 0.36810674749905753),\n",
              " (0.579434356619843, 0.36954797074903245),\n",
              " (0.5788415802079648, 0.37100772655092706),\n",
              " (0.5782603561333467, 0.3722268130484398),\n",
              " (0.5776762003772071, 0.37335983742128426),\n",
              " (0.5771352878122624, 0.374926472734935),\n",
              " (0.576582092613233, 0.3763829282193645),\n",
              " (0.5760523151510399, 0.3775938908585014),\n",
              " (0.5755173891984927, 0.3787459555244141),\n",
              " (0.5749983330111742, 0.3800328254652496),\n",
              " (0.574473609181376, 0.38128263030224563),\n",
              " (0.5739560319690146, 0.38275990317376296),\n",
              " (0.5734492288527645, 0.3841066865701197),\n",
              " (0.5729431863379886, 0.3855166837394628),\n",
              " (0.5724574296584084, 0.38731434127567427),\n",
              " (0.5719755020896102, 0.3886918430115143),\n",
              " (0.5714894500389114, 0.3902891966646484),\n",
              " (0.5710081680942004, 0.39225974006191905),\n",
              " (0.5705356090077275, 0.393766969661197),\n",
              " (0.5700822997940258, 0.39514447139703707),\n",
              " (0.5696291778980398, 0.39671821508676663),\n",
              " (0.5691883103479517, 0.39821325889848097),\n",
              " (0.568763862870602, 0.39969586305205745),\n",
              " (0.5683310086573317, 0.401482096412428),\n",
              " (0.5678886264957195, 0.4032980326299849),\n",
              " (0.5674644082295853, 0.40494412943337355),\n",
              " (0.5670362914820345, 0.40619469588209234),\n",
              " (0.5666286483130565, 0.4078664336134795),\n",
              " (0.5662069627916919, 0.40914238711962253),\n",
              " (0.5658146937688118, 0.4105993503452005),\n",
              " (0.5653882317020723, 0.41210556446218155),\n",
              " (0.5650067903787177, 0.413894844269443),\n",
              " (0.5645942731510182, 0.4150687418047405),\n",
              " (0.5642002873707613, 0.4166693957753398),\n",
              " (0.5638097004158764, 0.41790016031926763),\n",
              " (0.5634216972261223, 0.41929949492449253),\n",
              " (0.5630304023336052, 0.4209641242798009),\n",
              " (0.5629751723152107, 0.42111543114204947),\n",
              " (0.562581685813982, 0.4230786122926671),\n",
              " (0.5621984672900481, 0.4243713212567101),\n",
              " (0.5618229333724714, 0.42612582079530037),\n",
              " (0.5614469237780444, 0.4275881153029374),\n",
              " (0.5610732708967991, 0.42877343701407583),\n",
              " (0.560702525763641, 0.43020196673533867),\n",
              " (0.5603343112033085, 0.43150990793383626),\n",
              " (0.5599579712164151, 0.43290619609217024),\n",
              " (0.5595994174685379, 0.4342194685727269),\n",
              " (0.5592364842702134, 0.43561829543680336),\n",
              " (0.5588850080074552, 0.43712654051837835),\n",
              " (0.558532410389652, 0.43874014188826393),\n",
              " (0.5581871995259007, 0.4402829133679359),\n",
              " (0.5578421706097293, 0.44183761676459726),\n",
              " (0.5574992386575615, 0.44315215859802515),\n",
              " (0.5571568086760665, 0.44509909203189124),\n",
              " (0.5568118249873568, 0.4465636713746965),\n",
              " (0.556468710203925, 0.4484864871040095),\n",
              " (0.5561272756007257, 0.4498632272281268),\n",
              " (0.5558013157687212, 0.45154207333559276),\n",
              " (0.5554652633705169, 0.45310820090809506),\n",
              " (0.555144813696983, 0.45471647099592155),\n",
              " (0.5547969690667092, 0.4561343381530662),\n",
              " (0.5544694381095379, 0.45808660286899133),\n",
              " (0.5541305788916067, 0.45951564033140263),\n",
              " (0.5537991300278228, 0.4613630565001656),\n",
              " (0.5534805766860588, 0.4626324093713784),\n",
              " (0.5531400430213437, 0.4644183888611747),\n",
              " (0.5528064366963612, 0.46616831872942854),\n",
              " (0.5524828926811847, 0.4675486130415853),\n",
              " (0.5521550239295627, 0.4688098420544222),\n",
              " (0.5518438265818089, 0.4702076534362017),\n",
              " (0.5515194525406654, 0.4715909941952493),\n",
              " (0.5512072289957353, 0.47305861998494547),\n",
              " (0.5508875973497747, 0.474563310878481),\n",
              " (0.5505612309680851, 0.47622641701034396),\n",
              " (0.5502524582132196, 0.4775549217253552),\n",
              " (0.5499368231860866, 0.47921548915147566),\n",
              " (0.5496252436160486, 0.48094942517355227),\n",
              " (0.5493228739735232, 0.48229849340507713),\n",
              " (0.5490119130672303, 0.4837361624670127),\n",
              " (0.5487033640396775, 0.4850595897705391),\n",
              " (0.5483918368886643, 0.48649598947960343),\n",
              " (0.5480814969435234, 0.4881446249887345),\n",
              " (0.5477804619875886, 0.48990420193880957),\n",
              " (0.547466823717064, 0.49153303554314975),\n",
              " (0.5471595309215052, 0.492945317547661),\n",
              " (0.5468634730555496, 0.4944936741799663),\n",
              " (0.5465419029283659, 0.49594733708807914),\n",
              " (0.5462277230619546, 0.4971979035367979),\n",
              " (0.5459372619582247, 0.4986891392898986),\n",
              " (0.5456280208177342, 0.5000112972405538),\n",
              " (0.545326296762521, 0.501194334116524),\n",
              " (0.545027826979448, 0.5023778787336428),\n",
              " (0.5447317868482993, 0.5038409348530026),\n",
              " (0.5444451484227063, 0.5051366902639366),\n",
              " (0.544134803671607, 0.5066474740512539),\n",
              " (0.5438382164839788, 0.508178821355085),\n",
              " (0.5435278851961625, 0.5102976251677133),\n",
              " (0.5432280285698514, 0.5118594369404534),\n",
              " (0.5429275442187121, 0.5133326478827829),\n",
              " (0.5426261876990031, 0.514554273086038),\n",
              " (0.5423429411036198, 0.5161483264217069),\n",
              " (0.5420538648720066, 0.5177192775351198),\n",
              " (0.5417732299382626, 0.5193646127267858),\n",
              " (0.5414893640592993, 0.52071723514635),\n",
              " (0.541201093431085, 0.5223732329021341),\n",
              " (0.5409118404428073, 0.5243531695106518),\n",
              " (0.540605726931396, 0.5256110982060236),\n",
              " (0.5403159190427138, 0.5271310213340137),\n",
              " (0.5400172050419186, 0.5287293904694448),\n",
              " (0.5397255120867135, 0.5301569047084106),\n",
              " (0.5394366486317531, 0.531372437017884),\n",
              " (0.5391422137434185, 0.5328799204877361),\n",
              " (0.5388595645671528, 0.5345719678650627),\n",
              " (0.538724073243861, 0.535140637951366),\n",
              " (0.5384342411215373, 0.5363439844732757),\n",
              " (0.53815313727685, 0.53758769641649),\n",
              " (0.5378713873175249, 0.5387608323400647),\n",
              " (0.5376001348866414, 0.5400068291184471),\n",
              " (0.537311599284737, 0.5414904487543205),\n",
              " (0.5370180785074254, 0.5427493929319893),\n",
              " (0.5367225115122525, 0.5447481159630009),\n",
              " (0.5364495354637088, 0.5460393017035985),\n",
              " (0.53616595479638, 0.5473320106676415),\n",
              " (0.5358658419688991, 0.5489826771413666),\n",
              " (0.5355828238838898, 0.5502906183398641),\n",
              " (0.5352937144864442, 0.5516188691843011),\n",
              " (0.5350122788485627, 0.5530204886246942),\n",
              " (0.5347299692204956, 0.554300250189451),\n",
              " (0.5344510707789604, 0.5555358382742894),\n",
              " (0.5341807872190302, 0.5567112590330324),\n",
              " (0.5339009701754006, 0.5580989155918421),\n",
              " (0.5336263665992368, 0.5597031237504808),\n",
              " (0.5333431391082889, 0.5610796100040238),\n",
              " (0.5330674465462584, 0.5624401024113896),\n",
              " (0.5327864136897141, 0.5637140249529388),\n",
              " (0.5325146192702366, 0.5649356501561938),\n",
              " (0.5322415945696722, 0.5665195486688931),\n",
              " (0.5319602999674181, 0.567946047425562),\n",
              " (0.5316892107772173, 0.5692636357058808),\n",
              " (0.5314134542588156, 0.570626666818989),\n",
              " (0.5311359281457525, 0.5719404470406941),\n",
              " (0.5308621636645903, 0.573289515272219),\n",
              " (0.5305846012991089, 0.5744948927587227),\n",
              " (0.53030871946332, 0.5757708462648657),\n",
              " (0.5300315199467057, 0.5769640379638057),\n",
              " (0.5297682599344148, 0.5782019108838123),\n",
              " (0.5295007730444014, 0.5795431091275357),\n",
              " (0.5292267364220292, 0.5809429514739091),\n",
              " (0.5289478857239429, 0.5821429976783536),\n",
              " (0.528688794331251, 0.5834331679366542),\n",
              " (0.5284232156765982, 0.5848165086957019),\n",
              " (0.5281398055146084, 0.5859685733616146),\n",
              " (0.527872329762905, 0.5872760068189636),\n",
              " (0.5276012565221263, 0.5887004746110386),\n",
              " (0.5273331122821737, 0.5897773935869755),\n",
              " (0.5270692775389372, 0.5909401208170063),\n",
              " (0.5268062425168956, 0.5921663156905977),\n",
              " (0.5265403218253901, 0.5933841328352393),\n",
              " (0.5262823860580396, 0.5945892564511687),\n",
              " (0.5260183694463192, 0.5956847079790252),\n",
              " (0.5257538101646055, 0.5970571323033804),\n",
              " (0.5254823886568949, 0.5981604538190385),\n",
              " (0.5252110917210141, 0.5993683700112845),\n",
              " (0.524942059910061, 0.6005887258616684),\n",
              " (0.5246767809885664, 0.6019063141419873),\n",
              " (0.5244165649109237, 0.6032470046445622),\n",
              " (0.5241488770980499, 0.604334332314043),\n",
              " (0.523890401799716, 0.6054282606184541),\n",
              " (0.523628403906581, 0.6066806041611926),\n",
              " (0.5233650448566479, 0.6078204830395416),\n",
              " (0.523097224787007, 0.6089651854588013),\n",
              " (0.5228324437741518, 0.6102099128843125),\n",
              " (0.5225775213184705, 0.6116739844859692),\n",
              " (0.5223256622914457, 0.6128082782116849),\n",
              " (0.5220460702261593, 0.6139334325967278),\n",
              " (0.521779191657657, 0.6152233489844542),\n",
              " (0.521517632819089, 0.6165305285712291),\n",
              " (0.5212538863255599, 0.6177480918452963),\n",
              " (0.521221647210051, 0.6178709652032297),\n",
              " (0.5209612899782934, 0.6191880457424),\n",
              " (0.520703815226368, 0.6204018009578537),\n",
              " (0.5204472929237517, 0.6216021010328724),\n",
              " (0.5201836538834597, 0.6229570082876049),\n",
              " (0.5199220840167844, 0.6239575122206947),\n",
              " (0.5196682349550847, 0.6251202394507256),\n",
              " (0.5194202957861329, 0.6263710597700186),\n",
              " (0.5191750473485021, 0.6277201280015435),\n",
              " (0.5189144324141679, 0.6288889481253562),\n",
              " (0.5186624363232436, 0.6300397434383976),\n",
              " (0.5184207218782044, 0.6314243535503166),\n",
              " (0.5181809107186138, 0.6325312292540141),\n",
              " (0.517935932303627, 0.6337378760933888),\n",
              " (0.5176922202298546, 0.6348114947518606),\n",
              " (0.5174486557044564, 0.6358279925311277),\n",
              " (0.5171960088113766, 0.6371118160250723),\n",
              " (0.5169537813707956, 0.6383829459903047),\n",
              " (0.5167110889512461, 0.6393689793006627),\n",
              " (0.5164704102707516, 0.6406997688508421),\n",
              " (0.516239804696294, 0.6417845578145805),\n",
              " (0.5159919580899166, 0.6431239789642842),\n",
              " (0.515755803450664, 0.6444847252422242),\n",
              " (0.5155165823663423, 0.6457396074907051),\n",
              " (0.5152735414385241, 0.6469614865645346),\n",
              " (0.5150375610078941, 0.648309031572614),\n",
              " (0.5148012501148166, 0.6496588614158616),\n",
              " (0.5145549558814843, 0.6507738609779349),\n",
              " (0.5143059145549708, 0.6519454736780642),\n",
              " (0.5140692458071111, 0.6531016002731648),\n",
              " (0.513830313047049, 0.6543049467950744),\n",
              " (0.513586014073818, 0.6553242371506582),\n",
              " (0.5133487376158152, 0.6565984135627816),\n",
              " (0.5131098266767111, 0.6576941189612124),\n",
              " (0.5128790412723919, 0.6590553729803009),\n",
              " (0.5126446336729857, 0.6601536170844742),\n",
              " (0.5123938505765031, 0.661435663484399),\n",
              " (0.5121659616583564, 0.6626212390661117),\n",
              " (0.5119303140746843, 0.6637816814609744),\n",
              " (0.5116981416901303, 0.665208941829366),\n",
              " (0.5114661931441734, 0.6663663377773378),\n",
              " (0.5112355577457334, 0.6674003526262277),\n",
              " (0.511008746396328, 0.6684925038366191),\n",
              " (0.5107784861630587, 0.6696399988321954),\n",
              " (0.5105398204036086, 0.670689499786114),\n",
              " (0.5103098944330454, 0.672062685722192),\n",
              " (0.5100879834681095, 0.673133511804347),\n",
              " (0.5098451610527384, 0.6742533349073309),\n",
              " (0.5096308593629657, 0.6753904212093632),\n",
              " (0.5094054175999152, 0.6765389316872366),\n",
              " (0.5091813918638189, 0.6775041476105067),\n",
              " (0.5089566298425849, 0.6791642072954787),\n",
              " (0.5087346809290206, 0.6802728600931959),\n",
              " (0.5085093861956741, 0.6813820206320615),\n",
              " (0.5082966214029593, 0.6825343391685484),\n",
              " (0.5080769690408422, 0.6837323544083991),\n",
              " (0.5078474423019201, 0.6847706850570511),\n",
              " (0.507622658923155, 0.6860466385631941),\n",
              " (0.5073915118754295, 0.6870666905305006),\n",
              " (0.5073201869847458, 0.6873939297006992),\n",
              " (0.5070978701573555, 0.6885198456974649),\n",
              " (0.5068809889638146, 0.68968282679807),\n",
              " (0.5066456425145869, 0.690759745774007),\n",
              " (0.5064200707603772, 0.6917841135410756),\n",
              " (0.5061969674489861, 0.6930732683170793),\n",
              " (0.5059696652478785, 0.6941352089291358),\n",
              " (0.5057489685295578, 0.6953492180151637),\n",
              " (0.5055269456066489, 0.6964571092011581),\n",
              " (0.505299390521335, 0.6975693161869148),\n",
              " (0.5050785340600432, 0.6987972881545259),\n",
              " (0.5048608625515378, 0.6999292970450735),\n",
              " (0.504648005734468, 0.7010036773152679),\n",
              " (0.5044275522902819, 0.7021301010531821),\n",
              " (0.5042137924475308, 0.703301206012163),\n",
              " (0.5040028364192908, 0.7042943476985998),\n",
              " (0.5037815149644774, 0.7054552978346109),\n",
              " (0.5035681690654884, 0.706449708873919),\n",
              " (0.5033448311999165, 0.7075098723919558),\n",
              " (0.5031243389384553, 0.7086269029186231),\n",
              " (0.5029091866124074, 0.7097015370593918),\n",
              " (0.5026924929481573, 0.7107215890266984),\n",
              " (0.5024814911992348, 0.7120188676610777),\n",
              " (0.5022660662260631, 0.7132031738899192),\n",
              " (0.5020511120027804, 0.7143057337938545),\n",
              " (0.5018444609150136, 0.71543342688464),\n",
              " (0.5016256287513845, 0.716469726568698),\n",
              " (0.5014049731998089, 0.7175857416130682),\n",
              " (0.501188940646529, 0.7187436453021885),\n",
              " (0.5009682436917184, 0.7197106383194783),\n",
              " (0.5007506760610008, 0.7206484362207303),\n",
              " (0.5005338907911308, 0.7216446243540581),\n",
              " (0.5003242969013898, 0.7226047628658434),\n",
              " (0.5001070885792454, 0.7236232916097045),\n",
              " (0.49988876240028085, 0.7248439013306626),\n",
              " (0.49967348248574545, 0.7259015261429571),\n",
              " (0.49946203173327747, 0.7268984758880075),\n",
              " (0.499253343827238, 0.7279786951814096),\n",
              " (0.49904108992403745, 0.7290248958178631),\n",
              " (0.4988355447864506, 0.729981480141609),\n",
              " (0.49862030784230515, 0.7310347891541413),\n",
              " (0.49841163187314413, 0.7320325005109145),\n",
              " (0.4981993716354302, 0.7332028438581727),\n",
              " (0.49798627300953074, 0.7341518120646913),\n",
              " (0.49777751162959155, 0.7352122294533024),\n",
              " (0.49756982309028386, 0.7361771915059984),\n",
              " (0.49736540137704094, 0.7370578685280457),\n",
              " (0.49715693798987487, 0.7381982551475432),\n",
              " (0.496954421837749, 0.7392850750758756),\n",
              " (0.49674787466838766, 0.7402238884594246),\n",
              " (0.4965440877692158, 0.7413107083877568),\n",
              " (0.49633742724525165, 0.7423965128337922),\n",
              " (0.49612171615357, 0.7433741684152002),\n",
              " (0.49591141715533305, 0.7443888891004476),\n",
              " (0.4957046486539312, 0.7454462600421679),\n",
              " (0.49550133719057976, 0.7466734703980563),\n",
              " (0.4952975097202999, 0.7478212192642069),\n",
              " (0.4950901878108767, 0.7488148686917923),\n",
              " (0.49488087234974076, 0.7497605365808457),\n",
              " (0.4946733743544723, 0.7509044773883826),\n",
              " (0.4944640513360022, 0.7519257987085604),\n",
              " (0.49426306643519774, 0.7529963709201412),\n",
              " (0.49405559170891583, 0.7539750419838462),\n",
              " (0.49384595847180135, 0.7549064931207421),\n",
              " (0.4936300659463778, 0.7558529226215184),\n",
              " (0.49342654016380016, 0.7568445410845097),\n",
              " (0.49321535985155174, 0.7578359056769268),\n",
              " (0.49300876360529305, 0.758834632515997),\n",
              " (0.4928069735010253, 0.759888703140252),\n",
              " (0.4926069598896823, 0.7608592503455813),\n",
              " (0.49241288573083625, 0.7618737171602545),\n",
              " (0.49220292190805043, 0.7629232181141732),\n",
              " (0.49199273188935894, 0.7639945519374768),\n",
              " (0.4917927748786144, 0.7651283379220439),\n",
              " (0.49158387841076456, 0.7660341481309414),\n",
              " (0.49136795556363566, 0.7670795871556721),\n",
              " (0.49133706156984813, 0.767211345983704),\n",
              " (0.49114122104434854, 0.7681014162169985),\n",
              " (0.4909347345296383, 0.7691242607606217),\n",
              " (0.4907288593226169, 0.7702405296755661),\n",
              " (0.4905273964653543, 0.7713598450374015),\n",
              " (0.49032075263423114, 0.7723583180058974),\n",
              " (0.4901114254672475, 0.7732740291671902),\n",
              " (0.4899158260983135, 0.7742669169830528),\n",
              " (0.4897175897607558, 0.775235179353214),\n",
              " (0.48952028719071433, 0.7761973488295932),\n",
              " (0.48931931241776316, 0.7770980816270058),\n",
              " (0.4891184927008395, 0.7780909694428684),\n",
              " (0.4889051840550424, 0.7790879191879188),\n",
              " (0.48869834509085874, 0.7800066767961026),\n",
              " (0.4885042481814672, 0.7810226668342213),\n",
              " (0.48830467722556703, 0.7820102233680247),\n",
              " (0.4881039293670639, 0.7829957489372343),\n",
              " (0.48790969503716114, 0.7839241536272393),\n",
              " (0.48770102750893063, 0.7848319948007306),\n",
              " (0.48749877109675366, 0.7857784243015068),\n",
              " (0.48729263504412507, 0.7867730892113891),\n",
              " (0.4870898800403592, 0.7878119276011897),\n",
              " (0.4868880429141179, 0.7888091312168144),\n",
              " (0.48668967423619147, 0.7897784090692724),\n",
              " (0.48648963803381157, 0.7908098852124199),\n",
              " (0.4862793443298309, 0.7917288966911779),\n",
              " (0.48607921783082986, 0.7927794131273935),\n",
              " (0.48586220497541843, 0.7938606479030925),\n",
              " (0.485657517525215, 0.7947674735942869),\n",
              " (0.4854572591737688, 0.7957258350120525),\n",
              " (0.48524685128192546, 0.7968141781638303),\n",
              " (0.4850463349827544, 0.7977786324753777),\n",
              " (0.48484629168790194, 0.7987034829773433),\n",
              " (0.48464459962353706, 0.7997611077896377),\n",
              " (0.48443601000635217, 0.8007613578521534),\n",
              " (0.4842369746417095, 0.8016364497215674),\n",
              " (0.4840353013018842, 0.8025948111393331),\n",
              " (0.48383013615968207, 0.8035498722396335),\n",
              " (0.4836326442080126, 0.8044450198844127),\n",
              " (0.4834328727595765, 0.8056331341718679),\n",
              " (0.4832268846449187, 0.8065615388618729),\n",
              " (0.48302194175403124, 0.8074536400597612),\n",
              " (0.4828167209279285, 0.8085303051651238),\n",
              " (0.4826093708147418, 0.8095082146171061),\n",
              " (0.48240696349745893, 0.8105770097346672),\n",
              " (0.48221150466126944, 0.8114698725442782),\n",
              " (0.48200554468155676, 0.8124264568680241),\n",
              " (0.4818076319256144, 0.8133099264663882),\n",
              " (0.48160121363563785, 0.8142205602161962),\n",
              " (0.481401455340145, 0.8150976830502041),\n",
              " (0.4811954173239104, 0.8160159329172395),\n",
              " (0.4809929156893105, 0.816916665714652),\n",
              " (0.4807943515952814, 0.8177567234448206),\n",
              " (0.48059206780848485, 0.818688682322865),\n",
              " (0.48052603343483236, 0.8190055127995197),\n",
              " (0.480327369113345, 0.8199113230084171),\n",
              " (0.4801266972561445, 0.8208404893101447),\n",
              " (0.4799213532338585, 0.8217348753432013),\n",
              " (0.4797273518511248, 0.8227825992031003),\n",
              " (0.479531816856943, 0.8237975737589219),\n",
              " (0.47932229964819123, 0.8246538792058421),\n",
              " (0.47912227269094537, 0.8255038378884061),\n",
              " (0.47891607224943655, 0.8264109174501747),\n",
              " (0.47870378742710057, 0.8273146966944782),\n",
              " (0.47850361558520965, 0.8282537639486014),\n",
              " (0.47830693674827474, 0.8293063113494109),\n",
              " (0.4780998500143955, 0.8302537563324841),\n",
              " (0.4778898077182139, 0.8311737832935391),\n",
              " (0.4776881862030705, 0.8320275500347168),\n",
              " (0.47748020780175837, 0.8328442516720551),\n",
              " (0.4772654140209009, 0.8337858576319207),\n",
              " (0.4770608161060775, 0.8346028131398332),\n",
              " (0.4768508017351478, 0.8355246171949079),\n",
              " (0.47663334273340385, 0.8364809476480796),\n",
              " (0.47643344351212463, 0.8373212592488224),\n",
              " (0.47623004939124075, 0.8381717256725348),\n",
              " (0.4760193870933046, 0.8391864463577824),\n",
              " (0.47580954069260306, 0.8400242192527827),\n",
              " (0.4756017710241432, 0.8409841038939938),\n",
              " (0.47538995470590495, 0.8417518085105032),\n",
              " (0.4751767874436575, 0.8427482505144053),\n",
              " (0.4749683199933359, 0.8436106488551072),\n",
              " (0.4747613212863289, 0.8445664715671304),\n",
              " (0.47454438326325665, 0.8455149320325005),\n",
              " (0.47432918463262075, 0.8463638752327676),\n",
              " (0.47411174436508075, 0.8471803229995316),\n",
              " (0.4738966749002479, 0.8480219039531457),\n",
              " (0.4736976137382164, 0.8490053985577612),\n",
              " (0.4734830823238516, 0.8498952149204814),\n",
              " (0.4732760659418004, 0.8508614463260485),\n",
              " (0.47306400609120347, 0.8518596654239702),\n",
              " (0.47285968358491, 0.8527944168783312),\n",
              " (0.47264601968525427, 0.8536875335585166),\n",
              " (0.47243606801578997, 0.8545433312642882),\n",
              " (0.4722303687743331, 0.8553282990798461),\n",
              " (0.47201993791882213, 0.8561175826951661),\n",
              " (0.4717971855594005, 0.8569853123179272),\n",
              " (0.47157869598422597, 0.85773346890022),\n",
              " (0.4713666234707386, 0.8585918053117341),\n",
              " (0.4711479213157038, 0.8593881973031329),\n",
              " (0.4709243671255692, 0.8602236853629651),\n",
              " (0.47070225077397004, 0.861088114668261),\n",
              " (0.4704805757691184, 0.8619944326183069),\n",
              " (0.4702599499100555, 0.8628763789932254),\n",
              " (0.47003875137211376, 0.8637733037320243),\n",
              " (0.469816715476988, 0.8646387485196172),\n",
              " (0.46958191261815185, 0.8656491534051025),\n",
              " (0.46936006714514245, 0.8665008891816863),\n",
              " (0.46913030017342966, 0.8673820739448822),\n",
              " (0.46890788811136386, 0.8683338347277174),\n",
              " (0.4686894458086875, 0.8691490131416103),\n",
              " (0.4684553022831137, 0.8700731020318532),\n",
              " (0.4682319122892128, 0.8708824414225383),\n",
              " (0.4680046366273908, 0.8716196815701387),\n",
              " (0.4677819709725214, 0.8725506249658861),\n",
              " (0.46754784240815594, 0.8733571717802547),\n",
              " (0.4673232108142086, 0.8742056072393734),\n",
              " (0.46709448501543543, 0.8749316770817069),\n",
              " (0.46685972890568356, 0.875859066289415),\n",
              " (0.4666208882102332, 0.8766948082198215),\n",
              " (0.46637751702981367, 0.8775028782576355),\n",
              " (0.4661351366731095, 0.8782698212624223),\n",
              " (0.46590682612555245, 0.8791868017765863),\n",
              " (0.4656832186287576, 0.8800969277852458),\n",
              " (0.46543889432686736, 0.880916675869475),\n",
              " (0.46527104737247793, 0.8814772220974025),\n",
              " (0.4650328958824418, 0.8823832861768741),\n",
              " (0.46479453826177314, 0.8832566009522685),\n",
              " (0.46455760504822424, 0.8840667019546765),\n",
              " (0.4643266742470654, 0.8849224996604481),\n",
              " (0.4640979997790411, 0.8856945200767197),\n",
              " (0.4638441495004019, 0.8864599398580609),\n",
              " (0.4636070762795736, 0.8873746355370569),\n",
              " (0.4633653619488215, 0.8881050211791527),\n",
              " (0.4631293810359785, 0.8888930354416015),\n",
              " (0.46289465937617286, 0.889662771022705),\n",
              " (0.4626538581092127, 0.8905530951265735),\n",
              " (0.4624137624185612, 0.8913322239189239),\n",
              " (0.46215557750768294, 0.8920136125401908),\n",
              " (0.4619186787862488, 0.8929384630421565),\n",
              " (0.4616800656557043, 0.8937767436783054),\n",
              " (0.4614412649931035, 0.8945251541311724),\n",
              " (0.4612029109774065, 0.8953317009455409),\n",
              " (0.4609641148497167, 0.8961877525218869),\n",
              " (0.46073177516569397, 0.8969181381639826),\n",
              " (0.4604880050289036, 0.8977023443678178),\n",
              " (0.46024092883353845, 0.8985954610480031),\n",
              " (0.4599892588567454, 0.8993141686436837),\n",
              " (0.45974545273555467, 0.9000686719903326),\n",
              " (0.4594938791997959, 0.900837392089139),\n",
              " (0.45923790839582984, 0.9015878335066),\n",
              " (0.45899228289924426, 0.9023276123599427),\n",
              " (0.4587434692750342, 0.9030183941924568),\n",
              " (0.45849269429984335, 0.9037172998833465),\n",
              " (0.45824326657911774, 0.9044751035474605),\n",
              " (0.4580013844221211, 0.9052197059417139),\n",
              " (0.45775157011578926, 0.9058670759060323),\n",
              " (0.4574980664468267, 0.9065060681414008),\n",
              " (0.4572492465317165, 0.90725879439403),\n",
              " (0.4570018581153416, 0.9079693781313348),\n",
              " (0.45675109257361585, 0.9086875779858671),\n",
              " (0.4565008691424407, 0.9094524900260598),\n",
              " (0.45624793464615765, 0.9102146094899359),\n",
              " (0.45599823868433315, 0.910876196206412),\n",
              " (0.4557525242953928, 0.9116048047544881),\n",
              " (0.45548063481641776, 0.9123230046090203),\n",
              " (0.45522710635907676, 0.913056436698007),\n",
              " (0.4549644307786215, 0.91372741662573),\n",
              " (0.4547017222453603, 0.9144674493496471),\n",
              " (0.4544307507794282, 0.915109995773055),\n",
              " (0.4541718480417661, 0.9157926537471931),\n",
              " (0.45391490369177073, 0.9165045068373693),\n",
              " (0.4536611255457873, 0.9171267436148377),\n",
              " (0.45339998397235615, 0.917788584201888),\n",
              " (0.4531347960985254, 0.9185468956071505),\n",
              " (0.4528606015796301, 0.9193399872810842),\n",
              " (0.452587981663681, 0.9200485400537952),\n",
              " (0.45230838120507666, 0.9207385602745864),\n",
              " (0.452044743949741, 0.9214671688226626),\n",
              " (0.4517743894399248, 0.9221099691166447),\n",
              " (0.45150407183913466, 0.9227382987878949),\n",
              " (0.4512372663810365, 0.9234656379830999),\n",
              " (0.45095035372126596, 0.9241554043333168),\n",
              " (0.45065936419066627, 0.9248286690962081),\n",
              " (0.45038671496548, 0.9255016799885251),\n",
              " (0.4501183628712651, 0.9261368641652798),\n",
              " (0.4498468102081975, 0.9268702962542666),\n",
              " (0.44957394125510364, 0.9275717406508988),\n",
              " (0.44928435216897683, 0.9282300270499096),\n",
              " (0.4489965266453034, 0.9288631802620706),\n",
              " (0.44870684385635595, 0.9295186740847649),\n",
              " (0.4484256726183915, 0.9301525889086485),\n",
              " (0.44814107738182185, 0.930799958872967),\n",
              " (0.4478646618463943, 0.9313922389226749),\n",
              " (0.4475914870889233, 0.9321594357980358),\n",
              " (0.44731174236037863, 0.9328144218795815),\n",
              " (0.4470365645624228, 0.9334724544080183),\n",
              " (0.44674321476498263, 0.9341518120646913),\n",
              " (0.4464720928675542, 0.9347542469373689),\n",
              " (0.44619810873692545, 0.9354148181715479),\n",
              " (0.4459147038080812, 0.9360832593935285),\n",
              " (0.44563697733953633, 0.9367303754872728),\n",
              " (0.44535226471496303, 0.9373828228630762),\n",
              " (0.4450490867137472, 0.9380482176381659),\n",
              " (0.4447653211570216, 0.9386623305572586),\n",
              " (0.44445976603001214, 0.939347273366565),\n",
              " (0.4441646636551602, 0.9399717949792017),\n",
              " (0.44386798349306583, 0.9405947933683929),\n",
              " (0.44356401010115043, 0.941305630976272),\n",
              " (0.4432667924817671, 0.9420103756903693),\n",
              " (0.44296641097354, 0.9426628230661727),\n",
              " (0.44266149560782403, 0.9432226076823774),\n",
              " (0.4423585530915347, 0.9438321509311338),\n",
              " (0.44204202333542336, 0.9444919605535902),\n",
              " (0.4417380280101195, 0.9451918817267768),\n",
              " (0.44141530981828997, 0.9458659081013908),\n",
              " (0.44110526912635234, 0.9464462562341093),\n",
              " (0.44080270795735477, 0.947024827272808),\n",
              " (0.4404985816203246, 0.9476407172859205),\n",
              " (0.4402015063472581, 0.9482792017801405),\n",
              " (0.43989582090523405, 0.9488778285942044),\n",
              " (0.4395755866528524, 0.9494665544558728),\n",
              " (0.43925446357526454, 0.9500019674969504),\n",
              " (0.438956244952625, 0.9506432445674871),\n",
              " (0.4386318563949089, 0.9512037907954146),\n",
              " (0.4383124743461878, 0.9517854082810042),\n",
              " (0.4379928207341683, 0.9524358246922137),\n",
              " (0.43767844962389296, 0.9530616156577215),\n",
              " (0.43736211477336584, 0.9537001001519415),\n",
              " (0.4370386255867544, 0.9542319590049797),\n",
              " (0.43671180494096334, 0.9548181461609057),\n",
              " (0.4363923071046959, 0.955371076271606),\n",
              " (0.43605974009839077, 0.9559679259916501),\n",
              " (0.43572553619476617, 0.9565393886542701),\n",
              " (0.43539372543495036, 0.9571664489726492),\n",
              " (0.4350703850569179, 0.957708462648657),\n",
              " (0.43473347417055963, 0.9581859931988073),\n",
              " (0.43438553146185804, 0.9587272452630924),\n",
              " (0.4340395291525092, 0.959275351832882),\n",
              " (0.4337027298568129, 0.9598775328349854),\n",
              " (0.43336287619450264, 0.9604373174511902),\n",
              " (0.4330087639783954, 0.9609519131051798),\n",
              " (0.43264478055511874, 0.9615573944247483),\n",
              " (0.4322996967067059, 0.9620788445842425),\n",
              " (0.431958597129199, 0.9626396446827443),\n",
              " (0.4315943352811124, 0.963150178407546),\n",
              " (0.4312467766808633, 0.9636835604840296),\n",
              " (0.430880782049137, 0.9642804102040738),\n",
              " (0.4305260121368474, 0.9648107458336665),\n",
              " (0.4301797532188347, 0.9653634220737926),\n",
              " (0.4298072526079656, 0.9659056896203746),\n",
              " (0.4294259428873456, 0.9664487187786794),\n",
              " (0.42905240582253157, 0.9669356425400767),\n",
              " (0.4286786263143104, 0.967457346570145),\n",
              " (0.4283070732138083, 0.9680745059361286),\n",
              " (0.4279357570200359, 0.9686236279882153),\n",
              " (0.42755783800945935, 0.9691658955347974),\n",
              " (0.4271799989339521, 0.9696787140947674),\n",
              " (0.4267987890477558, 0.9702417990284373),\n",
              " (0.42640888542991406, 0.97074700147118),\n",
              " (0.4262896241129782, 0.970907193803527),\n",
              " (0.4258833272478781, 0.9714009720704287),\n",
              " (0.4254814766881513, 0.9719386699466744),\n",
              " (0.42508531666080296, 0.9724976929511566),\n",
              " (0.4246863945201989, 0.9730353908274023),\n",
              " (0.424293708917744, 0.9735921289967162),\n",
              " (0.42386215334218696, 0.9741029165920921),\n",
              " (0.42344031614574434, 0.9746337599628333),\n",
              " (0.42301371515886543, 0.97517450428597),\n",
              " (0.4225818825546404, 0.9756916386457021),\n",
              " (0.4221483093494087, 0.9762011568882069),\n",
              " (0.4216901302374644, 0.9766560929572494),\n",
              " (0.42125603138891227, 0.977163326364586),\n",
              " (0.42081761188259825, 0.9776637052664181),\n",
              " (0.42036449417101346, 0.9781683999680123),\n",
              " (0.41990738947986317, 0.9786411069772519),\n",
              " (0.4194573226048067, 0.9792057151343674),\n",
              " (0.41899204389353867, 0.9796967008249524),\n",
              " (0.41852063132762424, 0.9801457978707875),\n",
              " (0.4180341901026858, 0.9806639477128165),\n",
              " (0.41754579866264374, 0.9811980914010229),\n",
              " (0.4170654835359153, 0.9817172567253488),\n",
              " (0.41657246800589354, 0.9822846574587809),\n",
              " (0.4160963348460197, 0.9828312408051252),\n",
              " (0.4155705315694549, 0.9832945546031178),\n",
              " (0.4150297762146402, 0.9837456826135468),\n",
              " (0.41450968270679817, 0.9842356528218349),\n",
              " (0.4139731324899557, 0.9847159759483018),\n",
              " (0.41343752286528124, 0.9851998532628081),\n",
              " (0.4128880848393203, 0.9856794147775523),\n",
              " (0.4123312258735097, 0.986132319882001),\n",
              " (0.4117693403922848, 0.9865923333625285),\n",
              " (0.4111898180871238, 0.9870647865011938),\n",
              " (0.41061777244728165, 0.987534954804691),\n",
              " (0.41002893397351814, 0.9879617112399928),\n",
              " (0.4093977885105273, 0.9884816381760415),\n",
              " (0.4087704199163027, 0.9889335277981932),\n",
              " (0.4081471864756808, 0.9893483523165055),\n",
              " (0.4074918199922616, 0.9897766319752527),\n",
              " (0.40683203837399146, 0.9901886639172484),\n",
              " (0.40616441767413514, 0.9906644173733788),\n",
              " (0.4054503672283543, 0.9911145299015109),\n",
              " (0.40471283937086816, 0.9915329086078626),\n",
              " (0.4039293558067186, 0.9919759127599158),\n",
              " (0.4031569170153816, 0.9924437962282449),\n",
              " (0.4023904944836277, 0.992881469098239),\n",
              " (0.4015937264546704, 0.9933658541538938),\n",
              " (0.4007045784724739, 0.9937504680738712),\n",
              " (0.3998029728617943, 0.9941906796496078),\n",
              " (0.398889276955512, 0.9946626250471248),\n",
              " (0.39792512894090504, 0.9950667870013189),\n",
              " (0.3969119536827184, 0.9954851657076705),\n",
              " (0.395812897013188, 0.9958316990415117),\n",
              " (0.3946496756644976, 0.9962038733033513),\n",
              " (0.3934375964788087, 0.996562592424756),\n",
              " (0.39215068951549364, 0.9969286737928137),\n",
              " (0.39064872813807233, 0.9973188728654245),\n",
              " (0.38900230903582234, 0.9976313875423171),\n",
              " ...]"
            ]
          },
          "metadata": {},
          "execution_count": 56
        }
      ]
    },
    {
      "cell_type": "code",
      "source": [
        "points_1 = metrics.get_curve('fMeasureByThreshold')\n",
        "# points_2 = metrics.get_curve('precisionByThreshold')\n",
        "# points_3 = metrics.get_curve('recallByThreshold')\n",
        "\n",
        "plt.figure()\n",
        "x_val = [x[0] for x in points_1]\n",
        "y_val = [x[1] for x in points_1]\n",
        "\n",
        "title = 'f-MeasureByThreshold'\n",
        "xlabel = 'Threshold'\n",
        "ylabel = 'f-Measure'\n",
        "plt.title(title)\n",
        "plt.xlabel(xlabel)\n",
        "plt.ylabel(ylabel)\n",
        "plt.plot(x_val, y_val)"
      ],
      "metadata": {
        "colab": {
          "base_uri": "https://localhost:8080/",
          "height": 333
        },
        "outputId": "f8d0024f-d848-4675-b296-adbb458a6804",
        "id": "hgKVuSZV_00y"
      },
      "execution_count": null,
      "outputs": [
        {
          "output_type": "execute_result",
          "data": {
            "text/plain": [
              "[<matplotlib.lines.Line2D at 0x7f8b739157d0>]"
            ]
          },
          "metadata": {},
          "execution_count": 57
        },
        {
          "output_type": "display_data",
          "data": {
            "text/plain": [
              "<Figure size 432x288 with 1 Axes>"
            ],
            "image/png": "[encoded data removed]"
          },
          "metadata": {}
        }
      ]
    },
    {
      "cell_type": "code",
      "source": [
        "# points_1 = metrics.get_curve('fMeasureByThreshold')\n",
        "points_2 = metrics.get_curve('precisionByThreshold')\n",
        "# points_3 = metrics.get_curve('recallByThreshold')\n",
        "\n",
        "plt.figure()\n",
        "x_val = [x[0] for x in points_2]\n",
        "y_val = [x[1] for x in points_2]\n",
        "\n",
        "title = 'PrecisionByThreshold'\n",
        "xlabel = 'Threshold'\n",
        "ylabel = 'Precision'\n",
        "plt.title(title)\n",
        "plt.xlabel(xlabel)\n",
        "plt.ylabel(ylabel)\n",
        "plt.plot(x_val, y_val)"
      ],
      "metadata": {
        "colab": {
          "base_uri": "https://localhost:8080/",
          "height": 333
        },
        "outputId": "732b62bd-1d3f-4d80-e1aa-3e5f1d198e11",
        "id": "e21BGDCL_00y"
      },
      "execution_count": null,
      "outputs": [
        {
          "output_type": "execute_result",
          "data": {
            "text/plain": [
              "[<matplotlib.lines.Line2D at 0x7f8b739d48d0>]"
            ]
          },
          "metadata": {},
          "execution_count": 58
        },
        {
          "output_type": "display_data",
          "data": {
            "text/plain": [
              "<Figure size 432x288 with 1 Axes>"
            ],
            "image/png": "[encoded data removed]"
          },
          "metadata": {}
        }
      ]
    },
    {
      "cell_type": "code",
      "source": [
        "# points_1 = metrics.get_curve('fMeasureByThreshold')\n",
        "# points_2 = metrics.get_curve('precisionByThreshold')\n",
        "points_3 = metrics.get_curve('recallByThreshold')\n",
        "\n",
        "plt.figure()\n",
        "x_val = [x[0] for x in points_3]\n",
        "y_val = [x[1] for x in points_3]\n",
        "\n",
        "title = 'RecallByThreshold'\n",
        "xlabel = 'Threshold'\n",
        "ylabel = 'Recall'\n",
        "plt.title(title)\n",
        "plt.xlabel(xlabel)\n",
        "plt.ylabel(ylabel)\n",
        "plt.plot(x_val, y_val)"
      ],
      "metadata": {
        "colab": {
          "base_uri": "https://localhost:8080/",
          "height": 333
        },
        "outputId": "8fd55a9f-e4d7-44a8-da93-c640365f1177",
        "id": "QuuJ5fOu_00z"
      },
      "execution_count": null,
      "outputs": [
        {
          "output_type": "execute_result",
          "data": {
            "text/plain": [
              "[<matplotlib.lines.Line2D at 0x7f8b738232d0>]"
            ]
          },
          "metadata": {},
          "execution_count": 59
        },
        {
          "output_type": "display_data",
          "data": {
            "text/plain": [
              "<Figure size 432x288 with 1 Axes>"
            ],
            "image/png": "[encoded data removed]"
          },
          "metadata": {}
        }
      ]
    },
    {
      "cell_type": "markdown",
      "source": [
        "# Model Prediction_different Models(for the future improvement)"
      ],
      "metadata": {
        "id": "TdTW4Ph5-z-v"
      }
    },
    {
      "cell_type": "markdown",
      "metadata": {
        "id": "wF2g_hzJZAV8"
      },
      "source": [
        "## Gradient-Boosted Trees"
      ]
    },
    {
      "cell_type": "code",
      "execution_count": null,
      "metadata": {
        "id": "9E5XfjgHuh6R"
      },
      "outputs": [],
      "source": [
        "from pyspark.ml.regression import GBTRegressor\n",
        "# gb = GBTRegressor(featuresCol = 'features_vec', labelCol='delay_ArrDelay', maxDepth=10)\n",
        "gb = GBTRegressor(featuresCol = 'features_vec', labelCol='delay_DepDelay', maxDepth=10)"
      ]
    },
    {
      "cell_type": "code",
      "execution_count": null,
      "metadata": {
        "id": "ixXHlTfmumA1"
      },
      "outputs": [],
      "source": [
        "from pyspark.ml.evaluation import RegressionEvaluator\n",
        "# gb_evaluator = RegressionEvaluator(predictionCol=\"prediction\", labelCol=\"delay_ArrDelay\", metricName=\"r2\")\n",
        "gb_evaluator = RegressionEvaluator(predictionCol=\"prediction\", labelCol=\"delay_DepDelay\", metricName=\"r2\")"
      ]
    },
    {
      "cell_type": "code",
      "execution_count": null,
      "metadata": {
        "id": "9pC_iyfMuqi0"
      },
      "outputs": [],
      "source": [
        "gbparamGrid = (ParamGridBuilder().addGrid(gb.maxBins, [10, 20, 40]).addGrid(gb.maxIter, [5, 10, 20]).build())"
      ]
    },
    {
      "cell_type": "code",
      "execution_count": null,
      "metadata": {
        "id": "IMZIwcZqutNJ"
      },
      "outputs": [],
      "source": [
        "from pyspark.ml.evaluation import RegressionEvaluator\n",
        "gbv = TrainValidationSplit(estimator=gb,estimatorParamMaps = gbparamGrid,evaluator=gb_evaluator,trainRatio=0.8)\n",
        "gb_model = gbv.fit(train_df)"
      ]
    },
    {
      "cell_type": "markdown",
      "source": [
        "## LinearRegression_classification_TrainValidationSplit"
      ],
      "metadata": {
        "id": "dLW_cEWpQNfI"
      }
    },
    {
      "cell_type": "code",
      "source": [
        "from pyspark.ml.classification import LogisticRegression\n",
        "from pyspark.ml.evaluation import BinaryClassificationEvaluator\n",
        "from pyspark.ml.tuning import CrossValidator, ParamGridBuilder\n",
        "import numpy as np\n",
        "lr = LogisticRegression(featuresCol = 'features', labelCol='delay_DepDelay', maxIter=1000)"
      ],
      "metadata": {
        "id": "vS1ynJLVQN13"
      },
      "execution_count": null,
      "outputs": []
    },
    {
      "cell_type": "code",
      "execution_count": null,
      "metadata": {
        "id": "pkbOkOsS0SEm"
      },
      "outputs": [],
      "source": [
        "# from pyspark.ml.evaluation import RegressionEvaluator\n",
        "lr_evaluator = BinaryClassificationEvaluator(rawPredictionCol='prediction', labelCol='label', metricName='areaUnderROC')"
      ]
    },
    {
      "cell_type": "code",
      "execution_count": null,
      "metadata": {
        "id": "eczGw8GCz7Ky"
      },
      "outputs": [],
      "source": [
        "from pyspark.ml.tuning import ParamGridBuilder, TrainValidationSplit\n",
        "lrparamGrid = (ParamGridBuilder().addGrid(lr.regParam, [0.001, 0.01, 0.1, 0.5, 1.0, 2.0]).addGrid(lr.elasticNetParam, [0.0, 0.25, 0.5, 0.75, 1.0])\n",
        "             .build())"
      ]
    },
    {
      "cell_type": "code",
      "execution_count": null,
      "metadata": {
        "id": "1ZqEAQ6qz-5X"
      },
      "outputs": [],
      "source": [
        "from pyspark.ml.evaluation import RegressionEvaluator\n",
        "lrv = TrainValidationSplit(estimator=lr,estimatorParamMaps = lrparamGrid,evaluator=lr_evaluator,trainRatio=0.8)\n",
        "lr_model = lrv.fit(train_df)"
      ]
    },
    {
      "cell_type": "code",
      "execution_count": null,
      "metadata": {
        "id": "KHZ6GK9_2wLg"
      },
      "outputs": [],
      "source": [
        "from pyspark.ml.evaluation import BinaryClassificationEvaluator\n",
        "evaluator = BinaryClassificationEvaluator()\n",
        "print('Test Area Under ROC', evaluator.evaluate(predictions))"
      ]
    }
  ],
  "metadata": {
    "accelerator": "GPU",
    "colab": {
      "collapsed_sections": [
        "_FivElJpUqf9",
        "AZsu3rryp3ZQ",
        "0mbnmhhaWg-b",
        "Je91MRqD0fty",
        "rETHHQPRgTNB",
        "nApBv6On0Pkj",
        "B02_Os-g0UOC",
        "L3BL0_Hi5pH9",
        "mR8LB2nT5xlE",
        "W0-IRmWh71gV",
        "LdU4zCcPr4ur",
        "dN2k2ZutPQ-E",
        "9XqFzFaP7f-V",
        "TdTW4Ph5-z-v",
        "wF2g_hzJZAV8",
        "dLW_cEWpQNfI"
      ],
      "name": "HW4_310712009_Code.ipynb",
      "toc_visible": true,
      "provenance": []
    },
    "kernelspec": {
      "display_name": "Python 3",
      "name": "python3"
    },
    "language_info": {
      "name": "python"
    }
  },
  "nbformat": 4,
  "nbformat_minor": 0
}